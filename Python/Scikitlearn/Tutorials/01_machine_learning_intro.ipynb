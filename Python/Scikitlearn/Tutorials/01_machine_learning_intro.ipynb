{
 "cells": [
  {
   "cell_type": "markdown",
   "metadata": {},
   "source": [
    "# What is machine learning, and how does it work?"
   ]
  },
  {
   "cell_type": "markdown",
   "metadata": {},
   "source": [
    "Machine learning is a subfield of artificial intelligence (AI). The goal of machine learning generally is to understand the structure of data and fit that data into models that can be understood and utilized by people.\n",
    "\n",
    "Although machine learning is a field within computer science, it differs from traditional computational approaches. In traditional computing, algorithms are sets of explicitly programmed instructions used by computers to calculate or problem solve. Machine learning algorithms instead allow for computers to train on data inputs and use statistical analysis in order to output values that fall within a specific range. Because of this, machine learning facilitates computers in building models from sample data in order to automate decision-making processes based on data inputs."
   ]
  },
  {
   "cell_type": "markdown",
   "metadata": {},
   "source": [
    "There are many examples of machine learning. Here are a few examples of classification problems where the goal is to categorize objects into a fixed set of categories.\n",
    "\n",
    "* Face detection: Identify faces in images (or indicate if a face is present).\n",
    "\n",
    "* Email filtering: Classify emails into spam and not-spam.\n",
    "\n",
    "* Medical diagnosis: Diagnose a patient as a sufferer or non-sufferer of some disease.\n",
    "\n",
    "* Weather prediction: Predict, for instance, whether or not it will rain tomorrow."
   ]
  },
  {
   "cell_type": "markdown",
   "metadata": {},
   "source": [
    "## Kinds of Machine Learning\n",
    "There are three kinds of Machine Learning Algorithms.\n",
    "\n",
    "* Supervised Learning\n",
    "\n",
    "* Unsupervised Learning\n",
    "\n",
    "* Reinforcement Learning"
   ]
  },
  {
   "cell_type": "markdown",
   "metadata": {},
   "source": [
    "### Supervised Learning\n",
    "\n",
    "A majority of practical machine learning uses supervised learning.\n",
    "\n",
    "In supervised learning, the system tries to learn from the previous examples that are given. (On the other hand, in unsupervised learning, the system attempts to find the patterns directly from the example given.)\n",
    "\n",
    "Speaking mathematically, supervised learning is where you have both input variables (x) and output variables(Y) and can use an algorithm to derive the mapping function from the input to the output.\n",
    "\n",
    "The mapping function is expressed as Y = f(X).\n",
    "\n",
    "![Supervised learning](images/01_supervised_learning.png)\n"
   ]
  },
  {
   "cell_type": "markdown",
   "metadata": {},
   "source": [
    "Supervised learning problems can be further divided into two parts, namely classification, and regression."
   ]
  },
  {
   "cell_type": "markdown",
   "metadata": {},
   "source": [
    "* __Classification:__ A classification problem is when the output variable is a category or a group, such as “black” or “white” or “spam” and “no spam”.\n",
    "\n",
    "* __Regression:__ A regression problem is when the output variable is a real value, such as “Rupees” or “height.”"
   ]
  },
  {
   "cell_type": "markdown",
   "metadata": {},
   "source": [
    "### Unsupervised Learning\n",
    "\n",
    "In unsupervised learning, the algorithms are left to themselves to discover interesting structures in the data.\n",
    "\n",
    "Mathematically, unsupervised learning is when you only have input data (X) and no corresponding output variables.\n",
    "\n",
    "This is called unsupervised learning because unlike supervised learning above, there are no given correct answers and the machine itself finds the answers.\n",
    "\n",
    "Unsupervised learning problems can be further divided into association and clustering problems.\n",
    "\n",
    "**Association:** An association rule learning problem is where you want to discover rules that describe large portions of your data, such as “people that buy X also tend to buy Y”.\n",
    "\n",
    "**Clustering:** A clustering problem is where you want to discover the inherent groupings in the data, such as grouping customers by purchasing behaviour."
   ]
  },
  {
   "cell_type": "markdown",
   "metadata": {},
   "source": [
    "### Reinforcement Learning\n",
    "\n",
    "A computer program will interact with a dynamic environment in which it must perform a particular goal (such as playing a game with an opponent or driving a car). The program is provided feedback in terms of rewards and punishments as it navigates its problem space.\n",
    "\n",
    "Using this algorithm, the machine is trained to make specific decisions. It works this way: the machine is exposed to an environment where it continuously trains itself using trial and error method.\n",
    "\n",
    "Example:\n",
    "\n",
    "![Reinforcement Learning](images/01_reinforcement_learning.png)"
   ]
  },
  {
   "cell_type": "markdown",
   "metadata": {},
   "source": [
    "# A roadmap for building machine learning systems"
   ]
  },
  {
   "cell_type": "markdown",
   "metadata": {},
   "source": [
    "<img src=\"images/01_ml-roadmap.png\"  width=\"500\" height=\"500\">"
   ]
  }
 ],
 "metadata": {
  "kernelspec": {
   "display_name": "Python 3",
   "language": "python",
   "name": "python3"
  },
  "language_info": {
   "codemirror_mode": {
    "name": "ipython",
    "version": 3
   },
   "file_extension": ".py",
   "mimetype": "text/x-python",
   "name": "python",
   "nbconvert_exporter": "python",
   "pygments_lexer": "ipython3",
   "version": "3.6.7"
  }
 },
 "nbformat": 4,
 "nbformat_minor": 2
}
