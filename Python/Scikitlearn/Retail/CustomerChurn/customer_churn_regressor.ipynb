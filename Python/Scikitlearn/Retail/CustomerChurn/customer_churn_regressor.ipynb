{
 "cells": [
  {
   "cell_type": "markdown",
   "metadata": {},
   "source": [
    "# Deep Learning With Scikit Learn To Predict Customer Churn"
   ]
  },
  {
   "cell_type": "markdown",
   "metadata": {},
   "source": [
    "Using Scikit-Learn to predict customer churn based on the IBM Watson Telco Customer Churn dataset. "
   ]
  },
  {
   "cell_type": "markdown",
   "metadata": {},
   "source": [
    "### Load Libraries"
   ]
  },
  {
   "cell_type": "code",
   "execution_count": 2,
   "metadata": {},
   "outputs": [],
   "source": [
    "import pandas as pd\n",
    "import numpy as np\n",
    "import matplotlib.pyplot as plt\n",
    "import warnings\n",
    "warnings.filterwarnings(\"ignore\")"
   ]
  },
  {
   "cell_type": "markdown",
   "metadata": {},
   "source": [
    "### Import Data"
   ]
  },
  {
   "cell_type": "code",
   "execution_count": 3,
   "metadata": {},
   "outputs": [],
   "source": [
    "churn_data_raw = pd.read_csv(\"Telco_Customer_Churn.csv\")"
   ]
  },
  {
   "cell_type": "code",
   "execution_count": 4,
   "metadata": {},
   "outputs": [
    {
     "data": {
      "text/html": [
       "<div>\n",
       "<style scoped>\n",
       "    .dataframe tbody tr th:only-of-type {\n",
       "        vertical-align: middle;\n",
       "    }\n",
       "\n",
       "    .dataframe tbody tr th {\n",
       "        vertical-align: top;\n",
       "    }\n",
       "\n",
       "    .dataframe thead th {\n",
       "        text-align: right;\n",
       "    }\n",
       "</style>\n",
       "<table border=\"1\" class=\"dataframe\">\n",
       "  <thead>\n",
       "    <tr style=\"text-align: right;\">\n",
       "      <th></th>\n",
       "      <th>customerID</th>\n",
       "      <th>gender</th>\n",
       "      <th>SeniorCitizen</th>\n",
       "      <th>Partner</th>\n",
       "      <th>Dependents</th>\n",
       "      <th>tenure</th>\n",
       "      <th>PhoneService</th>\n",
       "      <th>MultipleLines</th>\n",
       "      <th>InternetService</th>\n",
       "      <th>OnlineSecurity</th>\n",
       "      <th>...</th>\n",
       "      <th>DeviceProtection</th>\n",
       "      <th>TechSupport</th>\n",
       "      <th>StreamingTV</th>\n",
       "      <th>StreamingMovies</th>\n",
       "      <th>Contract</th>\n",
       "      <th>PaperlessBilling</th>\n",
       "      <th>PaymentMethod</th>\n",
       "      <th>MonthlyCharges</th>\n",
       "      <th>TotalCharges</th>\n",
       "      <th>Churn</th>\n",
       "    </tr>\n",
       "  </thead>\n",
       "  <tbody>\n",
       "    <tr>\n",
       "      <th>0</th>\n",
       "      <td>7590-VHVEG</td>\n",
       "      <td>Female</td>\n",
       "      <td>0</td>\n",
       "      <td>Yes</td>\n",
       "      <td>No</td>\n",
       "      <td>1</td>\n",
       "      <td>No</td>\n",
       "      <td>No phone service</td>\n",
       "      <td>DSL</td>\n",
       "      <td>No</td>\n",
       "      <td>...</td>\n",
       "      <td>No</td>\n",
       "      <td>No</td>\n",
       "      <td>No</td>\n",
       "      <td>No</td>\n",
       "      <td>Month-to-month</td>\n",
       "      <td>Yes</td>\n",
       "      <td>Electronic check</td>\n",
       "      <td>29.85</td>\n",
       "      <td>29.85</td>\n",
       "      <td>No</td>\n",
       "    </tr>\n",
       "    <tr>\n",
       "      <th>1</th>\n",
       "      <td>5575-GNVDE</td>\n",
       "      <td>Male</td>\n",
       "      <td>0</td>\n",
       "      <td>No</td>\n",
       "      <td>No</td>\n",
       "      <td>34</td>\n",
       "      <td>Yes</td>\n",
       "      <td>No</td>\n",
       "      <td>DSL</td>\n",
       "      <td>Yes</td>\n",
       "      <td>...</td>\n",
       "      <td>Yes</td>\n",
       "      <td>No</td>\n",
       "      <td>No</td>\n",
       "      <td>No</td>\n",
       "      <td>One year</td>\n",
       "      <td>No</td>\n",
       "      <td>Mailed check</td>\n",
       "      <td>56.95</td>\n",
       "      <td>1889.5</td>\n",
       "      <td>No</td>\n",
       "    </tr>\n",
       "    <tr>\n",
       "      <th>2</th>\n",
       "      <td>3668-QPYBK</td>\n",
       "      <td>Male</td>\n",
       "      <td>0</td>\n",
       "      <td>No</td>\n",
       "      <td>No</td>\n",
       "      <td>2</td>\n",
       "      <td>Yes</td>\n",
       "      <td>No</td>\n",
       "      <td>DSL</td>\n",
       "      <td>Yes</td>\n",
       "      <td>...</td>\n",
       "      <td>No</td>\n",
       "      <td>No</td>\n",
       "      <td>No</td>\n",
       "      <td>No</td>\n",
       "      <td>Month-to-month</td>\n",
       "      <td>Yes</td>\n",
       "      <td>Mailed check</td>\n",
       "      <td>53.85</td>\n",
       "      <td>108.15</td>\n",
       "      <td>Yes</td>\n",
       "    </tr>\n",
       "    <tr>\n",
       "      <th>3</th>\n",
       "      <td>7795-CFOCW</td>\n",
       "      <td>Male</td>\n",
       "      <td>0</td>\n",
       "      <td>No</td>\n",
       "      <td>No</td>\n",
       "      <td>45</td>\n",
       "      <td>No</td>\n",
       "      <td>No phone service</td>\n",
       "      <td>DSL</td>\n",
       "      <td>Yes</td>\n",
       "      <td>...</td>\n",
       "      <td>Yes</td>\n",
       "      <td>Yes</td>\n",
       "      <td>No</td>\n",
       "      <td>No</td>\n",
       "      <td>One year</td>\n",
       "      <td>No</td>\n",
       "      <td>Bank transfer (automatic)</td>\n",
       "      <td>42.30</td>\n",
       "      <td>1840.75</td>\n",
       "      <td>No</td>\n",
       "    </tr>\n",
       "    <tr>\n",
       "      <th>4</th>\n",
       "      <td>9237-HQITU</td>\n",
       "      <td>Female</td>\n",
       "      <td>0</td>\n",
       "      <td>No</td>\n",
       "      <td>No</td>\n",
       "      <td>2</td>\n",
       "      <td>Yes</td>\n",
       "      <td>No</td>\n",
       "      <td>Fiber optic</td>\n",
       "      <td>No</td>\n",
       "      <td>...</td>\n",
       "      <td>No</td>\n",
       "      <td>No</td>\n",
       "      <td>No</td>\n",
       "      <td>No</td>\n",
       "      <td>Month-to-month</td>\n",
       "      <td>Yes</td>\n",
       "      <td>Electronic check</td>\n",
       "      <td>70.70</td>\n",
       "      <td>151.65</td>\n",
       "      <td>Yes</td>\n",
       "    </tr>\n",
       "  </tbody>\n",
       "</table>\n",
       "<p>5 rows × 21 columns</p>\n",
       "</div>"
      ],
      "text/plain": [
       "   customerID  gender  SeniorCitizen Partner Dependents  tenure PhoneService  \\\n",
       "0  7590-VHVEG  Female              0     Yes         No       1           No   \n",
       "1  5575-GNVDE    Male              0      No         No      34          Yes   \n",
       "2  3668-QPYBK    Male              0      No         No       2          Yes   \n",
       "3  7795-CFOCW    Male              0      No         No      45           No   \n",
       "4  9237-HQITU  Female              0      No         No       2          Yes   \n",
       "\n",
       "      MultipleLines InternetService OnlineSecurity  ... DeviceProtection  \\\n",
       "0  No phone service             DSL             No  ...               No   \n",
       "1                No             DSL            Yes  ...              Yes   \n",
       "2                No             DSL            Yes  ...               No   \n",
       "3  No phone service             DSL            Yes  ...              Yes   \n",
       "4                No     Fiber optic             No  ...               No   \n",
       "\n",
       "  TechSupport StreamingTV StreamingMovies        Contract PaperlessBilling  \\\n",
       "0          No          No              No  Month-to-month              Yes   \n",
       "1          No          No              No        One year               No   \n",
       "2          No          No              No  Month-to-month              Yes   \n",
       "3         Yes          No              No        One year               No   \n",
       "4          No          No              No  Month-to-month              Yes   \n",
       "\n",
       "               PaymentMethod MonthlyCharges  TotalCharges Churn  \n",
       "0           Electronic check          29.85         29.85    No  \n",
       "1               Mailed check          56.95        1889.5    No  \n",
       "2               Mailed check          53.85        108.15   Yes  \n",
       "3  Bank transfer (automatic)          42.30       1840.75    No  \n",
       "4           Electronic check          70.70        151.65   Yes  \n",
       "\n",
       "[5 rows x 21 columns]"
      ]
     },
     "execution_count": 4,
     "metadata": {},
     "output_type": "execute_result"
    }
   ],
   "source": [
    "churn_data_raw.head()"
   ]
  },
  {
   "cell_type": "markdown",
   "metadata": {},
   "source": [
    "Here we apply the info() function to observe if there are empty cells in our data."
   ]
  },
  {
   "cell_type": "code",
   "execution_count": 5,
   "metadata": {},
   "outputs": [
    {
     "name": "stdout",
     "output_type": "stream",
     "text": [
      "<class 'pandas.core.frame.DataFrame'>\n",
      "RangeIndex: 7043 entries, 0 to 7042\n",
      "Data columns (total 21 columns):\n",
      "customerID          7043 non-null object\n",
      "gender              7043 non-null object\n",
      "SeniorCitizen       7043 non-null int64\n",
      "Partner             7043 non-null object\n",
      "Dependents          7043 non-null object\n",
      "tenure              7043 non-null int64\n",
      "PhoneService        7043 non-null object\n",
      "MultipleLines       7043 non-null object\n",
      "InternetService     7043 non-null object\n",
      "OnlineSecurity      7043 non-null object\n",
      "OnlineBackup        7043 non-null object\n",
      "DeviceProtection    7043 non-null object\n",
      "TechSupport         7043 non-null object\n",
      "StreamingTV         7043 non-null object\n",
      "StreamingMovies     7043 non-null object\n",
      "Contract            7043 non-null object\n",
      "PaperlessBilling    7043 non-null object\n",
      "PaymentMethod       7043 non-null object\n",
      "MonthlyCharges      7043 non-null float64\n",
      "TotalCharges        7043 non-null object\n",
      "Churn               7043 non-null object\n",
      "dtypes: float64(1), int64(2), object(18)\n",
      "memory usage: 1.1+ MB\n"
     ]
    }
   ],
   "source": [
    "churn_data_raw.info()"
   ]
  },
  {
   "cell_type": "markdown",
   "metadata": {},
   "source": [
    "### Preprocess Data"
   ]
  },
  {
   "cell_type": "markdown",
   "metadata": {},
   "source": [
    "__Purne the data__\n",
    "\n",
    "The data has a few columns and rows we’d like to remove:\n",
    "\n",
    "The “customerID” column is a unique identifier for each observation that isn’t needed for modeling. We can de-select this column.\n",
    "The data has 11 NA values all in the “TotalCharges” column. Because it’s such a small percentage of the total population (99.8% complete cases), \n",
    "we can drop these observations with the drop_na() function from tidyr. Note that these may be customers that have not yet been charged, \n",
    "and therefore an alternative is to replace with zero or -99 to segregate this population from the rest."
   ]
  },
  {
   "cell_type": "code",
   "execution_count": 6,
   "metadata": {},
   "outputs": [
    {
     "name": "stdout",
     "output_type": "stream",
     "text": [
      "Missing values:  11\n"
     ]
    }
   ],
   "source": [
    "# Remove customerId\n",
    "churn_data_raw.pop(\"customerID\")\n",
    "#churn_data_raw.drop(churn_data_raw.columns[0], axis=1)\n",
    "\n",
    "# In order to handle missing values, we need to replace the 'blank spaces' value with a numpy NaN value\n",
    "churn_data_raw.replace(' ', np.nan, inplace=True)\n",
    "\n",
    "# Print how many missing values contains TotalCharges.\n",
    "print(\"Missing values: \", churn_data_raw['TotalCharges'].isnull().sum())\n",
    "\n",
    "# We remove the ovservations that contain missing values since it's a small percentage of the population\n",
    "churn_data_raw = churn_data_raw[pd.notnull(churn_data_raw['TotalCharges'])]\n",
    "\n",
    "# We convert TotalCharges as a float type\n",
    "churn_data_raw['TotalCharges'] = churn_data_raw.TotalCharges.astype(float)"
   ]
  },
  {
   "cell_type": "code",
   "execution_count": 7,
   "metadata": {},
   "outputs": [
    {
     "data": {
      "text/html": [
       "<div>\n",
       "<style scoped>\n",
       "    .dataframe tbody tr th:only-of-type {\n",
       "        vertical-align: middle;\n",
       "    }\n",
       "\n",
       "    .dataframe tbody tr th {\n",
       "        vertical-align: top;\n",
       "    }\n",
       "\n",
       "    .dataframe thead th {\n",
       "        text-align: right;\n",
       "    }\n",
       "</style>\n",
       "<table border=\"1\" class=\"dataframe\">\n",
       "  <thead>\n",
       "    <tr style=\"text-align: right;\">\n",
       "      <th></th>\n",
       "      <th>SeniorCitizen</th>\n",
       "      <th>tenure</th>\n",
       "      <th>MonthlyCharges</th>\n",
       "      <th>TotalCharges</th>\n",
       "    </tr>\n",
       "  </thead>\n",
       "  <tbody>\n",
       "    <tr>\n",
       "      <th>count</th>\n",
       "      <td>7032.000000</td>\n",
       "      <td>7032.000000</td>\n",
       "      <td>7032.000000</td>\n",
       "      <td>7032.000000</td>\n",
       "    </tr>\n",
       "    <tr>\n",
       "      <th>mean</th>\n",
       "      <td>0.162400</td>\n",
       "      <td>32.421786</td>\n",
       "      <td>64.798208</td>\n",
       "      <td>2283.300441</td>\n",
       "    </tr>\n",
       "    <tr>\n",
       "      <th>std</th>\n",
       "      <td>0.368844</td>\n",
       "      <td>24.545260</td>\n",
       "      <td>30.085974</td>\n",
       "      <td>2266.771362</td>\n",
       "    </tr>\n",
       "    <tr>\n",
       "      <th>min</th>\n",
       "      <td>0.000000</td>\n",
       "      <td>1.000000</td>\n",
       "      <td>18.250000</td>\n",
       "      <td>18.800000</td>\n",
       "    </tr>\n",
       "    <tr>\n",
       "      <th>25%</th>\n",
       "      <td>0.000000</td>\n",
       "      <td>9.000000</td>\n",
       "      <td>35.587500</td>\n",
       "      <td>401.450000</td>\n",
       "    </tr>\n",
       "    <tr>\n",
       "      <th>50%</th>\n",
       "      <td>0.000000</td>\n",
       "      <td>29.000000</td>\n",
       "      <td>70.350000</td>\n",
       "      <td>1397.475000</td>\n",
       "    </tr>\n",
       "    <tr>\n",
       "      <th>75%</th>\n",
       "      <td>0.000000</td>\n",
       "      <td>55.000000</td>\n",
       "      <td>89.862500</td>\n",
       "      <td>3794.737500</td>\n",
       "    </tr>\n",
       "    <tr>\n",
       "      <th>max</th>\n",
       "      <td>1.000000</td>\n",
       "      <td>72.000000</td>\n",
       "      <td>118.750000</td>\n",
       "      <td>8684.800000</td>\n",
       "    </tr>\n",
       "  </tbody>\n",
       "</table>\n",
       "</div>"
      ],
      "text/plain": [
       "       SeniorCitizen       tenure  MonthlyCharges  TotalCharges\n",
       "count    7032.000000  7032.000000     7032.000000   7032.000000\n",
       "mean        0.162400    32.421786       64.798208   2283.300441\n",
       "std         0.368844    24.545260       30.085974   2266.771362\n",
       "min         0.000000     1.000000       18.250000     18.800000\n",
       "25%         0.000000     9.000000       35.587500    401.450000\n",
       "50%         0.000000    29.000000       70.350000   1397.475000\n",
       "75%         0.000000    55.000000       89.862500   3794.737500\n",
       "max         1.000000    72.000000      118.750000   8684.800000"
      ]
     },
     "execution_count": 7,
     "metadata": {},
     "output_type": "execute_result"
    }
   ],
   "source": [
    "churn_data_raw.describe()"
   ]
  },
  {
   "cell_type": "markdown",
   "metadata": {},
   "source": [
    "### Exploration: What Transformation Steps Are Needed For ML?"
   ]
  },
  {
   "cell_type": "markdown",
   "metadata": {},
   "source": [
    "This phase of the analysis is often called exploratory analysis, but basically we are trying to answer the question, “What steps are needed to prepare for ML?” The key concept is knowing what transformations are needed to run the algorithm most effectively. Artificial Neural Networks are best when the data is one-hot encoded, scaled and centered. In addition, other transformations may be beneficial as well to make relationships easier for the algorithm to identify."
   ]
  },
  {
   "cell_type": "markdown",
   "metadata": {},
   "source": [
    "__Discretize the “Tenure” feature__\n",
    "\n",
    "Numeric features like age, years worked, length of time in a position can generalize a group (or cohort). We see this in marketing a lot (think “millennials”, which identifies a group born in a certain timeframe). The “tenure” feature falls into this category of numeric features that can be discretized into groups."
   ]
  },
  {
   "cell_type": "code",
   "execution_count": 8,
   "metadata": {},
   "outputs": [
    {
     "data": {
      "text/plain": [
       "<matplotlib.axes._subplots.AxesSubplot at 0x11e73c080>"
      ]
     },
     "execution_count": 8,
     "metadata": {},
     "output_type": "execute_result"
    },
    {
     "data": {
      "image/png": "[encoded data removed]",
      "text/plain": [
       "<Figure size 432x288 with 1 Axes>"
      ]
     },
     "metadata": {
      "needs_background": "light"
     },
     "output_type": "display_data"
    }
   ],
   "source": [
    "# We plot the Tenure Counts Without Binning\n",
    "churn_data_raw[\"tenure\"].plot(kind=\"hist\", title = \"Tenure Counts Without Binning\")"
   ]
  },
  {
   "cell_type": "markdown",
   "metadata": {},
   "source": [
    "We can split into six cohorts that divide up the user base by tenure in roughly one year (12 month) increments. This should help the ML algorithm detect if a group is more/less susceptible to customer churn."
   ]
  },
  {
   "cell_type": "code",
   "execution_count": 9,
   "metadata": {},
   "outputs": [
    {
     "data": {
      "text/html": [
       "<div>\n",
       "<style scoped>\n",
       "    .dataframe tbody tr th:only-of-type {\n",
       "        vertical-align: middle;\n",
       "    }\n",
       "\n",
       "    .dataframe tbody tr th {\n",
       "        vertical-align: top;\n",
       "    }\n",
       "\n",
       "    .dataframe thead th {\n",
       "        text-align: right;\n",
       "    }\n",
       "</style>\n",
       "<table border=\"1\" class=\"dataframe\">\n",
       "  <thead>\n",
       "    <tr style=\"text-align: right;\">\n",
       "      <th></th>\n",
       "      <th>gender</th>\n",
       "      <th>SeniorCitizen</th>\n",
       "      <th>Partner</th>\n",
       "      <th>Dependents</th>\n",
       "      <th>tenure</th>\n",
       "      <th>PhoneService</th>\n",
       "      <th>MultipleLines</th>\n",
       "      <th>InternetService</th>\n",
       "      <th>OnlineSecurity</th>\n",
       "      <th>OnlineBackup</th>\n",
       "      <th>DeviceProtection</th>\n",
       "      <th>TechSupport</th>\n",
       "      <th>StreamingTV</th>\n",
       "      <th>StreamingMovies</th>\n",
       "      <th>Contract</th>\n",
       "      <th>PaperlessBilling</th>\n",
       "      <th>PaymentMethod</th>\n",
       "      <th>MonthlyCharges</th>\n",
       "      <th>TotalCharges</th>\n",
       "      <th>Churn</th>\n",
       "    </tr>\n",
       "  </thead>\n",
       "  <tbody>\n",
       "    <tr>\n",
       "      <th>0</th>\n",
       "      <td>Female</td>\n",
       "      <td>0</td>\n",
       "      <td>Yes</td>\n",
       "      <td>No</td>\n",
       "      <td>(0.999, 4.0]</td>\n",
       "      <td>No</td>\n",
       "      <td>No phone service</td>\n",
       "      <td>DSL</td>\n",
       "      <td>No</td>\n",
       "      <td>Yes</td>\n",
       "      <td>No</td>\n",
       "      <td>No</td>\n",
       "      <td>No</td>\n",
       "      <td>No</td>\n",
       "      <td>Month-to-month</td>\n",
       "      <td>Yes</td>\n",
       "      <td>Electronic check</td>\n",
       "      <td>29.85</td>\n",
       "      <td>29.85</td>\n",
       "      <td>No</td>\n",
       "    </tr>\n",
       "    <tr>\n",
       "      <th>1</th>\n",
       "      <td>Male</td>\n",
       "      <td>0</td>\n",
       "      <td>No</td>\n",
       "      <td>No</td>\n",
       "      <td>(29.0, 47.0]</td>\n",
       "      <td>Yes</td>\n",
       "      <td>No</td>\n",
       "      <td>DSL</td>\n",
       "      <td>Yes</td>\n",
       "      <td>No</td>\n",
       "      <td>Yes</td>\n",
       "      <td>No</td>\n",
       "      <td>No</td>\n",
       "      <td>No</td>\n",
       "      <td>One year</td>\n",
       "      <td>No</td>\n",
       "      <td>Mailed check</td>\n",
       "      <td>56.95</td>\n",
       "      <td>1889.50</td>\n",
       "      <td>No</td>\n",
       "    </tr>\n",
       "    <tr>\n",
       "      <th>2</th>\n",
       "      <td>Male</td>\n",
       "      <td>0</td>\n",
       "      <td>No</td>\n",
       "      <td>No</td>\n",
       "      <td>(0.999, 4.0]</td>\n",
       "      <td>Yes</td>\n",
       "      <td>No</td>\n",
       "      <td>DSL</td>\n",
       "      <td>Yes</td>\n",
       "      <td>Yes</td>\n",
       "      <td>No</td>\n",
       "      <td>No</td>\n",
       "      <td>No</td>\n",
       "      <td>No</td>\n",
       "      <td>Month-to-month</td>\n",
       "      <td>Yes</td>\n",
       "      <td>Mailed check</td>\n",
       "      <td>53.85</td>\n",
       "      <td>108.15</td>\n",
       "      <td>Yes</td>\n",
       "    </tr>\n",
       "    <tr>\n",
       "      <th>3</th>\n",
       "      <td>Male</td>\n",
       "      <td>0</td>\n",
       "      <td>No</td>\n",
       "      <td>No</td>\n",
       "      <td>(29.0, 47.0]</td>\n",
       "      <td>No</td>\n",
       "      <td>No phone service</td>\n",
       "      <td>DSL</td>\n",
       "      <td>Yes</td>\n",
       "      <td>No</td>\n",
       "      <td>Yes</td>\n",
       "      <td>Yes</td>\n",
       "      <td>No</td>\n",
       "      <td>No</td>\n",
       "      <td>One year</td>\n",
       "      <td>No</td>\n",
       "      <td>Bank transfer (automatic)</td>\n",
       "      <td>42.30</td>\n",
       "      <td>1840.75</td>\n",
       "      <td>No</td>\n",
       "    </tr>\n",
       "    <tr>\n",
       "      <th>4</th>\n",
       "      <td>Female</td>\n",
       "      <td>0</td>\n",
       "      <td>No</td>\n",
       "      <td>No</td>\n",
       "      <td>(0.999, 4.0]</td>\n",
       "      <td>Yes</td>\n",
       "      <td>No</td>\n",
       "      <td>Fiber optic</td>\n",
       "      <td>No</td>\n",
       "      <td>No</td>\n",
       "      <td>No</td>\n",
       "      <td>No</td>\n",
       "      <td>No</td>\n",
       "      <td>No</td>\n",
       "      <td>Month-to-month</td>\n",
       "      <td>Yes</td>\n",
       "      <td>Electronic check</td>\n",
       "      <td>70.70</td>\n",
       "      <td>151.65</td>\n",
       "      <td>Yes</td>\n",
       "    </tr>\n",
       "    <tr>\n",
       "      <th>5</th>\n",
       "      <td>Female</td>\n",
       "      <td>0</td>\n",
       "      <td>No</td>\n",
       "      <td>No</td>\n",
       "      <td>(4.0, 14.0]</td>\n",
       "      <td>Yes</td>\n",
       "      <td>Yes</td>\n",
       "      <td>Fiber optic</td>\n",
       "      <td>No</td>\n",
       "      <td>No</td>\n",
       "      <td>Yes</td>\n",
       "      <td>No</td>\n",
       "      <td>Yes</td>\n",
       "      <td>Yes</td>\n",
       "      <td>Month-to-month</td>\n",
       "      <td>Yes</td>\n",
       "      <td>Electronic check</td>\n",
       "      <td>99.65</td>\n",
       "      <td>820.50</td>\n",
       "      <td>Yes</td>\n",
       "    </tr>\n",
       "    <tr>\n",
       "      <th>6</th>\n",
       "      <td>Male</td>\n",
       "      <td>0</td>\n",
       "      <td>No</td>\n",
       "      <td>Yes</td>\n",
       "      <td>(14.0, 29.0]</td>\n",
       "      <td>Yes</td>\n",
       "      <td>Yes</td>\n",
       "      <td>Fiber optic</td>\n",
       "      <td>No</td>\n",
       "      <td>Yes</td>\n",
       "      <td>No</td>\n",
       "      <td>No</td>\n",
       "      <td>Yes</td>\n",
       "      <td>No</td>\n",
       "      <td>Month-to-month</td>\n",
       "      <td>Yes</td>\n",
       "      <td>Credit card (automatic)</td>\n",
       "      <td>89.10</td>\n",
       "      <td>1949.40</td>\n",
       "      <td>No</td>\n",
       "    </tr>\n",
       "    <tr>\n",
       "      <th>7</th>\n",
       "      <td>Female</td>\n",
       "      <td>0</td>\n",
       "      <td>No</td>\n",
       "      <td>No</td>\n",
       "      <td>(4.0, 14.0]</td>\n",
       "      <td>No</td>\n",
       "      <td>No phone service</td>\n",
       "      <td>DSL</td>\n",
       "      <td>Yes</td>\n",
       "      <td>No</td>\n",
       "      <td>No</td>\n",
       "      <td>No</td>\n",
       "      <td>No</td>\n",
       "      <td>No</td>\n",
       "      <td>Month-to-month</td>\n",
       "      <td>No</td>\n",
       "      <td>Mailed check</td>\n",
       "      <td>29.75</td>\n",
       "      <td>301.90</td>\n",
       "      <td>No</td>\n",
       "    </tr>\n",
       "    <tr>\n",
       "      <th>8</th>\n",
       "      <td>Female</td>\n",
       "      <td>0</td>\n",
       "      <td>Yes</td>\n",
       "      <td>No</td>\n",
       "      <td>(14.0, 29.0]</td>\n",
       "      <td>Yes</td>\n",
       "      <td>Yes</td>\n",
       "      <td>Fiber optic</td>\n",
       "      <td>No</td>\n",
       "      <td>No</td>\n",
       "      <td>Yes</td>\n",
       "      <td>Yes</td>\n",
       "      <td>Yes</td>\n",
       "      <td>Yes</td>\n",
       "      <td>Month-to-month</td>\n",
       "      <td>Yes</td>\n",
       "      <td>Electronic check</td>\n",
       "      <td>104.80</td>\n",
       "      <td>3046.05</td>\n",
       "      <td>Yes</td>\n",
       "    </tr>\n",
       "    <tr>\n",
       "      <th>9</th>\n",
       "      <td>Male</td>\n",
       "      <td>0</td>\n",
       "      <td>No</td>\n",
       "      <td>Yes</td>\n",
       "      <td>(47.0, 64.0]</td>\n",
       "      <td>Yes</td>\n",
       "      <td>No</td>\n",
       "      <td>DSL</td>\n",
       "      <td>Yes</td>\n",
       "      <td>Yes</td>\n",
       "      <td>No</td>\n",
       "      <td>No</td>\n",
       "      <td>No</td>\n",
       "      <td>No</td>\n",
       "      <td>One year</td>\n",
       "      <td>No</td>\n",
       "      <td>Bank transfer (automatic)</td>\n",
       "      <td>56.15</td>\n",
       "      <td>3487.95</td>\n",
       "      <td>No</td>\n",
       "    </tr>\n",
       "  </tbody>\n",
       "</table>\n",
       "</div>"
      ],
      "text/plain": [
       "   gender  SeniorCitizen Partner Dependents        tenure PhoneService  \\\n",
       "0  Female              0     Yes         No  (0.999, 4.0]           No   \n",
       "1    Male              0      No         No  (29.0, 47.0]          Yes   \n",
       "2    Male              0      No         No  (0.999, 4.0]          Yes   \n",
       "3    Male              0      No         No  (29.0, 47.0]           No   \n",
       "4  Female              0      No         No  (0.999, 4.0]          Yes   \n",
       "5  Female              0      No         No   (4.0, 14.0]          Yes   \n",
       "6    Male              0      No        Yes  (14.0, 29.0]          Yes   \n",
       "7  Female              0      No         No   (4.0, 14.0]           No   \n",
       "8  Female              0     Yes         No  (14.0, 29.0]          Yes   \n",
       "9    Male              0      No        Yes  (47.0, 64.0]          Yes   \n",
       "\n",
       "      MultipleLines InternetService OnlineSecurity OnlineBackup  \\\n",
       "0  No phone service             DSL             No          Yes   \n",
       "1                No             DSL            Yes           No   \n",
       "2                No             DSL            Yes          Yes   \n",
       "3  No phone service             DSL            Yes           No   \n",
       "4                No     Fiber optic             No           No   \n",
       "5               Yes     Fiber optic             No           No   \n",
       "6               Yes     Fiber optic             No          Yes   \n",
       "7  No phone service             DSL            Yes           No   \n",
       "8               Yes     Fiber optic             No           No   \n",
       "9                No             DSL            Yes          Yes   \n",
       "\n",
       "  DeviceProtection TechSupport StreamingTV StreamingMovies        Contract  \\\n",
       "0               No          No          No              No  Month-to-month   \n",
       "1              Yes          No          No              No        One year   \n",
       "2               No          No          No              No  Month-to-month   \n",
       "3              Yes         Yes          No              No        One year   \n",
       "4               No          No          No              No  Month-to-month   \n",
       "5              Yes          No         Yes             Yes  Month-to-month   \n",
       "6               No          No         Yes              No  Month-to-month   \n",
       "7               No          No          No              No  Month-to-month   \n",
       "8              Yes         Yes         Yes             Yes  Month-to-month   \n",
       "9               No          No          No              No        One year   \n",
       "\n",
       "  PaperlessBilling              PaymentMethod  MonthlyCharges  TotalCharges  \\\n",
       "0              Yes           Electronic check           29.85         29.85   \n",
       "1               No               Mailed check           56.95       1889.50   \n",
       "2              Yes               Mailed check           53.85        108.15   \n",
       "3               No  Bank transfer (automatic)           42.30       1840.75   \n",
       "4              Yes           Electronic check           70.70        151.65   \n",
       "5              Yes           Electronic check           99.65        820.50   \n",
       "6              Yes    Credit card (automatic)           89.10       1949.40   \n",
       "7               No               Mailed check           29.75        301.90   \n",
       "8              Yes           Electronic check          104.80       3046.05   \n",
       "9               No  Bank transfer (automatic)           56.15       3487.95   \n",
       "\n",
       "  Churn  \n",
       "0    No  \n",
       "1    No  \n",
       "2   Yes  \n",
       "3    No  \n",
       "4   Yes  \n",
       "5   Yes  \n",
       "6    No  \n",
       "7    No  \n",
       "8   Yes  \n",
       "9    No  "
      ]
     },
     "execution_count": 9,
     "metadata": {},
     "output_type": "execute_result"
    }
   ],
   "source": [
    "# Discretize the Tenure Feature\n",
    "churn_data_raw[\"tenure\"] = pd.qcut(churn_data_raw[\"tenure\"], 6)\n",
    "\n",
    "churn_data_raw.head(10)"
   ]
  },
  {
   "cell_type": "code",
   "execution_count": 10,
   "metadata": {},
   "outputs": [
    {
     "data": {
      "text/plain": [
       "<matplotlib.axes._subplots.AxesSubplot at 0x11eae8a58>"
      ]
     },
     "execution_count": 10,
     "metadata": {},
     "output_type": "execute_result"
    },
    {
     "data": {
      "image/png": "[encoded data removed]",
      "text/plain": [
       "<Figure size 432x288 with 1 Axes>"
      ]
     },
     "metadata": {
      "needs_background": "light"
     },
     "output_type": "display_data"
    }
   ],
   "source": [
    "ts = churn_data_raw[\"tenure\"]\n",
    "ts.groupby(ts).count().plot(kind=\"bar\", figsize=(6, 4),\n",
    "                                           title=\"Amount of Customers in each Tenure Bin\")"
   ]
  },
  {
   "cell_type": "markdown",
   "metadata": {},
   "source": [
    "### Transform the “TotalCharges” feature\n",
    "\n",
    "What we don’t like to see is when a lot of observations are bunched within a small part of the range. We can use a log transformation to even out the data into more of a normal distribution. It’s not perfect, but it’s quick and easy to get our data spread out a bit more."
   ]
  },
  {
   "cell_type": "code",
   "execution_count": 11,
   "metadata": {},
   "outputs": [],
   "source": [
    "# Map Churn in order to convert 'Yes' to 1 and 'No' to 0\n",
    "churn_data_raw['Churn'] = churn_data_raw['Churn'].apply(lambda x: 0 if x=='No' else 1)"
   ]
  },
  {
   "cell_type": "code",
   "execution_count": 12,
   "metadata": {},
   "outputs": [
    {
     "data": {
      "text/plain": [
       "<matplotlib.axes._subplots.AxesSubplot at 0x11ebadf98>"
      ]
     },
     "execution_count": 12,
     "metadata": {},
     "output_type": "execute_result"
    },
    {
     "data": {
      "image/png": "[encoded data removed]",
      "text/plain": [
       "<Figure size 432x288 with 1 Axes>"
      ]
     },
     "metadata": {
      "needs_background": "light"
     },
     "output_type": "display_data"
    }
   ],
   "source": [
    "# We make a plot of the Total Charges feature divided in 100 bins.\n",
    "churn_data_raw[\"TotalCharges\"].plot(kind=\"hist\", bins=100, title = \"TotalCharges Histogram, 100 bins\")"
   ]
  },
  {
   "cell_type": "code",
   "execution_count": 13,
   "metadata": {},
   "outputs": [
    {
     "name": "stdout",
     "output_type": "stream",
     "text": [
      "Correlation between Churn and TotalCharges:\n"
     ]
    },
    {
     "data": {
      "text/plain": [
       "-0.1994840835675642"
      ]
     },
     "execution_count": 13,
     "metadata": {},
     "output_type": "execute_result"
    }
   ],
   "source": [
    "# Print Correlation between Churn and TotalCharges\n",
    "print(\"Correlation between Churn and TotalCharges:\")\n",
    "np.corrcoef(churn_data_raw[\"TotalCharges\"], churn_data_raw[\"Churn\"])[1,0]"
   ]
  },
  {
   "cell_type": "code",
   "execution_count": 14,
   "metadata": {},
   "outputs": [
    {
     "data": {
      "text/plain": [
       "0    3.396185\n",
       "1    7.544068\n",
       "2    4.683519\n",
       "3    7.517928\n",
       "4    5.021575\n",
       "Name: TotalCharges, dtype: float64"
      ]
     },
     "execution_count": 14,
     "metadata": {},
     "output_type": "execute_result"
    }
   ],
   "source": [
    "# For a better understandment/visualization of the TotalCharges feature we apply a log function on it.\n",
    "churn_data_raw['TotalCharges'] = np.log(churn_data_raw['TotalCharges'])\n",
    "churn_data_raw[\"TotalCharges\"].head()"
   ]
  },
  {
   "cell_type": "code",
   "execution_count": 15,
   "metadata": {},
   "outputs": [
    {
     "data": {
      "text/plain": [
       "<matplotlib.axes._subplots.AxesSubplot at 0x11ed2c0b8>"
      ]
     },
     "execution_count": 15,
     "metadata": {},
     "output_type": "execute_result"
    },
    {
     "data": {
      "image/png": "[encoded data removed]",
      "text/plain": [
       "<Figure size 432x288 with 1 Axes>"
      ]
     },
     "metadata": {
      "needs_background": "light"
     },
     "output_type": "display_data"
    }
   ],
   "source": [
    "# We make a plot of the TotalCharges feature with the log function applied.\n",
    "churn_data_raw[\"TotalCharges\"].plot(kind=\"hist\", bins=100, title = \"log(TotalCharges) Histogram, 100 bins\")"
   ]
  },
  {
   "cell_type": "markdown",
   "metadata": {},
   "source": [
    "The correlation between “Churn” and “LogTotalCharges” is greatest in magnitude indicating the log transformation should improve the accuracy of the ANN model we build. Therefore, we should perform the log transformation."
   ]
  },
  {
   "cell_type": "code",
   "execution_count": 16,
   "metadata": {},
   "outputs": [
    {
     "name": "stdout",
     "output_type": "stream",
     "text": [
      "Correlation between Churn and LogTotalCharges:\n"
     ]
    },
    {
     "data": {
      "text/plain": [
       "-0.2417613223313746"
      ]
     },
     "execution_count": 16,
     "metadata": {},
     "output_type": "execute_result"
    }
   ],
   "source": [
    "# Here we find out the Correlation between Churn and LogTotalCharges.\n",
    "print(\"Correlation between Churn and LogTotalCharges:\")\n",
    "np.corrcoef(churn_data_raw[\"TotalCharges\"], churn_data_raw[\"Churn\"])[1,0]                       "
   ]
  },
  {
   "cell_type": "markdown",
   "metadata": {},
   "source": [
    "### One-hot encoding\n",
    "\n",
    "One-hot encoding is the process of converting categorical data to sparse data, which has columns of only zeros and ones (this is also called creating “dummy variables” or a “design matrix”). All non-numeric data will need to be converted to dummy variables. This is simple for binary Yes/No data because we can simply convert to 1’s and 0’s. It becomes slightly more complicated with multiple categories, which requires creating new columns of 1’s and 0's for each category (actually one less). We have four features that are multi-category: Contract, Internet Service, Multiple Lines, and Payment Method."
   ]
  },
  {
   "cell_type": "code",
   "execution_count": 17,
   "metadata": {},
   "outputs": [
    {
     "data": {
      "text/plain": [
       "['SeniorCitizen',\n",
       " 'MonthlyCharges',\n",
       " 'TotalCharges',\n",
       " 'Churn',\n",
       " 'gender_Female',\n",
       " 'gender_Male',\n",
       " 'Partner_No',\n",
       " 'Partner_Yes',\n",
       " 'Dependents_No',\n",
       " 'Dependents_Yes',\n",
       " 'tenure_(0.999, 4.0]',\n",
       " 'tenure_(4.0, 14.0]',\n",
       " 'tenure_(14.0, 29.0]',\n",
       " 'tenure_(29.0, 47.0]',\n",
       " 'tenure_(47.0, 64.0]',\n",
       " 'tenure_(64.0, 72.0]',\n",
       " 'PhoneService_No',\n",
       " 'PhoneService_Yes',\n",
       " 'MultipleLines_No',\n",
       " 'MultipleLines_No phone service',\n",
       " 'MultipleLines_Yes',\n",
       " 'InternetService_DSL',\n",
       " 'InternetService_Fiber optic',\n",
       " 'InternetService_No',\n",
       " 'OnlineBackup_No',\n",
       " 'OnlineBackup_No internet service',\n",
       " 'OnlineBackup_Yes',\n",
       " 'OnlineSecurity_No',\n",
       " 'OnlineSecurity_No internet service',\n",
       " 'OnlineSecurity_Yes',\n",
       " 'Contract_Month-to-month',\n",
       " 'Contract_One year',\n",
       " 'Contract_Two year',\n",
       " 'PaperlessBilling_No',\n",
       " 'PaperlessBilling_Yes',\n",
       " 'PaymentMethod_Bank transfer (automatic)',\n",
       " 'PaymentMethod_Credit card (automatic)',\n",
       " 'PaymentMethod_Electronic check',\n",
       " 'PaymentMethod_Mailed check',\n",
       " 'DeviceProtection_No',\n",
       " 'DeviceProtection_No internet service',\n",
       " 'DeviceProtection_Yes',\n",
       " 'TechSupport_No',\n",
       " 'TechSupport_No internet service',\n",
       " 'TechSupport_Yes',\n",
       " 'StreamingTV_No',\n",
       " 'StreamingTV_No internet service',\n",
       " 'StreamingTV_Yes',\n",
       " 'StreamingMovies_No',\n",
       " 'StreamingMovies_No internet service',\n",
       " 'StreamingMovies_Yes']"
      ]
     },
     "execution_count": 17,
     "metadata": {},
     "output_type": "execute_result"
    }
   ],
   "source": [
    "categorical_variables = [\"gender\", \"Partner\", \"Dependents\", \"tenure\", \"PhoneService\", \"MultipleLines\", \"InternetService\", \"OnlineBackup\", \"OnlineSecurity\", \"Contract\", \n",
    "                         \"PaperlessBilling\", \"PaymentMethod\", \"DeviceProtection\", \"TechSupport\", \"StreamingTV\", \"StreamingMovies\"]\n",
    "\n",
    "for variable in categorical_variables:\n",
    "    dummies = pd.get_dummies(churn_data_raw[variable], prefix = variable)\n",
    "    # Update churn_data_raw to include dummies and drop the main variables\n",
    "    churn_data_raw = pd.concat([churn_data_raw, dummies], axis = 1)\n",
    "    churn_data_raw.drop([variable], axis = 1, inplace = True)\n",
    "    \n",
    "list(churn_data_raw.columns.values)"
   ]
  },
  {
   "cell_type": "markdown",
   "metadata": {},
   "source": [
    "When one-hot encoding for example gender (gender_Male and gender_Female), produces two features which are perfectly negatively correlated, so it is suggested just using one of them, effectively setting the baseline to say male."
   ]
  },
  {
   "cell_type": "code",
   "execution_count": 18,
   "metadata": {},
   "outputs": [],
   "source": [
    "extra_dummies = [\"gender_Female\", \"Partner_No\", \"Dependents_No\",\"PhoneService_No\",\n",
    "                 \"PaperlessBilling_No\", \"InternetService_DSL\", \"Contract_Month-to-month\",\n",
    "                 \"PaymentMethod_Bank transfer (automatic)\", \"MultipleLines_No\", \"OnlineBackup_No\",\n",
    "                 \"OnlineSecurity_No\", \"PaperlessBilling_No\", \"DeviceProtection_No\",\n",
    "                 \"TechSupport_No\", \"StreamingTV_No\", \"StreamingMovies_No\"]\n",
    "\n",
    "churn_data_raw.drop(churn_data_raw[extra_dummies], axis = 1, inplace=True) "
   ]
  },
  {
   "cell_type": "code",
   "execution_count": 19,
   "metadata": {},
   "outputs": [
    {
     "data": {
      "text/html": [
       "<div>\n",
       "<style scoped>\n",
       "    .dataframe tbody tr th:only-of-type {\n",
       "        vertical-align: middle;\n",
       "    }\n",
       "\n",
       "    .dataframe tbody tr th {\n",
       "        vertical-align: top;\n",
       "    }\n",
       "\n",
       "    .dataframe thead th {\n",
       "        text-align: right;\n",
       "    }\n",
       "</style>\n",
       "<table border=\"1\" class=\"dataframe\">\n",
       "  <thead>\n",
       "    <tr style=\"text-align: right;\">\n",
       "      <th></th>\n",
       "      <th>SeniorCitizen</th>\n",
       "      <th>MonthlyCharges</th>\n",
       "      <th>TotalCharges</th>\n",
       "      <th>Churn</th>\n",
       "      <th>gender_Male</th>\n",
       "      <th>Partner_Yes</th>\n",
       "      <th>Dependents_Yes</th>\n",
       "      <th>tenure_(0.999, 4.0]</th>\n",
       "      <th>tenure_(4.0, 14.0]</th>\n",
       "      <th>tenure_(14.0, 29.0]</th>\n",
       "      <th>...</th>\n",
       "      <th>PaymentMethod_Electronic check</th>\n",
       "      <th>PaymentMethod_Mailed check</th>\n",
       "      <th>DeviceProtection_No internet service</th>\n",
       "      <th>DeviceProtection_Yes</th>\n",
       "      <th>TechSupport_No internet service</th>\n",
       "      <th>TechSupport_Yes</th>\n",
       "      <th>StreamingTV_No internet service</th>\n",
       "      <th>StreamingTV_Yes</th>\n",
       "      <th>StreamingMovies_No internet service</th>\n",
       "      <th>StreamingMovies_Yes</th>\n",
       "    </tr>\n",
       "  </thead>\n",
       "  <tbody>\n",
       "    <tr>\n",
       "      <th>0</th>\n",
       "      <td>0</td>\n",
       "      <td>29.85</td>\n",
       "      <td>3.396185</td>\n",
       "      <td>0</td>\n",
       "      <td>0</td>\n",
       "      <td>1</td>\n",
       "      <td>0</td>\n",
       "      <td>1</td>\n",
       "      <td>0</td>\n",
       "      <td>0</td>\n",
       "      <td>...</td>\n",
       "      <td>1</td>\n",
       "      <td>0</td>\n",
       "      <td>0</td>\n",
       "      <td>0</td>\n",
       "      <td>0</td>\n",
       "      <td>0</td>\n",
       "      <td>0</td>\n",
       "      <td>0</td>\n",
       "      <td>0</td>\n",
       "      <td>0</td>\n",
       "    </tr>\n",
       "    <tr>\n",
       "      <th>1</th>\n",
       "      <td>0</td>\n",
       "      <td>56.95</td>\n",
       "      <td>7.544068</td>\n",
       "      <td>0</td>\n",
       "      <td>1</td>\n",
       "      <td>0</td>\n",
       "      <td>0</td>\n",
       "      <td>0</td>\n",
       "      <td>0</td>\n",
       "      <td>0</td>\n",
       "      <td>...</td>\n",
       "      <td>0</td>\n",
       "      <td>1</td>\n",
       "      <td>0</td>\n",
       "      <td>1</td>\n",
       "      <td>0</td>\n",
       "      <td>0</td>\n",
       "      <td>0</td>\n",
       "      <td>0</td>\n",
       "      <td>0</td>\n",
       "      <td>0</td>\n",
       "    </tr>\n",
       "    <tr>\n",
       "      <th>2</th>\n",
       "      <td>0</td>\n",
       "      <td>53.85</td>\n",
       "      <td>4.683519</td>\n",
       "      <td>1</td>\n",
       "      <td>1</td>\n",
       "      <td>0</td>\n",
       "      <td>0</td>\n",
       "      <td>1</td>\n",
       "      <td>0</td>\n",
       "      <td>0</td>\n",
       "      <td>...</td>\n",
       "      <td>0</td>\n",
       "      <td>1</td>\n",
       "      <td>0</td>\n",
       "      <td>0</td>\n",
       "      <td>0</td>\n",
       "      <td>0</td>\n",
       "      <td>0</td>\n",
       "      <td>0</td>\n",
       "      <td>0</td>\n",
       "      <td>0</td>\n",
       "    </tr>\n",
       "    <tr>\n",
       "      <th>3</th>\n",
       "      <td>0</td>\n",
       "      <td>42.30</td>\n",
       "      <td>7.517928</td>\n",
       "      <td>0</td>\n",
       "      <td>1</td>\n",
       "      <td>0</td>\n",
       "      <td>0</td>\n",
       "      <td>0</td>\n",
       "      <td>0</td>\n",
       "      <td>0</td>\n",
       "      <td>...</td>\n",
       "      <td>0</td>\n",
       "      <td>0</td>\n",
       "      <td>0</td>\n",
       "      <td>1</td>\n",
       "      <td>0</td>\n",
       "      <td>1</td>\n",
       "      <td>0</td>\n",
       "      <td>0</td>\n",
       "      <td>0</td>\n",
       "      <td>0</td>\n",
       "    </tr>\n",
       "    <tr>\n",
       "      <th>4</th>\n",
       "      <td>0</td>\n",
       "      <td>70.70</td>\n",
       "      <td>5.021575</td>\n",
       "      <td>1</td>\n",
       "      <td>0</td>\n",
       "      <td>0</td>\n",
       "      <td>0</td>\n",
       "      <td>1</td>\n",
       "      <td>0</td>\n",
       "      <td>0</td>\n",
       "      <td>...</td>\n",
       "      <td>1</td>\n",
       "      <td>0</td>\n",
       "      <td>0</td>\n",
       "      <td>0</td>\n",
       "      <td>0</td>\n",
       "      <td>0</td>\n",
       "      <td>0</td>\n",
       "      <td>0</td>\n",
       "      <td>0</td>\n",
       "      <td>0</td>\n",
       "    </tr>\n",
       "  </tbody>\n",
       "</table>\n",
       "<p>5 rows × 36 columns</p>\n",
       "</div>"
      ],
      "text/plain": [
       "   SeniorCitizen  MonthlyCharges  TotalCharges  Churn  gender_Male  \\\n",
       "0              0           29.85      3.396185      0            0   \n",
       "1              0           56.95      7.544068      0            1   \n",
       "2              0           53.85      4.683519      1            1   \n",
       "3              0           42.30      7.517928      0            1   \n",
       "4              0           70.70      5.021575      1            0   \n",
       "\n",
       "   Partner_Yes  Dependents_Yes  tenure_(0.999, 4.0]  tenure_(4.0, 14.0]  \\\n",
       "0            1               0                    1                   0   \n",
       "1            0               0                    0                   0   \n",
       "2            0               0                    1                   0   \n",
       "3            0               0                    0                   0   \n",
       "4            0               0                    1                   0   \n",
       "\n",
       "   tenure_(14.0, 29.0]  ...  PaymentMethod_Electronic check  \\\n",
       "0                    0  ...                               1   \n",
       "1                    0  ...                               0   \n",
       "2                    0  ...                               0   \n",
       "3                    0  ...                               0   \n",
       "4                    0  ...                               1   \n",
       "\n",
       "   PaymentMethod_Mailed check  DeviceProtection_No internet service  \\\n",
       "0                           0                                     0   \n",
       "1                           1                                     0   \n",
       "2                           1                                     0   \n",
       "3                           0                                     0   \n",
       "4                           0                                     0   \n",
       "\n",
       "   DeviceProtection_Yes  TechSupport_No internet service  TechSupport_Yes  \\\n",
       "0                     0                                0                0   \n",
       "1                     1                                0                0   \n",
       "2                     0                                0                0   \n",
       "3                     1                                0                1   \n",
       "4                     0                                0                0   \n",
       "\n",
       "   StreamingTV_No internet service  StreamingTV_Yes  \\\n",
       "0                                0                0   \n",
       "1                                0                0   \n",
       "2                                0                0   \n",
       "3                                0                0   \n",
       "4                                0                0   \n",
       "\n",
       "   StreamingMovies_No internet service  StreamingMovies_Yes  \n",
       "0                                    0                    0  \n",
       "1                                    0                    0  \n",
       "2                                    0                    0  \n",
       "3                                    0                    0  \n",
       "4                                    0                    0  \n",
       "\n",
       "[5 rows x 36 columns]"
      ]
     },
     "execution_count": 19,
     "metadata": {},
     "output_type": "execute_result"
    }
   ],
   "source": [
    "churn_data_raw.head()"
   ]
  },
  {
   "cell_type": "code",
   "execution_count": 20,
   "metadata": {},
   "outputs": [
    {
     "data": {
      "text/plain": [
       "['SeniorCitizen',\n",
       " 'MonthlyCharges',\n",
       " 'TotalCharges',\n",
       " 'Churn',\n",
       " 'gender_Male',\n",
       " 'Partner_Yes',\n",
       " 'Dependents_Yes',\n",
       " 'tenure_(0.999, 4.0]',\n",
       " 'tenure_(4.0, 14.0]',\n",
       " 'tenure_(14.0, 29.0]',\n",
       " 'tenure_(29.0, 47.0]',\n",
       " 'tenure_(47.0, 64.0]',\n",
       " 'tenure_(64.0, 72.0]',\n",
       " 'PhoneService_Yes',\n",
       " 'MultipleLines_No phone service',\n",
       " 'MultipleLines_Yes',\n",
       " 'InternetService_Fiber optic',\n",
       " 'InternetService_No',\n",
       " 'OnlineBackup_No internet service',\n",
       " 'OnlineBackup_Yes',\n",
       " 'OnlineSecurity_No internet service',\n",
       " 'OnlineSecurity_Yes',\n",
       " 'Contract_One year',\n",
       " 'Contract_Two year',\n",
       " 'PaperlessBilling_Yes',\n",
       " 'PaymentMethod_Credit card (automatic)',\n",
       " 'PaymentMethod_Electronic check',\n",
       " 'PaymentMethod_Mailed check',\n",
       " 'DeviceProtection_No internet service',\n",
       " 'DeviceProtection_Yes',\n",
       " 'TechSupport_No internet service',\n",
       " 'TechSupport_Yes',\n",
       " 'StreamingTV_No internet service',\n",
       " 'StreamingTV_Yes',\n",
       " 'StreamingMovies_No internet service',\n",
       " 'StreamingMovies_Yes']"
      ]
     },
     "execution_count": 20,
     "metadata": {},
     "output_type": "execute_result"
    }
   ],
   "source": [
    "list(churn_data_raw.columns.values)"
   ]
  },
  {
   "cell_type": "code",
   "execution_count": 21,
   "metadata": {},
   "outputs": [],
   "source": [
    "churn_data_raw = churn_data_raw.rename(columns = {\"tenure_(0.999, 4.0]\": \"tenure_bin1\", \n",
    "                                                  \"tenure_(4.0, 14.0]\": \"tenure_bin2\",\n",
    "                                                  \"tenure_(14.0, 29.0]\": \"tenure_bin3\",\n",
    "                                                  \"tenure_(29.0, 47.0]\": \"tenure_bin4\",\n",
    "                                                  \"tenure_(47.0, 64.0]\": \"tenure_bin5\",\n",
    "                                                  \"tenure_(64.0, 72.0]\": \"tenure_bin6\"})"
   ]
  },
  {
   "cell_type": "code",
   "execution_count": 22,
   "metadata": {},
   "outputs": [],
   "source": [
    "from sklearn.preprocessing import StandardScaler\n",
    "# Standardize our dataset\n",
    "columns = [\"gender_Male\", \"SeniorCitizen\", \"Partner_Yes\", \"Dependents_Yes\", \"PhoneService_Yes\", \n",
    "           \"PaperlessBilling_Yes\", \"MonthlyCharges\", \"TotalCharges\", \"DeviceProtection_No internet service\",\n",
    "           \"DeviceProtection_Yes\", \"MultipleLines_No phone service\", \"MultipleLines_Yes\", \"OnlineBackup_No internet service\",\n",
    "           \"OnlineBackup_Yes\", \"OnlineSecurity_No internet service\", \"OnlineSecurity_Yes\", \"TechSupport_No internet service\",\n",
    "           \"TechSupport_Yes\", \"StreamingTV_No internet service\", \"StreamingTV_Yes\", \"StreamingMovies_No internet service\",\n",
    "           \"StreamingMovies_Yes\", \"InternetService_Fiber optic\", \"InternetService_No\", \"Contract_One year\", \"Contract_Two year\",\n",
    "           \"PaymentMethod_Credit card (automatic)\", \"PaymentMethod_Electronic check\", \"PaymentMethod_Mailed check\", \n",
    "           \"tenure_bin1\", \"tenure_bin2\", \"tenure_bin3\", \"tenure_bin4\", \"tenure_bin5\", \"tenure_bin6\"]\n",
    "\n",
    "churn_data_raw[columns] = StandardScaler().fit_transform(churn_data_raw[columns])"
   ]
  },
  {
   "cell_type": "markdown",
   "metadata": {},
   "source": [
    "__Split Into Train/Test Sets__\n",
    "\n",
    "We can create our training and testing datasets with a train_test_split method. The train set size will be 80% of the data and test set size 20%\n"
   ]
  },
  {
   "cell_type": "code",
   "execution_count": 23,
   "metadata": {},
   "outputs": [],
   "source": [
    "# Here we move Churn to the end of our dataset\n",
    "cols = list(churn_data_raw.columns.values) # Make a list of all of the columns in the df\n",
    "cols.pop(cols.index('Churn')) #Remove Churn from list\n",
    "churn_data_raw = churn_data_raw[cols+['Churn']] # Create new dataframe with columns in the order we want"
   ]
  },
  {
   "cell_type": "code",
   "execution_count": 24,
   "metadata": {},
   "outputs": [
    {
     "name": "stdout",
     "output_type": "stream",
     "text": [
      "< 5625 / 1407 / 7032 >\n"
     ]
    }
   ],
   "source": [
    "from sklearn.model_selection import train_test_split\n",
    "\n",
    "# churn_data_tbl will be our preparet dataset that will be used for the split\n",
    "churn_data_tbl = churn_data_raw\n",
    "\n",
    "churn_data_tbl.to_csv(\"churn_data_tbl.csv\")\n",
    "\n",
    "train_tbl, test_tbl = train_test_split(churn_data_tbl, test_size=0.2, random_state=100, shuffle=False)\n",
    "print(\"<\",train_tbl.shape[0],\"/\",test_tbl.shape[0],\"/\",churn_data_raw.shape[0],\">\")"
   ]
  },
  {
   "cell_type": "code",
   "execution_count": 25,
   "metadata": {},
   "outputs": [
    {
     "data": {
      "text/html": [
       "<div>\n",
       "<style scoped>\n",
       "    .dataframe tbody tr th:only-of-type {\n",
       "        vertical-align: middle;\n",
       "    }\n",
       "\n",
       "    .dataframe tbody tr th {\n",
       "        vertical-align: top;\n",
       "    }\n",
       "\n",
       "    .dataframe thead th {\n",
       "        text-align: right;\n",
       "    }\n",
       "</style>\n",
       "<table border=\"1\" class=\"dataframe\">\n",
       "  <thead>\n",
       "    <tr style=\"text-align: right;\">\n",
       "      <th></th>\n",
       "      <th>SeniorCitizen</th>\n",
       "      <th>MonthlyCharges</th>\n",
       "      <th>TotalCharges</th>\n",
       "      <th>gender_Male</th>\n",
       "      <th>Partner_Yes</th>\n",
       "      <th>Dependents_Yes</th>\n",
       "      <th>tenure_bin1</th>\n",
       "      <th>tenure_bin2</th>\n",
       "      <th>tenure_bin3</th>\n",
       "      <th>tenure_bin4</th>\n",
       "      <th>...</th>\n",
       "      <th>PaymentMethod_Mailed check</th>\n",
       "      <th>DeviceProtection_No internet service</th>\n",
       "      <th>DeviceProtection_Yes</th>\n",
       "      <th>TechSupport_No internet service</th>\n",
       "      <th>TechSupport_Yes</th>\n",
       "      <th>StreamingTV_No internet service</th>\n",
       "      <th>StreamingTV_Yes</th>\n",
       "      <th>StreamingMovies_No internet service</th>\n",
       "      <th>StreamingMovies_Yes</th>\n",
       "      <th>Churn</th>\n",
       "    </tr>\n",
       "  </thead>\n",
       "  <tbody>\n",
       "    <tr>\n",
       "      <th>0</th>\n",
       "      <td>-0.440327</td>\n",
       "      <td>-1.161694</td>\n",
       "      <td>-2.281544</td>\n",
       "      <td>-1.009430</td>\n",
       "      <td>1.035617</td>\n",
       "      <td>-0.652305</td>\n",
       "      <td>2.175098</td>\n",
       "      <td>-0.438254</td>\n",
       "      <td>-0.453153</td>\n",
       "      <td>-0.446985</td>\n",
       "      <td>...</td>\n",
       "      <td>-0.543604</td>\n",
       "      <td>-0.52513</td>\n",
       "      <td>-0.723918</td>\n",
       "      <td>-0.52513</td>\n",
       "      <td>-0.639260</td>\n",
       "      <td>-0.52513</td>\n",
       "      <td>-0.790186</td>\n",
       "      <td>-0.52513</td>\n",
       "      <td>-0.796849</td>\n",
       "      <td>0</td>\n",
       "    </tr>\n",
       "    <tr>\n",
       "      <th>1</th>\n",
       "      <td>-0.440327</td>\n",
       "      <td>-0.260878</td>\n",
       "      <td>0.389297</td>\n",
       "      <td>0.990658</td>\n",
       "      <td>-0.965608</td>\n",
       "      <td>-0.652305</td>\n",
       "      <td>-0.459749</td>\n",
       "      <td>-0.438254</td>\n",
       "      <td>-0.453153</td>\n",
       "      <td>2.237213</td>\n",
       "      <td>...</td>\n",
       "      <td>1.839576</td>\n",
       "      <td>-0.52513</td>\n",
       "      <td>1.381372</td>\n",
       "      <td>-0.52513</td>\n",
       "      <td>-0.639260</td>\n",
       "      <td>-0.52513</td>\n",
       "      <td>-0.790186</td>\n",
       "      <td>-0.52513</td>\n",
       "      <td>-0.796849</td>\n",
       "      <td>0</td>\n",
       "    </tr>\n",
       "    <tr>\n",
       "      <th>2</th>\n",
       "      <td>-0.440327</td>\n",
       "      <td>-0.363923</td>\n",
       "      <td>-1.452624</td>\n",
       "      <td>0.990658</td>\n",
       "      <td>-0.965608</td>\n",
       "      <td>-0.652305</td>\n",
       "      <td>2.175098</td>\n",
       "      <td>-0.438254</td>\n",
       "      <td>-0.453153</td>\n",
       "      <td>-0.446985</td>\n",
       "      <td>...</td>\n",
       "      <td>1.839576</td>\n",
       "      <td>-0.52513</td>\n",
       "      <td>-0.723918</td>\n",
       "      <td>-0.52513</td>\n",
       "      <td>-0.639260</td>\n",
       "      <td>-0.52513</td>\n",
       "      <td>-0.790186</td>\n",
       "      <td>-0.52513</td>\n",
       "      <td>-0.796849</td>\n",
       "      <td>1</td>\n",
       "    </tr>\n",
       "    <tr>\n",
       "      <th>3</th>\n",
       "      <td>-0.440327</td>\n",
       "      <td>-0.747850</td>\n",
       "      <td>0.372466</td>\n",
       "      <td>0.990658</td>\n",
       "      <td>-0.965608</td>\n",
       "      <td>-0.652305</td>\n",
       "      <td>-0.459749</td>\n",
       "      <td>-0.438254</td>\n",
       "      <td>-0.453153</td>\n",
       "      <td>2.237213</td>\n",
       "      <td>...</td>\n",
       "      <td>-0.543604</td>\n",
       "      <td>-0.52513</td>\n",
       "      <td>1.381372</td>\n",
       "      <td>-0.52513</td>\n",
       "      <td>1.564308</td>\n",
       "      <td>-0.52513</td>\n",
       "      <td>-0.790186</td>\n",
       "      <td>-0.52513</td>\n",
       "      <td>-0.796849</td>\n",
       "      <td>0</td>\n",
       "    </tr>\n",
       "    <tr>\n",
       "      <th>4</th>\n",
       "      <td>-0.440327</td>\n",
       "      <td>0.196178</td>\n",
       "      <td>-1.234948</td>\n",
       "      <td>-1.009430</td>\n",
       "      <td>-0.965608</td>\n",
       "      <td>-0.652305</td>\n",
       "      <td>2.175098</td>\n",
       "      <td>-0.438254</td>\n",
       "      <td>-0.453153</td>\n",
       "      <td>-0.446985</td>\n",
       "      <td>...</td>\n",
       "      <td>-0.543604</td>\n",
       "      <td>-0.52513</td>\n",
       "      <td>-0.723918</td>\n",
       "      <td>-0.52513</td>\n",
       "      <td>-0.639260</td>\n",
       "      <td>-0.52513</td>\n",
       "      <td>-0.790186</td>\n",
       "      <td>-0.52513</td>\n",
       "      <td>-0.796849</td>\n",
       "      <td>1</td>\n",
       "    </tr>\n",
       "  </tbody>\n",
       "</table>\n",
       "<p>5 rows × 36 columns</p>\n",
       "</div>"
      ],
      "text/plain": [
       "   SeniorCitizen  MonthlyCharges  TotalCharges  gender_Male  Partner_Yes  \\\n",
       "0      -0.440327       -1.161694     -2.281544    -1.009430     1.035617   \n",
       "1      -0.440327       -0.260878      0.389297     0.990658    -0.965608   \n",
       "2      -0.440327       -0.363923     -1.452624     0.990658    -0.965608   \n",
       "3      -0.440327       -0.747850      0.372466     0.990658    -0.965608   \n",
       "4      -0.440327        0.196178     -1.234948    -1.009430    -0.965608   \n",
       "\n",
       "   Dependents_Yes  tenure_bin1  tenure_bin2  tenure_bin3  tenure_bin4  ...  \\\n",
       "0       -0.652305     2.175098    -0.438254    -0.453153    -0.446985  ...   \n",
       "1       -0.652305    -0.459749    -0.438254    -0.453153     2.237213  ...   \n",
       "2       -0.652305     2.175098    -0.438254    -0.453153    -0.446985  ...   \n",
       "3       -0.652305    -0.459749    -0.438254    -0.453153     2.237213  ...   \n",
       "4       -0.652305     2.175098    -0.438254    -0.453153    -0.446985  ...   \n",
       "\n",
       "   PaymentMethod_Mailed check  DeviceProtection_No internet service  \\\n",
       "0                   -0.543604                              -0.52513   \n",
       "1                    1.839576                              -0.52513   \n",
       "2                    1.839576                              -0.52513   \n",
       "3                   -0.543604                              -0.52513   \n",
       "4                   -0.543604                              -0.52513   \n",
       "\n",
       "   DeviceProtection_Yes  TechSupport_No internet service  TechSupport_Yes  \\\n",
       "0             -0.723918                         -0.52513        -0.639260   \n",
       "1              1.381372                         -0.52513        -0.639260   \n",
       "2             -0.723918                         -0.52513        -0.639260   \n",
       "3              1.381372                         -0.52513         1.564308   \n",
       "4             -0.723918                         -0.52513        -0.639260   \n",
       "\n",
       "   StreamingTV_No internet service  StreamingTV_Yes  \\\n",
       "0                         -0.52513        -0.790186   \n",
       "1                         -0.52513        -0.790186   \n",
       "2                         -0.52513        -0.790186   \n",
       "3                         -0.52513        -0.790186   \n",
       "4                         -0.52513        -0.790186   \n",
       "\n",
       "   StreamingMovies_No internet service  StreamingMovies_Yes  Churn  \n",
       "0                             -0.52513            -0.796849      0  \n",
       "1                             -0.52513            -0.796849      0  \n",
       "2                             -0.52513            -0.796849      1  \n",
       "3                             -0.52513            -0.796849      0  \n",
       "4                             -0.52513            -0.796849      1  \n",
       "\n",
       "[5 rows x 36 columns]"
      ]
     },
     "execution_count": 25,
     "metadata": {},
     "output_type": "execute_result"
    }
   ],
   "source": [
    "train_tbl.head()"
   ]
  },
  {
   "cell_type": "code",
   "execution_count": 26,
   "metadata": {},
   "outputs": [
    {
     "data": {
      "text/plain": [
       "MonthlyCharges                           0.188645\n",
       "TotalCharges                            -0.239521\n",
       "gender_Male                             -0.012693\n",
       "Partner_Yes                             -0.151554\n",
       "Dependents_Yes                          -0.163059\n",
       "tenure_bin1                              0.292358\n",
       "tenure_bin2                              0.103361\n",
       "tenure_bin3                              0.004767\n",
       "tenure_bin4                             -0.065942\n",
       "tenure_bin5                             -0.138090\n",
       "tenure_bin6                             -0.204378\n",
       "PhoneService_Yes                         0.007371\n",
       "MultipleLines_No phone service          -0.007371\n",
       "MultipleLines_Yes                        0.033836\n",
       "InternetService_Fiber optic              0.306237\n",
       "InternetService_No                      -0.227412\n",
       "OnlineBackup_No internet service        -0.227412\n",
       "OnlineBackup_Yes                        -0.085164\n",
       "OnlineSecurity_No internet service      -0.227412\n",
       "OnlineSecurity_Yes                      -0.175826\n",
       "Contract_One year                       -0.178665\n",
       "Contract_Two year                       -0.300799\n",
       "PaperlessBilling_Yes                     0.194861\n",
       "PaymentMethod_Credit card (automatic)   -0.139586\n",
       "PaymentMethod_Electronic check           0.307317\n",
       "PaymentMethod_Mailed check              -0.087100\n",
       "DeviceProtection_No internet service    -0.227412\n",
       "DeviceProtection_Yes                    -0.069495\n",
       "TechSupport_No internet service         -0.227412\n",
       "TechSupport_Yes                         -0.175546\n",
       "StreamingTV_No internet service         -0.227412\n",
       "StreamingTV_Yes                          0.064398\n",
       "StreamingMovies_No internet service     -0.227412\n",
       "StreamingMovies_Yes                      0.057725\n",
       "Churn                                    1.000000\n",
       "Name: Churn, dtype: float64"
      ]
     },
     "execution_count": 26,
     "metadata": {},
     "output_type": "execute_result"
    }
   ],
   "source": [
    "train_tbl[train_tbl.columns[1:]].corr()['Churn'][:]"
   ]
  },
  {
   "cell_type": "markdown",
   "metadata": {},
   "source": [
    "__Generate the target vectors__\n",
    "\n",
    "One last step, we need to store the actual values (truth) as y_train_vec and y_test_vec, which are needed for modeling our ANN. We convert to a series of numeric ones and zeros which can be accepted by the Keras ANN modeling functions. We add “vec” to the name so we can easily remember the class of the object."
   ]
  },
  {
   "cell_type": "code",
   "execution_count": 27,
   "metadata": {},
   "outputs": [
    {
     "data": {
      "text/plain": [
       "0    0\n",
       "1    0\n",
       "2    1\n",
       "3    0\n",
       "4    1\n",
       "5    1\n",
       "6    0\n",
       "7    0\n",
       "8    1\n",
       "9    0\n",
       "Name: Churn, dtype: int64"
      ]
     },
     "execution_count": 27,
     "metadata": {},
     "output_type": "execute_result"
    }
   ],
   "source": [
    "# Response variables for training and testing sets\n",
    "\n",
    "y_train_vec = train_tbl[\"Churn\"]\n",
    "y_test_vec = test_tbl[\"Churn\"]\n",
    "\n",
    "y_train_vec.head(10)"
   ]
  },
  {
   "cell_type": "code",
   "execution_count": 28,
   "metadata": {},
   "outputs": [],
   "source": [
    "target = [\"Churn\"]\n",
    "train_tbl = train_tbl.drop(target, axis=1)\n",
    "test_tbl = test_tbl.drop(target, axis=1)"
   ]
  },
  {
   "cell_type": "code",
   "execution_count": 29,
   "metadata": {},
   "outputs": [],
   "source": [
    "x_train_tbl = train_tbl\n",
    "x_test_tbl = test_tbl"
   ]
  },
  {
   "cell_type": "code",
   "execution_count": 30,
   "metadata": {},
   "outputs": [],
   "source": [
    "x_train_tbl.to_csv(\"x_train_tbl.csv\") # x_train_tbl doesn't have the Churn column\n",
    "x_test_tbl.to_csv(\"x_test_tbl.csv\") # x_test_tbl doesn't have the Churn column"
   ]
  },
  {
   "cell_type": "code",
   "execution_count": 31,
   "metadata": {},
   "outputs": [
    {
     "name": "stdout",
     "output_type": "stream",
     "text": [
      "SeniorCitizen                                 -0.4403270      -0.4403270\n",
      "MonthlyCharges                                -1.1616939      -0.2608779\n",
      "TotalCharges                                  -2.2815443      0.38929670\n",
      "gender_Male                                   -1.0094301      0.99065796\n",
      "Partner_Yes                                   1.03561682      -0.9656081\n",
      "Dependents_Yes                                -0.6523049      -0.6523049\n",
      "tenure_bin1                                   2.17509800      -0.4597493\n",
      "tenure_bin2                                   -0.4382538      -0.4382538\n",
      "tenure_bin3                                   -0.4531533      -0.4531533\n",
      "tenure_bin4                                   -0.4469846      2.23721340\n",
      "tenure_bin5                                   -0.4522411      -0.4522411\n",
      "tenure_bin6                                   -0.4327079      -0.4327079\n",
      "PhoneService_Yes                              -3.0563338      0.32718938\n",
      "MultipleLines_No phone service                3.05633382      -0.3271893\n",
      "MultipleLines_Yes                             -0.8543355      -0.8543355\n",
      "InternetService_Fiber optic                   -0.8868964      -0.8868964\n",
      "InternetService_No                            -0.5251304      -0.5251304\n",
      "OnlineBackup_No internet service              -0.5251304      -0.5251304\n",
      "OnlineBackup_Yes                              1.37833008      -0.7255156\n",
      "OnlineSecurity_No internet service            -0.5251304      -0.5251304\n",
      "OnlineSecurity_Yes                            -0.6337463      1.57791834\n",
      "Contract_One year                             -0.5145368      1.94349528\n",
      "Contract_Two year                             -0.5613643      -0.5613643\n",
      "PaperlessBilling_Yes                          0.82893915      -1.2063611\n",
      "PaymentMethod_Credit card (automatic)         -0.5253508      -0.5253508\n",
      "PaymentMethod_Electronic check                1.40476386      -0.7118634\n",
      "PaymentMethod_Mailed check                    -0.5436035      1.83957601\n",
      "DeviceProtection_No internet service          -0.5251304      -0.5251304\n",
      "DeviceProtection_Yes                          -0.7239179      1.38137199\n",
      "TechSupport_No internet service               -0.5251304      -0.5251304\n",
      "TechSupport_Yes                               -0.6392603      -0.6392603\n",
      "StreamingTV_No internet service               -0.5251304      -0.5251304\n",
      "StreamingTV_Yes                               -0.7901858      -0.7901858\n",
      "StreamingMovies_No internet service           -0.5251304      -0.5251304\n",
      "StreamingMovies_Yes                           -0.7968491      -0.7968491\n"
     ]
    }
   ],
   "source": [
    "def display():\n",
    "    columns = x_train_tbl.columns\n",
    "    for col in columns:\n",
    "        print(\"%-45s %-15.10s %.10s\" %(col, x_train_tbl[col].iloc[0], x_train_tbl[col].iloc[1]))\n",
    "display()\n",
    "x_train_tbl.to_csv(\"gg.csv\")"
   ]
  },
  {
   "cell_type": "markdown",
   "metadata": {},
   "source": [
    "### Generate model with Scikit Learn (Machine Learning)"
   ]
  },
  {
   "cell_type": "code",
   "execution_count": 32,
   "metadata": {},
   "outputs": [],
   "source": [
    "from sklearn.model_selection import train_test_split\n",
    "from sklearn.ensemble import RandomForestRegressor\n",
    "from sklearn.metrics import f1_score,confusion_matrix\n",
    "from sklearn.metrics import accuracy_score\n",
    "from sklearn.metrics import roc_auc_score\n",
    "import seaborn as sns # data visualization library"
   ]
  },
  {
   "cell_type": "markdown",
   "metadata": {},
   "source": [
    "Here we apply a Random Forest Algorithm to our model. "
   ]
  },
  {
   "cell_type": "markdown",
   "metadata": {},
   "source": [
    "Random forests or random decision forests are an ensemble learning method for classification, regression and other tasks that operates by constructing a multitude of decision trees at training time and outputting the class that is the mode of the classes (classification) or mean prediction (regression) of the individual trees."
   ]
  },
  {
   "cell_type": "code",
   "execution_count": 33,
   "metadata": {},
   "outputs": [
    {
     "name": "stdout",
     "output_type": "stream",
     "text": [
      "30 trees\n",
      "C-stat:  0.8010015179042523\n",
      "\n",
      "50 trees\n",
      "C-stat:  0.8085839727245081\n",
      "\n",
      "100 trees\n",
      "C-stat:  0.8153364048801661\n",
      "\n",
      "200 trees\n",
      "C-stat:  0.8174335949378932\n",
      "\n",
      "500 trees\n",
      "C-stat:  0.8179334441871284\n",
      "\n",
      "1000 trees\n",
      "C-stat:  0.8182198381508599\n",
      "\n",
      "2000 trees\n",
      "C-stat:  0.8191101286319888\n",
      "\n"
     ]
    },
    {
     "data": {
      "image/png": "[encoded data removed]",
      "text/plain": [
       "<Figure size 432x288 with 1 Axes>"
      ]
     },
     "metadata": {
      "needs_background": "light"
     },
     "output_type": "display_data"
    }
   ],
   "source": [
    "results = []\n",
    "\n",
    "n_estimator_options = [30, 50, 100, 200, 500, 1000, 2000]\n",
    "\n",
    "for trees in n_estimator_options:\n",
    "    clf_rf = RandomForestRegressor(trees, oob_score = True, n_jobs = -1, random_state = 42)\n",
    "    clr_rf = clf_rf.fit(x_train_tbl,y_train_vec)\n",
    "    print(trees, \"trees\")\n",
    "    roc = roc_auc_score(y_train_vec, clr_rf.oob_prediction_)\n",
    "    print(\"C-stat: \", roc)\n",
    "    results.append(roc)\n",
    "    print(\"\")\n",
    "    \n",
    "pd.Series(results, n_estimator_options).plot();"
   ]
  },
  {
   "cell_type": "code",
   "execution_count": 34,
   "metadata": {},
   "outputs": [
    {
     "name": "stdout",
     "output_type": "stream",
     "text": [
      "0.2 option\n",
      "C-stat:  0.8247627137476901\n",
      "\n",
      "log2 option\n",
      "C-stat:  0.8240383628207028\n",
      "\n",
      "sqrt option\n",
      "C-stat:  0.8240383628207028\n",
      "\n",
      "auto option\n",
      "C-stat:  0.8191101286319888\n",
      "\n",
      "None option\n",
      "C-stat:  0.8191101286319888\n",
      "\n",
      "0.9 option\n",
      "C-stat:  0.8197781916925932\n",
      "\n"
     ]
    },
    {
     "data": {
      "image/png": "[encoded data removed]",
      "text/plain": [
       "<Figure size 432x288 with 1 Axes>"
      ]
     },
     "metadata": {
      "needs_background": "light"
     },
     "output_type": "display_data"
    }
   ],
   "source": [
    "results = []\n",
    "max_features_options = [0.2, \"log2\", \"sqrt\", \"auto\", None, 0.9]\n",
    "\n",
    "for max_features in max_features_options:\n",
    "    clf_rf = RandomForestRegressor(n_estimators = 2000, oob_score = True, n_jobs = -1, random_state = 42, max_features = max_features)\n",
    "    clr_rf = clf_rf.fit(x_train_tbl, y_train_vec)\n",
    "    print(max_features, \"option\")\n",
    "    roc = roc_auc_score(y_train_vec, clr_rf.oob_prediction_)\n",
    "    print(\"C-stat: \", roc)\n",
    "    results.append(roc)\n",
    "    print(\"\")\n",
    "    \n",
    "pd.Series(results, max_features_options).plot(kind = \"barh\", xlim = (.75, .90));"
   ]
  },
  {
   "cell_type": "code",
   "execution_count": 35,
   "metadata": {},
   "outputs": [
    {
     "name": "stdout",
     "output_type": "stream",
     "text": [
      "1 min samples\n",
      "C-stat:  0.8247627137476901\n",
      "\n",
      "2 min samples\n",
      "C-stat:  0.8371115243761388\n",
      "\n",
      "3 min samples\n",
      "C-stat:  0.8412894973501654\n",
      "\n",
      "4 min samples\n",
      "C-stat:  0.8428403783324365\n",
      "\n",
      "5 min samples\n",
      "C-stat:  0.8441916120195145\n",
      "\n",
      "6 min samples\n",
      "C-stat:  0.8446329803686116\n",
      "\n",
      "7 min samples\n",
      "C-stat:  0.84515346037984\n",
      "\n",
      "8 min samples\n",
      "C-stat:  0.8453971307970818\n",
      "\n",
      "9 min samples\n",
      "C-stat:  0.8458272903069857\n",
      "\n",
      "10 min samples\n",
      "C-stat:  0.8458014612427581\n",
      "\n"
     ]
    },
    {
     "data": {
      "image/png": "[encoded data removed]",
      "text/plain": [
       "<Figure size 432x288 with 1 Axes>"
      ]
     },
     "metadata": {
      "needs_background": "light"
     },
     "output_type": "display_data"
    }
   ],
   "source": [
    "results = []\n",
    "min_samples_leaf_options = [1, 2, 3, 4, 5, 6, 7, 8, 9, 10]\n",
    "\n",
    "for min_samples in min_samples_leaf_options:\n",
    "    clf_rf = RandomForestRegressor(n_estimators = 2000,\n",
    "                                  oob_score = True,\n",
    "                                  n_jobs = -1,\n",
    "                                  random_state = 42,\n",
    "                                  max_features = 0.2,\n",
    "                                  min_samples_leaf = min_samples\n",
    "                                  )\n",
    "    clr_rf = clf_rf.fit(x_train_tbl, y_train_vec)\n",
    "    print(min_samples, \"min samples\")\n",
    "    roc = roc_auc_score(y_train_vec, clr_rf.oob_prediction_)\n",
    "    print(\"C-stat: \", roc)\n",
    "    results.append(roc)\n",
    "    print(\"\")\n",
    "\n",
    "pd.Series(results, min_samples_leaf_options).plot();"
   ]
  },
  {
   "cell_type": "code",
   "execution_count": 36,
   "metadata": {},
   "outputs": [
    {
     "name": "stdout",
     "output_type": "stream",
     "text": [
      "C-stat:  0.8458272903069857\n"
     ]
    }
   ],
   "source": [
    "clf_rf = RandomForestRegressor(n_estimators = 2000,\n",
    "                              oob_score = True,\n",
    "                              n_jobs = -1,\n",
    "                              random_state = 42,\n",
    "                              max_features = 0.2,\n",
    "                              min_samples_leaf = 9\n",
    "                              )\n",
    "\n",
    "clr_rf = clf_rf.fit(x_train_tbl, y_train_vec)\n",
    "roc = roc_auc_score(y_train_vec, clr_rf.oob_prediction_)\n",
    "print(\"C-stat: \", roc)"
   ]
  },
  {
   "cell_type": "markdown",
   "metadata": {},
   "source": [
    "As we can observe above, we finally obtained an accuracy of 0.845 in our **TRAIN SET**"
   ]
  },
  {
   "cell_type": "markdown",
   "metadata": {},
   "source": [
    "Now let's observe the the accuracy of our **TEST SET**"
   ]
  },
  {
   "cell_type": "code",
   "execution_count": 37,
   "metadata": {},
   "outputs": [
    {
     "name": "stdout",
     "output_type": "stream",
     "text": [
      "ROC AUC Score is: 0.8440213248197777\n"
     ]
    }
   ],
   "source": [
    "import numpy as np\n",
    "from sklearn.metrics import roc_auc_score\n",
    "y_pred = clf_rf.predict(np.array(x_test_tbl.values))\n",
    "print('ROC AUC Score is:', roc_auc_score(y_test_vec, y_pred))"
   ]
  },
  {
   "cell_type": "code",
   "execution_count": 38,
   "metadata": {},
   "outputs": [
    {
     "data": {
      "text/html": [
       "<div>\n",
       "<style scoped>\n",
       "    .dataframe tbody tr th:only-of-type {\n",
       "        vertical-align: middle;\n",
       "    }\n",
       "\n",
       "    .dataframe tbody tr th {\n",
       "        vertical-align: top;\n",
       "    }\n",
       "\n",
       "    .dataframe thead th {\n",
       "        text-align: right;\n",
       "    }\n",
       "</style>\n",
       "<table border=\"1\" class=\"dataframe\">\n",
       "  <thead>\n",
       "    <tr style=\"text-align: right;\">\n",
       "      <th></th>\n",
       "      <th>truth</th>\n",
       "      <th>estimate</th>\n",
       "      <th>pred</th>\n",
       "    </tr>\n",
       "  </thead>\n",
       "  <tbody>\n",
       "    <tr>\n",
       "      <th>5634</th>\n",
       "      <td>1</td>\n",
       "      <td>0.0</td>\n",
       "      <td>0.322843</td>\n",
       "    </tr>\n",
       "    <tr>\n",
       "      <th>5635</th>\n",
       "      <td>0</td>\n",
       "      <td>0.0</td>\n",
       "      <td>0.165453</td>\n",
       "    </tr>\n",
       "    <tr>\n",
       "      <th>5636</th>\n",
       "      <td>1</td>\n",
       "      <td>0.0</td>\n",
       "      <td>0.377725</td>\n",
       "    </tr>\n",
       "    <tr>\n",
       "      <th>5637</th>\n",
       "      <td>0</td>\n",
       "      <td>0.0</td>\n",
       "      <td>0.158025</td>\n",
       "    </tr>\n",
       "    <tr>\n",
       "      <th>5638</th>\n",
       "      <td>1</td>\n",
       "      <td>0.0</td>\n",
       "      <td>0.307245</td>\n",
       "    </tr>\n",
       "    <tr>\n",
       "      <th>5639</th>\n",
       "      <td>0</td>\n",
       "      <td>0.0</td>\n",
       "      <td>0.092436</td>\n",
       "    </tr>\n",
       "    <tr>\n",
       "      <th>5640</th>\n",
       "      <td>1</td>\n",
       "      <td>1.0</td>\n",
       "      <td>0.801647</td>\n",
       "    </tr>\n",
       "    <tr>\n",
       "      <th>5641</th>\n",
       "      <td>0</td>\n",
       "      <td>0.0</td>\n",
       "      <td>0.033647</td>\n",
       "    </tr>\n",
       "    <tr>\n",
       "      <th>5642</th>\n",
       "      <td>0</td>\n",
       "      <td>0.0</td>\n",
       "      <td>0.012426</td>\n",
       "    </tr>\n",
       "    <tr>\n",
       "      <th>5643</th>\n",
       "      <td>1</td>\n",
       "      <td>1.0</td>\n",
       "      <td>0.711118</td>\n",
       "    </tr>\n",
       "    <tr>\n",
       "      <th>5644</th>\n",
       "      <td>1</td>\n",
       "      <td>1.0</td>\n",
       "      <td>0.743909</td>\n",
       "    </tr>\n",
       "    <tr>\n",
       "      <th>5645</th>\n",
       "      <td>0</td>\n",
       "      <td>0.0</td>\n",
       "      <td>0.072291</td>\n",
       "    </tr>\n",
       "    <tr>\n",
       "      <th>5646</th>\n",
       "      <td>1</td>\n",
       "      <td>0.0</td>\n",
       "      <td>0.242218</td>\n",
       "    </tr>\n",
       "    <tr>\n",
       "      <th>5647</th>\n",
       "      <td>0</td>\n",
       "      <td>0.0</td>\n",
       "      <td>0.145777</td>\n",
       "    </tr>\n",
       "    <tr>\n",
       "      <th>5648</th>\n",
       "      <td>0</td>\n",
       "      <td>0.0</td>\n",
       "      <td>0.267433</td>\n",
       "    </tr>\n",
       "  </tbody>\n",
       "</table>\n",
       "</div>"
      ],
      "text/plain": [
       "      truth  estimate      pred\n",
       "5634      1       0.0  0.322843\n",
       "5635      0       0.0  0.165453\n",
       "5636      1       0.0  0.377725\n",
       "5637      0       0.0  0.158025\n",
       "5638      1       0.0  0.307245\n",
       "5639      0       0.0  0.092436\n",
       "5640      1       1.0  0.801647\n",
       "5641      0       0.0  0.033647\n",
       "5642      0       0.0  0.012426\n",
       "5643      1       1.0  0.711118\n",
       "5644      1       1.0  0.743909\n",
       "5645      0       0.0  0.072291\n",
       "5646      1       0.0  0.242218\n",
       "5647      0       0.0  0.145777\n",
       "5648      0       0.0  0.267433"
      ]
     },
     "execution_count": 38,
     "metadata": {},
     "output_type": "execute_result"
    }
   ],
   "source": [
    "prob = np.around(y_pred, decimals=0, out=None)\n",
    "\n",
    "pred_raw_data = {'truth': y_test_vec,\n",
    "                 'estimate': prob,\n",
    "                 'pred': y_pred}\n",
    "\n",
    "df = pd.DataFrame(pred_raw_data, columns = ['truth','estimate', 'pred'])\n",
    "df.head(15)"
   ]
  },
  {
   "cell_type": "markdown",
   "metadata": {},
   "source": [
    "To observe if we are working correctly our main purpose is to make a plot of a Decision Tree."
   ]
  },
  {
   "cell_type": "code",
   "execution_count": 39,
   "metadata": {},
   "outputs": [
    {
     "data": {
      "text/plain": [
       "'decision_tree.gv.pdf'"
      ]
     },
     "execution_count": 39,
     "metadata": {},
     "output_type": "execute_result"
    }
   ],
   "source": [
    "from sklearn import tree\n",
    "import graphviz \n",
    "\n",
    "# Create each decision tree (pruned and unpruned)\n",
    "decisionTree_unpruned = tree.DecisionTreeClassifier()\n",
    "decisionTree = tree.DecisionTreeClassifier(max_depth = 4)\n",
    "\n",
    "# Fit each tree to our training data\n",
    "decisionTree_unpruned = decisionTree_unpruned.fit(X = x_train_tbl, y= y_train_vec)\n",
    "decisionTree = decisionTree.fit(X = x_train_tbl, y = y_train_vec)\n",
    "\n",
    "# Generate PDF visual of decision tree\n",
    "churnTree = tree.export_graphviz(decisionTree, out_file=None, \n",
    "                         feature_names = list(x_train_tbl.columns.values),  \n",
    "                         class_names = ['No churn', 'Churn'],\n",
    "                         filled=True, rounded=True,  \n",
    "                         special_characters=True)  \n",
    "graph = graphviz.Source(churnTree)\n",
    "graph.render('decision_tree.gv', view=True)"
   ]
  },
  {
   "cell_type": "markdown",
   "metadata": {},
   "source": [
    "### Inspect Performance"
   ]
  },
  {
   "cell_type": "code",
   "execution_count": 40,
   "metadata": {},
   "outputs": [
    {
     "name": "stdout",
     "output_type": "stream",
     "text": [
      "Mean Absolute Error: 0.273137882670096\n",
      "Mean Squared Error: 0.13549672953104377\n",
      "Root Mean Squared Error: 0.36809880403370476\n"
     ]
    }
   ],
   "source": [
    "from sklearn import metrics\n",
    "\n",
    "print('Mean Absolute Error:', metrics.mean_absolute_error(y_test_vec, y_pred))  \n",
    "print('Mean Squared Error:', metrics.mean_squared_error(y_test_vec, y_pred))  \n",
    "print('Root Mean Squared Error:', np.sqrt(metrics.mean_squared_error(y_test_vec, y_pred)))"
   ]
  },
  {
   "cell_type": "code",
   "execution_count": 41,
   "metadata": {},
   "outputs": [
    {
     "name": "stdout",
     "output_type": "stream",
     "text": [
      "[0.00959303 0.10821649 0.18765486 0.01371849 0.0098779  0.0081116\n",
      " 0.08733687 0.01851035 0.00789849 0.00603503 0.01093569 0.01429466\n",
      " 0.00349932 0.00347784 0.01177927 0.09466531 0.01082595 0.01034036\n",
      " 0.01263278 0.01123865 0.02979295 0.03582905 0.07318953 0.02062763\n",
      " 0.0067643  0.07986037 0.00541597 0.009905   0.00900923 0.0101375\n",
      " 0.03292309 0.01191175 0.0105103  0.012802   0.01067839]\n"
     ]
    },
    {
     "data": {
      "image/png": "[encoded data removed]",
      "text/plain": [
       "<Figure size 432x288 with 1 Axes>"
      ]
     },
     "metadata": {
      "needs_background": "light"
     },
     "output_type": "display_data"
    }
   ],
   "source": [
    "# Get Feature Importance from the classifier\n",
    "feature_importance = clf_rf.feature_importances_\n",
    "print (clf_rf.feature_importances_)\n",
    "features = x_train_tbl.columns\n",
    "importances = clf_rf.feature_importances_\n",
    "indices = np.argsort(importances)\n",
    "\n",
    "plt.title('Feature Importances')\n",
    "plt.barh(range(len(indices)), importances[indices], color='b', align='center')\n",
    "plt.yticks(range(len(indices)), [features[i] for i in indices])\n",
    "plt.xlabel('Relative Importance')\n",
    "plt.show() "
   ]
  },
  {
   "cell_type": "code",
   "execution_count": 42,
   "metadata": {},
   "outputs": [
    {
     "data": {
      "image/png": "[encoded data removed]",
      "text/plain": [
       "<Figure size 576x396 with 1 Axes>"
      ]
     },
     "metadata": {},
     "output_type": "display_data"
    }
   ],
   "source": [
    "from sklearn import datasets\n",
    "from yellowbrick.target import FeatureCorrelation\n",
    "\n",
    "feature_names = np.array(x_train_tbl.columns)\n",
    "\n",
    "visualizer = FeatureCorrelation(labels=feature_names, sort = True)\n",
    "visualizer.fit(x_train_tbl, y_train_vec)\n",
    "visualizer.poof()"
   ]
  },
  {
   "cell_type": "markdown",
   "metadata": {},
   "source": [
    "### Contract Type\n",
    "The feature is clearly correlated with those electing to stay. Customers with one and two year contracts are much less likely to churn. Opportunity: Offer promotion to switch to long term contracts."
   ]
  },
  {
   "cell_type": "code",
   "execution_count": 43,
   "metadata": {},
   "outputs": [
    {
     "data": {
      "text/plain": [
       "Text(0.5, 0, 'Churn')"
      ]
     },
     "execution_count": 43,
     "metadata": {},
     "output_type": "execute_result"
    },
    {
     "data": {
      "image/png": "[encoded data removed]",
      "text/plain": [
       "<Figure size 864x432 with 1 Axes>"
      ]
     },
     "metadata": {},
     "output_type": "display_data"
    }
   ],
   "source": [
    "plot_data = pd.read_csv(\"Telco_Customer_Churn.csv\")\n",
    " \n",
    "plt.figure(figsize=(12,6))\n",
    "ax = sns.countplot(x=\"Churn\", hue=\"Contract\", data = plot_data);\n",
    "ax.set_title('Contract Type vs Churn', fontsize=20)\n",
    "ax.set_ylabel('Number of Customers', fontsize = 15)\n",
    "ax.set_xlabel('Churn', fontsize = 15)"
   ]
  },
  {
   "cell_type": "markdown",
   "metadata": {},
   "source": [
    "### Tenure\n",
    "Investigating the feature distribution, it appears that customers with lower tenure (bin 1) are more likely to leave. Opportunity: Target customers with less than 12 month tenure."
   ]
  },
  {
   "cell_type": "code",
   "execution_count": 44,
   "metadata": {},
   "outputs": [
    {
     "data": {
      "text/plain": [
       "Text(0.5, 0, 'Churn')"
      ]
     },
     "execution_count": 44,
     "metadata": {},
     "output_type": "execute_result"
    },
    {
     "data": {
      "image/png": "[encoded data removed]",
      "text/plain": [
       "<Figure size 720x360 with 1 Axes>"
      ]
     },
     "metadata": {},
     "output_type": "display_data"
    }
   ],
   "source": [
    "plot_data = pd.read_csv(\"Telco_Customer_Churn.csv\")\n",
    "plot_data['tenure'] = pd.qcut(plot_data[\"tenure\"], 6)\n",
    "plt.figure(figsize=(10,5))\n",
    "ax = sns.countplot(x=\"Churn\", hue='tenure', data = plot_data);\n",
    "ax.set_title('Tenure vs Churn', fontsize=20)\n",
    "ax.set_ylabel('Number of Customers', fontsize = 15)\n",
    "ax.set_xlabel('Churn', fontsize = 15)"
   ]
  },
  {
   "cell_type": "markdown",
   "metadata": {},
   "source": [
    "### Internet Service\n",
    "Customers with fiber optic service are more likely to churn while those with no internet service are less likely to churn. Improvement Area: Customers may be dissatisfied with fiber optic service."
   ]
  },
  {
   "cell_type": "code",
   "execution_count": 45,
   "metadata": {},
   "outputs": [
    {
     "data": {
      "text/plain": [
       "Text(0.5, 0, 'Churn')"
      ]
     },
     "execution_count": 45,
     "metadata": {},
     "output_type": "execute_result"
    },
    {
     "data": {
      "image/png": "[encoded data removed]",
      "text/plain": [
       "<Figure size 864x432 with 1 Axes>"
      ]
     },
     "metadata": {},
     "output_type": "display_data"
    }
   ],
   "source": [
    "plot_data = pd.read_csv(\"Telco_Customer_Churn.csv\")\n",
    " \n",
    "plt.figure(figsize=(12,6))\n",
    "ax = sns.countplot(x=\"Churn\", hue=\"InternetService\", data = plot_data);\n",
    "ax.set_title('Internet Service vs Churn', fontsize=20)\n",
    "ax.set_ylabel('Number of Customers', fontsize = 15)\n",
    "ax.set_xlabel('Churn', fontsize = 15)"
   ]
  },
  {
   "cell_type": "markdown",
   "metadata": {},
   "source": [
    "### Payment Method\n",
    "This feature is clearly correlated with those electing to stay. Customers with electronic check are more likely to leave. Opportunity: Offer customers a promotion to switch to automatic payments."
   ]
  },
  {
   "cell_type": "code",
   "execution_count": 46,
   "metadata": {},
   "outputs": [
    {
     "data": {
      "text/plain": [
       "Text(0.5, 0, 'Churn')"
      ]
     },
     "execution_count": 46,
     "metadata": {},
     "output_type": "execute_result"
    },
    {
     "data": {
      "image/png": "[encoded data removed]",
      "text/plain": [
       "<Figure size 864x432 with 1 Axes>"
      ]
     },
     "metadata": {},
     "output_type": "display_data"
    }
   ],
   "source": [
    "plot_data = pd.read_csv(\"Telco_Customer_Churn.csv\")\n",
    " \n",
    "plt.figure(figsize=(12,6))\n",
    "ax = sns.countplot(x=\"Churn\", hue=\"PaymentMethod\", data = plot_data);\n",
    "ax.set_title('PaymentMethod vs Churn', fontsize=20)\n",
    "ax.set_ylabel('Number of Customers', fontsize = 15)\n",
    "ax.set_xlabel('Churn', fontsize = 15)"
   ]
  },
  {
   "cell_type": "markdown",
   "metadata": {},
   "source": [
    "### Senior Citizen\n",
    "Senior citizen appeared in several of the LIME cases indicating it was important to the ANN for the 10 samples. However, it was not highly correlated to Churn, which may indicate that the ANN is using in an more sophisticated manner (e.g. as an interaction). It’s difficult to say that senior citizens are more likely to leave, but non-senior citizens appear less at risk of churning. Opportunity: Target users in the lower age demographic."
   ]
  },
  {
   "cell_type": "code",
   "execution_count": 47,
   "metadata": {},
   "outputs": [
    {
     "data": {
      "text/plain": [
       "Text(0.5, 0, 'Churn')"
      ]
     },
     "execution_count": 47,
     "metadata": {},
     "output_type": "execute_result"
    },
    {
     "data": {
      "image/png": "[encoded data removed]",
      "text/plain": [
       "<Figure size 864x432 with 1 Axes>"
      ]
     },
     "metadata": {},
     "output_type": "display_data"
    }
   ],
   "source": [
    "plot_data = pd.read_csv(\"Telco_Customer_Churn.csv\")\n",
    " \n",
    "plt.figure(figsize=(12,6))\n",
    "ax = sns.countplot(x=\"Churn\", hue=\"SeniorCitizen\", data = plot_data);\n",
    "ax.set_title('Senior Citizen vs Churn', fontsize=20)\n",
    "ax.set_ylabel('Number of Customers', fontsize = 15)\n",
    "ax.set_xlabel('Churn', fontsize = 15)"
   ]
  },
  {
   "cell_type": "markdown",
   "metadata": {},
   "source": [
    "### Online Security\n",
    "Customers that did not sign up for online security were more likely to leave while customers with no internet service or online security were less likely to leave. Opportunity: Promote online security and other packages that increase retention rates."
   ]
  },
  {
   "cell_type": "code",
   "execution_count": 48,
   "metadata": {},
   "outputs": [
    {
     "data": {
      "text/plain": [
       "Text(0.5, 0, 'Churn')"
      ]
     },
     "execution_count": 48,
     "metadata": {},
     "output_type": "execute_result"
    },
    {
     "data": {
      "image/png": "[encoded data removed]",
      "text/plain": [
       "<Figure size 864x432 with 1 Axes>"
      ]
     },
     "metadata": {},
     "output_type": "display_data"
    }
   ],
   "source": [
    "plot_data = pd.read_csv(\"Telco_Customer_Churn.csv\")\n",
    " \n",
    "plt.figure(figsize=(12,6))\n",
    "ax = sns.countplot(x=\"Churn\", hue=\"OnlineSecurity\", data = plot_data);\n",
    "ax.set_title('Online Security vs Churn', fontsize=20)\n",
    "ax.set_ylabel('Number of Customers', fontsize = 15)\n",
    "ax.set_xlabel('Churn', fontsize = 15)"
   ]
  },
  {
   "cell_type": "markdown",
   "metadata": {},
   "source": [
    "### Conclusions\n",
    "\n",
    "Customer churn is a costly problem. The good news is that machine learning can solve churn problems, making the organization more profitable in the process. In this article, we saw how Machine Learning can be used to predict customer churn. We built a Random Forest Regression Tuned Model that achieved 84% predictive accuracy! For the IBM Telco dataset, tenure, contract type, internet service type, payment menthod, senior citizen status, and online security status were useful in diagnosing customer churn."
   ]
  }
 ],
 "metadata": {
  "kernelspec": {
   "display_name": "Python 3",
   "language": "python",
   "name": "python3"
  },
  "language_info": {
   "codemirror_mode": {
    "name": "ipython",
    "version": 3
   },
   "file_extension": ".py",
   "mimetype": "text/x-python",
   "name": "python",
   "nbconvert_exporter": "python",
   "pygments_lexer": "ipython3",
   "version": "3.6.8"
  }
 },
 "nbformat": 4,
 "nbformat_minor": 2
}
