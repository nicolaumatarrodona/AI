{
 "cells": [
  {
   "cell_type": "markdown",
   "metadata": {},
   "source": [
    "# Deep Learning With Keras To Predict Customer Churn"
   ]
  },
  {
   "cell_type": "markdown",
   "metadata": {},
   "source": [
    "Using Keras to predict customer churn based on the IBM Watson Telco Customer Churn dataset. "
   ]
  },
  {
   "cell_type": "markdown",
   "metadata": {},
   "source": [
    "### Load Libraries"
   ]
  },
  {
   "cell_type": "code",
   "execution_count": 1,
   "metadata": {},
   "outputs": [
    {
     "name": "stderr",
     "output_type": "stream",
     "text": [
      "Using TensorFlow backend.\n"
     ]
    },
    {
     "name": "stdout",
     "output_type": "stream",
     "text": [
      "1.12.0\n",
      "2.1.6-tf\n"
     ]
    }
   ],
   "source": [
    "import pandas as pd\n",
    "import numpy as np\n",
    "import matplotlib.pyplot as plt\n",
    "import keras\n",
    "from keras.models import Sequential\n",
    "from keras.layers import Dense\n",
    "import tensorflow as tf\n",
    "from tensorflow.keras import layers\n",
    "import warnings\n",
    "\n",
    "\n",
    "print(tf.VERSION)\n",
    "print(tf.keras.__version__)"
   ]
  },
  {
   "cell_type": "markdown",
   "metadata": {},
   "source": [
    "### Import Data"
   ]
  },
  {
   "cell_type": "code",
   "execution_count": 2,
   "metadata": {},
   "outputs": [],
   "source": [
    "churn_data_raw = pd.read_csv(\"telco.csv\")"
   ]
  },
  {
   "cell_type": "code",
   "execution_count": 3,
   "metadata": {},
   "outputs": [
    {
     "data": {
      "text/html": [
       "<div>\n",
       "<style scoped>\n",
       "    .dataframe tbody tr th:only-of-type {\n",
       "        vertical-align: middle;\n",
       "    }\n",
       "\n",
       "    .dataframe tbody tr th {\n",
       "        vertical-align: top;\n",
       "    }\n",
       "\n",
       "    .dataframe thead th {\n",
       "        text-align: right;\n",
       "    }\n",
       "</style>\n",
       "<table border=\"1\" class=\"dataframe\">\n",
       "  <thead>\n",
       "    <tr style=\"text-align: right;\">\n",
       "      <th></th>\n",
       "      <th>customerID</th>\n",
       "      <th>gender</th>\n",
       "      <th>SeniorCitizen</th>\n",
       "      <th>Partner</th>\n",
       "      <th>Dependents</th>\n",
       "      <th>tenure</th>\n",
       "      <th>PhoneService</th>\n",
       "      <th>MultipleLines</th>\n",
       "      <th>InternetService</th>\n",
       "      <th>OnlineSecurity</th>\n",
       "      <th>...</th>\n",
       "      <th>DeviceProtection</th>\n",
       "      <th>TechSupport</th>\n",
       "      <th>StreamingTV</th>\n",
       "      <th>StreamingMovies</th>\n",
       "      <th>Contract</th>\n",
       "      <th>PaperlessBilling</th>\n",
       "      <th>PaymentMethod</th>\n",
       "      <th>MonthlyCharges</th>\n",
       "      <th>TotalCharges</th>\n",
       "      <th>Churn</th>\n",
       "    </tr>\n",
       "  </thead>\n",
       "  <tbody>\n",
       "    <tr>\n",
       "      <th>0</th>\n",
       "      <td>7590-VHVEG</td>\n",
       "      <td>Female</td>\n",
       "      <td>0</td>\n",
       "      <td>Yes</td>\n",
       "      <td>No</td>\n",
       "      <td>1</td>\n",
       "      <td>No</td>\n",
       "      <td>No phone service</td>\n",
       "      <td>DSL</td>\n",
       "      <td>No</td>\n",
       "      <td>...</td>\n",
       "      <td>No</td>\n",
       "      <td>No</td>\n",
       "      <td>No</td>\n",
       "      <td>No</td>\n",
       "      <td>Month-to-month</td>\n",
       "      <td>Yes</td>\n",
       "      <td>Electronic check</td>\n",
       "      <td>29.85</td>\n",
       "      <td>29.85</td>\n",
       "      <td>No</td>\n",
       "    </tr>\n",
       "    <tr>\n",
       "      <th>1</th>\n",
       "      <td>5575-GNVDE</td>\n",
       "      <td>Male</td>\n",
       "      <td>0</td>\n",
       "      <td>No</td>\n",
       "      <td>No</td>\n",
       "      <td>34</td>\n",
       "      <td>Yes</td>\n",
       "      <td>No</td>\n",
       "      <td>DSL</td>\n",
       "      <td>Yes</td>\n",
       "      <td>...</td>\n",
       "      <td>Yes</td>\n",
       "      <td>No</td>\n",
       "      <td>No</td>\n",
       "      <td>No</td>\n",
       "      <td>One year</td>\n",
       "      <td>No</td>\n",
       "      <td>Mailed check</td>\n",
       "      <td>56.95</td>\n",
       "      <td>1889.5</td>\n",
       "      <td>No</td>\n",
       "    </tr>\n",
       "    <tr>\n",
       "      <th>2</th>\n",
       "      <td>3668-QPYBK</td>\n",
       "      <td>Male</td>\n",
       "      <td>0</td>\n",
       "      <td>No</td>\n",
       "      <td>No</td>\n",
       "      <td>2</td>\n",
       "      <td>Yes</td>\n",
       "      <td>No</td>\n",
       "      <td>DSL</td>\n",
       "      <td>Yes</td>\n",
       "      <td>...</td>\n",
       "      <td>No</td>\n",
       "      <td>No</td>\n",
       "      <td>No</td>\n",
       "      <td>No</td>\n",
       "      <td>Month-to-month</td>\n",
       "      <td>Yes</td>\n",
       "      <td>Mailed check</td>\n",
       "      <td>53.85</td>\n",
       "      <td>108.15</td>\n",
       "      <td>Yes</td>\n",
       "    </tr>\n",
       "    <tr>\n",
       "      <th>3</th>\n",
       "      <td>7795-CFOCW</td>\n",
       "      <td>Male</td>\n",
       "      <td>0</td>\n",
       "      <td>No</td>\n",
       "      <td>No</td>\n",
       "      <td>45</td>\n",
       "      <td>No</td>\n",
       "      <td>No phone service</td>\n",
       "      <td>DSL</td>\n",
       "      <td>Yes</td>\n",
       "      <td>...</td>\n",
       "      <td>Yes</td>\n",
       "      <td>Yes</td>\n",
       "      <td>No</td>\n",
       "      <td>No</td>\n",
       "      <td>One year</td>\n",
       "      <td>No</td>\n",
       "      <td>Bank transfer (automatic)</td>\n",
       "      <td>42.30</td>\n",
       "      <td>1840.75</td>\n",
       "      <td>No</td>\n",
       "    </tr>\n",
       "    <tr>\n",
       "      <th>4</th>\n",
       "      <td>9237-HQITU</td>\n",
       "      <td>Female</td>\n",
       "      <td>0</td>\n",
       "      <td>No</td>\n",
       "      <td>No</td>\n",
       "      <td>2</td>\n",
       "      <td>Yes</td>\n",
       "      <td>No</td>\n",
       "      <td>Fiber optic</td>\n",
       "      <td>No</td>\n",
       "      <td>...</td>\n",
       "      <td>No</td>\n",
       "      <td>No</td>\n",
       "      <td>No</td>\n",
       "      <td>No</td>\n",
       "      <td>Month-to-month</td>\n",
       "      <td>Yes</td>\n",
       "      <td>Electronic check</td>\n",
       "      <td>70.70</td>\n",
       "      <td>151.65</td>\n",
       "      <td>Yes</td>\n",
       "    </tr>\n",
       "  </tbody>\n",
       "</table>\n",
       "<p>5 rows × 21 columns</p>\n",
       "</div>"
      ],
      "text/plain": [
       "   customerID  gender  SeniorCitizen Partner Dependents  tenure PhoneService  \\\n",
       "0  7590-VHVEG  Female              0     Yes         No       1           No   \n",
       "1  5575-GNVDE    Male              0      No         No      34          Yes   \n",
       "2  3668-QPYBK    Male              0      No         No       2          Yes   \n",
       "3  7795-CFOCW    Male              0      No         No      45           No   \n",
       "4  9237-HQITU  Female              0      No         No       2          Yes   \n",
       "\n",
       "      MultipleLines InternetService OnlineSecurity  ... DeviceProtection  \\\n",
       "0  No phone service             DSL             No  ...               No   \n",
       "1                No             DSL            Yes  ...              Yes   \n",
       "2                No             DSL            Yes  ...               No   \n",
       "3  No phone service             DSL            Yes  ...              Yes   \n",
       "4                No     Fiber optic             No  ...               No   \n",
       "\n",
       "  TechSupport StreamingTV StreamingMovies        Contract PaperlessBilling  \\\n",
       "0          No          No              No  Month-to-month              Yes   \n",
       "1          No          No              No        One year               No   \n",
       "2          No          No              No  Month-to-month              Yes   \n",
       "3         Yes          No              No        One year               No   \n",
       "4          No          No              No  Month-to-month              Yes   \n",
       "\n",
       "               PaymentMethod MonthlyCharges  TotalCharges Churn  \n",
       "0           Electronic check          29.85         29.85    No  \n",
       "1               Mailed check          56.95        1889.5    No  \n",
       "2               Mailed check          53.85        108.15   Yes  \n",
       "3  Bank transfer (automatic)          42.30       1840.75    No  \n",
       "4           Electronic check          70.70        151.65   Yes  \n",
       "\n",
       "[5 rows x 21 columns]"
      ]
     },
     "execution_count": 3,
     "metadata": {},
     "output_type": "execute_result"
    }
   ],
   "source": [
    "churn_data_raw.head()"
   ]
  },
  {
   "cell_type": "code",
   "execution_count": 4,
   "metadata": {},
   "outputs": [
    {
     "name": "stdout",
     "output_type": "stream",
     "text": [
      "<class 'pandas.core.frame.DataFrame'>\n",
      "RangeIndex: 7043 entries, 0 to 7042\n",
      "Data columns (total 21 columns):\n",
      "customerID          7043 non-null object\n",
      "gender              7043 non-null object\n",
      "SeniorCitizen       7043 non-null int64\n",
      "Partner             7043 non-null object\n",
      "Dependents          7043 non-null object\n",
      "tenure              7043 non-null int64\n",
      "PhoneService        7043 non-null object\n",
      "MultipleLines       7043 non-null object\n",
      "InternetService     7043 non-null object\n",
      "OnlineSecurity      7043 non-null object\n",
      "OnlineBackup        7043 non-null object\n",
      "DeviceProtection    7043 non-null object\n",
      "TechSupport         7043 non-null object\n",
      "StreamingTV         7043 non-null object\n",
      "StreamingMovies     7043 non-null object\n",
      "Contract            7043 non-null object\n",
      "PaperlessBilling    7043 non-null object\n",
      "PaymentMethod       7043 non-null object\n",
      "MonthlyCharges      7043 non-null float64\n",
      "TotalCharges        7043 non-null object\n",
      "Churn               7043 non-null object\n",
      "dtypes: float64(1), int64(2), object(18)\n",
      "memory usage: 1.1+ MB\n"
     ]
    }
   ],
   "source": [
    "churn_data_raw.info()"
   ]
  },
  {
   "cell_type": "markdown",
   "metadata": {},
   "source": [
    "### Preprocess Data"
   ]
  },
  {
   "cell_type": "markdown",
   "metadata": {},
   "source": [
    "__Purne the data__\n",
    "\n",
    "The data has a few columns and rows we’d like to remove:\n",
    "\n",
    "The “customerID” column is a unique identifier for each observation that isn’t needed for modeling. We can de-select this column.\n",
    "The data has 11 NA values all in the “TotalCharges” column. Because it’s such a small percentage of the total population (99.8% complete cases), \n",
    "we can drop these observations with the drop_na() function from tidyr. Note that these may be customers that have not yet been charged, \n",
    "and therefore an alternative is to replace with zero or -99 to segregate this population from the rest."
   ]
  },
  {
   "cell_type": "code",
   "execution_count": 5,
   "metadata": {},
   "outputs": [
    {
     "name": "stdout",
     "output_type": "stream",
     "text": [
      "Missing values:  11\n"
     ]
    }
   ],
   "source": [
    "# Remove customerId\n",
    "churn_data_raw.pop(\"customerID\")\n",
    "#churn_data_raw.drop(churn_data_raw.columns[0], axis=1)\n",
    "\n",
    "# In order to handle missing values, we need to replace the 'blank spaces' value with a numpy NaN value\n",
    "churn_data_raw.replace(' ', np.nan, inplace=True)\n",
    "\n",
    "# Print how many missing values contains TotalCharges.\n",
    "print(\"Missing values: \", churn_data_raw['TotalCharges'].isnull().sum())\n",
    "\n",
    "# We remove the ovservations that contain missing values since it's a small percentage of the population\n",
    "churn_data_raw = churn_data_raw[pd.notnull(churn_data_raw['TotalCharges'])]\n",
    "\n",
    "churn_data_raw['TotalCharges'] = churn_data_raw.TotalCharges.astype(float)"
   ]
  },
  {
   "cell_type": "code",
   "execution_count": 6,
   "metadata": {},
   "outputs": [
    {
     "data": {
      "text/html": [
       "<div>\n",
       "<style scoped>\n",
       "    .dataframe tbody tr th:only-of-type {\n",
       "        vertical-align: middle;\n",
       "    }\n",
       "\n",
       "    .dataframe tbody tr th {\n",
       "        vertical-align: top;\n",
       "    }\n",
       "\n",
       "    .dataframe thead th {\n",
       "        text-align: right;\n",
       "    }\n",
       "</style>\n",
       "<table border=\"1\" class=\"dataframe\">\n",
       "  <thead>\n",
       "    <tr style=\"text-align: right;\">\n",
       "      <th></th>\n",
       "      <th>SeniorCitizen</th>\n",
       "      <th>tenure</th>\n",
       "      <th>MonthlyCharges</th>\n",
       "      <th>TotalCharges</th>\n",
       "    </tr>\n",
       "  </thead>\n",
       "  <tbody>\n",
       "    <tr>\n",
       "      <th>count</th>\n",
       "      <td>7032.000000</td>\n",
       "      <td>7032.000000</td>\n",
       "      <td>7032.000000</td>\n",
       "      <td>7032.000000</td>\n",
       "    </tr>\n",
       "    <tr>\n",
       "      <th>mean</th>\n",
       "      <td>0.162400</td>\n",
       "      <td>32.421786</td>\n",
       "      <td>64.798208</td>\n",
       "      <td>2283.300441</td>\n",
       "    </tr>\n",
       "    <tr>\n",
       "      <th>std</th>\n",
       "      <td>0.368844</td>\n",
       "      <td>24.545260</td>\n",
       "      <td>30.085974</td>\n",
       "      <td>2266.771362</td>\n",
       "    </tr>\n",
       "    <tr>\n",
       "      <th>min</th>\n",
       "      <td>0.000000</td>\n",
       "      <td>1.000000</td>\n",
       "      <td>18.250000</td>\n",
       "      <td>18.800000</td>\n",
       "    </tr>\n",
       "    <tr>\n",
       "      <th>25%</th>\n",
       "      <td>0.000000</td>\n",
       "      <td>9.000000</td>\n",
       "      <td>35.587500</td>\n",
       "      <td>401.450000</td>\n",
       "    </tr>\n",
       "    <tr>\n",
       "      <th>50%</th>\n",
       "      <td>0.000000</td>\n",
       "      <td>29.000000</td>\n",
       "      <td>70.350000</td>\n",
       "      <td>1397.475000</td>\n",
       "    </tr>\n",
       "    <tr>\n",
       "      <th>75%</th>\n",
       "      <td>0.000000</td>\n",
       "      <td>55.000000</td>\n",
       "      <td>89.862500</td>\n",
       "      <td>3794.737500</td>\n",
       "    </tr>\n",
       "    <tr>\n",
       "      <th>max</th>\n",
       "      <td>1.000000</td>\n",
       "      <td>72.000000</td>\n",
       "      <td>118.750000</td>\n",
       "      <td>8684.800000</td>\n",
       "    </tr>\n",
       "  </tbody>\n",
       "</table>\n",
       "</div>"
      ],
      "text/plain": [
       "       SeniorCitizen       tenure  MonthlyCharges  TotalCharges\n",
       "count    7032.000000  7032.000000     7032.000000   7032.000000\n",
       "mean        0.162400    32.421786       64.798208   2283.300441\n",
       "std         0.368844    24.545260       30.085974   2266.771362\n",
       "min         0.000000     1.000000       18.250000     18.800000\n",
       "25%         0.000000     9.000000       35.587500    401.450000\n",
       "50%         0.000000    29.000000       70.350000   1397.475000\n",
       "75%         0.000000    55.000000       89.862500   3794.737500\n",
       "max         1.000000    72.000000      118.750000   8684.800000"
      ]
     },
     "execution_count": 6,
     "metadata": {},
     "output_type": "execute_result"
    }
   ],
   "source": [
    "churn_data_raw.describe()"
   ]
  },
  {
   "cell_type": "markdown",
   "metadata": {},
   "source": [
    "### Exploration: What Transformation Steps Are Needed For ML?"
   ]
  },
  {
   "cell_type": "markdown",
   "metadata": {},
   "source": [
    "This phase of the analysis is often called exploratory analysis, but basically we are trying to answer the question, “What steps are needed to prepare for ML?” The key concept is knowing what transformations are needed to run the algorithm most effectively. Artificial Neural Networks are best when the data is one-hot encoded, scaled and centered. In addition, other transformations may be beneficial as well to make relationships easier for the algorithm to identify."
   ]
  },
  {
   "cell_type": "markdown",
   "metadata": {},
   "source": [
    "__Discretize the “Tenure” feature__\n",
    "\n",
    "Numeric features like age, years worked, length of time in a position can generalize a group (or cohort). We see this in marketing a lot (think “millennials”, which identifies a group born in a certain timeframe). The “tenure” feature falls into this category of numeric features that can be discretized into groups."
   ]
  },
  {
   "cell_type": "code",
   "execution_count": 7,
   "metadata": {},
   "outputs": [
    {
     "data": {
      "text/plain": [
       "<matplotlib.axes._subplots.AxesSubplot at 0x1025d7320>"
      ]
     },
     "execution_count": 7,
     "metadata": {},
     "output_type": "execute_result"
    },
    {
     "data": {
      "image/png": "[encoded data removed]",
      "text/plain": [
       "<Figure size 432x288 with 1 Axes>"
      ]
     },
     "metadata": {
      "needs_background": "light"
     },
     "output_type": "display_data"
    }
   ],
   "source": [
    "churn_data_raw[\"tenure\"].plot(kind=\"hist\", title = \"Tenure Counts Without Binning\")"
   ]
  },
  {
   "cell_type": "markdown",
   "metadata": {},
   "source": [
    "We can split into six cohorts that divide up the user base by tenure in roughly one year (12 month) increments. This should help the ML algorithm detect if a group is more/less susceptible to customer churn."
   ]
  },
  {
   "cell_type": "code",
   "execution_count": 8,
   "metadata": {},
   "outputs": [
    {
     "data": {
      "text/html": [
       "<div>\n",
       "<style scoped>\n",
       "    .dataframe tbody tr th:only-of-type {\n",
       "        vertical-align: middle;\n",
       "    }\n",
       "\n",
       "    .dataframe tbody tr th {\n",
       "        vertical-align: top;\n",
       "    }\n",
       "\n",
       "    .dataframe thead th {\n",
       "        text-align: right;\n",
       "    }\n",
       "</style>\n",
       "<table border=\"1\" class=\"dataframe\">\n",
       "  <thead>\n",
       "    <tr style=\"text-align: right;\">\n",
       "      <th></th>\n",
       "      <th>gender</th>\n",
       "      <th>SeniorCitizen</th>\n",
       "      <th>Partner</th>\n",
       "      <th>Dependents</th>\n",
       "      <th>tenure</th>\n",
       "      <th>PhoneService</th>\n",
       "      <th>MultipleLines</th>\n",
       "      <th>InternetService</th>\n",
       "      <th>OnlineSecurity</th>\n",
       "      <th>OnlineBackup</th>\n",
       "      <th>DeviceProtection</th>\n",
       "      <th>TechSupport</th>\n",
       "      <th>StreamingTV</th>\n",
       "      <th>StreamingMovies</th>\n",
       "      <th>Contract</th>\n",
       "      <th>PaperlessBilling</th>\n",
       "      <th>PaymentMethod</th>\n",
       "      <th>MonthlyCharges</th>\n",
       "      <th>TotalCharges</th>\n",
       "      <th>Churn</th>\n",
       "    </tr>\n",
       "  </thead>\n",
       "  <tbody>\n",
       "    <tr>\n",
       "      <th>0</th>\n",
       "      <td>Female</td>\n",
       "      <td>0</td>\n",
       "      <td>Yes</td>\n",
       "      <td>No</td>\n",
       "      <td>(0.999, 4.0]</td>\n",
       "      <td>No</td>\n",
       "      <td>No phone service</td>\n",
       "      <td>DSL</td>\n",
       "      <td>No</td>\n",
       "      <td>Yes</td>\n",
       "      <td>No</td>\n",
       "      <td>No</td>\n",
       "      <td>No</td>\n",
       "      <td>No</td>\n",
       "      <td>Month-to-month</td>\n",
       "      <td>Yes</td>\n",
       "      <td>Electronic check</td>\n",
       "      <td>29.85</td>\n",
       "      <td>29.85</td>\n",
       "      <td>No</td>\n",
       "    </tr>\n",
       "    <tr>\n",
       "      <th>1</th>\n",
       "      <td>Male</td>\n",
       "      <td>0</td>\n",
       "      <td>No</td>\n",
       "      <td>No</td>\n",
       "      <td>(29.0, 47.0]</td>\n",
       "      <td>Yes</td>\n",
       "      <td>No</td>\n",
       "      <td>DSL</td>\n",
       "      <td>Yes</td>\n",
       "      <td>No</td>\n",
       "      <td>Yes</td>\n",
       "      <td>No</td>\n",
       "      <td>No</td>\n",
       "      <td>No</td>\n",
       "      <td>One year</td>\n",
       "      <td>No</td>\n",
       "      <td>Mailed check</td>\n",
       "      <td>56.95</td>\n",
       "      <td>1889.50</td>\n",
       "      <td>No</td>\n",
       "    </tr>\n",
       "    <tr>\n",
       "      <th>2</th>\n",
       "      <td>Male</td>\n",
       "      <td>0</td>\n",
       "      <td>No</td>\n",
       "      <td>No</td>\n",
       "      <td>(0.999, 4.0]</td>\n",
       "      <td>Yes</td>\n",
       "      <td>No</td>\n",
       "      <td>DSL</td>\n",
       "      <td>Yes</td>\n",
       "      <td>Yes</td>\n",
       "      <td>No</td>\n",
       "      <td>No</td>\n",
       "      <td>No</td>\n",
       "      <td>No</td>\n",
       "      <td>Month-to-month</td>\n",
       "      <td>Yes</td>\n",
       "      <td>Mailed check</td>\n",
       "      <td>53.85</td>\n",
       "      <td>108.15</td>\n",
       "      <td>Yes</td>\n",
       "    </tr>\n",
       "    <tr>\n",
       "      <th>3</th>\n",
       "      <td>Male</td>\n",
       "      <td>0</td>\n",
       "      <td>No</td>\n",
       "      <td>No</td>\n",
       "      <td>(29.0, 47.0]</td>\n",
       "      <td>No</td>\n",
       "      <td>No phone service</td>\n",
       "      <td>DSL</td>\n",
       "      <td>Yes</td>\n",
       "      <td>No</td>\n",
       "      <td>Yes</td>\n",
       "      <td>Yes</td>\n",
       "      <td>No</td>\n",
       "      <td>No</td>\n",
       "      <td>One year</td>\n",
       "      <td>No</td>\n",
       "      <td>Bank transfer (automatic)</td>\n",
       "      <td>42.30</td>\n",
       "      <td>1840.75</td>\n",
       "      <td>No</td>\n",
       "    </tr>\n",
       "    <tr>\n",
       "      <th>4</th>\n",
       "      <td>Female</td>\n",
       "      <td>0</td>\n",
       "      <td>No</td>\n",
       "      <td>No</td>\n",
       "      <td>(0.999, 4.0]</td>\n",
       "      <td>Yes</td>\n",
       "      <td>No</td>\n",
       "      <td>Fiber optic</td>\n",
       "      <td>No</td>\n",
       "      <td>No</td>\n",
       "      <td>No</td>\n",
       "      <td>No</td>\n",
       "      <td>No</td>\n",
       "      <td>No</td>\n",
       "      <td>Month-to-month</td>\n",
       "      <td>Yes</td>\n",
       "      <td>Electronic check</td>\n",
       "      <td>70.70</td>\n",
       "      <td>151.65</td>\n",
       "      <td>Yes</td>\n",
       "    </tr>\n",
       "    <tr>\n",
       "      <th>5</th>\n",
       "      <td>Female</td>\n",
       "      <td>0</td>\n",
       "      <td>No</td>\n",
       "      <td>No</td>\n",
       "      <td>(4.0, 14.0]</td>\n",
       "      <td>Yes</td>\n",
       "      <td>Yes</td>\n",
       "      <td>Fiber optic</td>\n",
       "      <td>No</td>\n",
       "      <td>No</td>\n",
       "      <td>Yes</td>\n",
       "      <td>No</td>\n",
       "      <td>Yes</td>\n",
       "      <td>Yes</td>\n",
       "      <td>Month-to-month</td>\n",
       "      <td>Yes</td>\n",
       "      <td>Electronic check</td>\n",
       "      <td>99.65</td>\n",
       "      <td>820.50</td>\n",
       "      <td>Yes</td>\n",
       "    </tr>\n",
       "    <tr>\n",
       "      <th>6</th>\n",
       "      <td>Male</td>\n",
       "      <td>0</td>\n",
       "      <td>No</td>\n",
       "      <td>Yes</td>\n",
       "      <td>(14.0, 29.0]</td>\n",
       "      <td>Yes</td>\n",
       "      <td>Yes</td>\n",
       "      <td>Fiber optic</td>\n",
       "      <td>No</td>\n",
       "      <td>Yes</td>\n",
       "      <td>No</td>\n",
       "      <td>No</td>\n",
       "      <td>Yes</td>\n",
       "      <td>No</td>\n",
       "      <td>Month-to-month</td>\n",
       "      <td>Yes</td>\n",
       "      <td>Credit card (automatic)</td>\n",
       "      <td>89.10</td>\n",
       "      <td>1949.40</td>\n",
       "      <td>No</td>\n",
       "    </tr>\n",
       "    <tr>\n",
       "      <th>7</th>\n",
       "      <td>Female</td>\n",
       "      <td>0</td>\n",
       "      <td>No</td>\n",
       "      <td>No</td>\n",
       "      <td>(4.0, 14.0]</td>\n",
       "      <td>No</td>\n",
       "      <td>No phone service</td>\n",
       "      <td>DSL</td>\n",
       "      <td>Yes</td>\n",
       "      <td>No</td>\n",
       "      <td>No</td>\n",
       "      <td>No</td>\n",
       "      <td>No</td>\n",
       "      <td>No</td>\n",
       "      <td>Month-to-month</td>\n",
       "      <td>No</td>\n",
       "      <td>Mailed check</td>\n",
       "      <td>29.75</td>\n",
       "      <td>301.90</td>\n",
       "      <td>No</td>\n",
       "    </tr>\n",
       "    <tr>\n",
       "      <th>8</th>\n",
       "      <td>Female</td>\n",
       "      <td>0</td>\n",
       "      <td>Yes</td>\n",
       "      <td>No</td>\n",
       "      <td>(14.0, 29.0]</td>\n",
       "      <td>Yes</td>\n",
       "      <td>Yes</td>\n",
       "      <td>Fiber optic</td>\n",
       "      <td>No</td>\n",
       "      <td>No</td>\n",
       "      <td>Yes</td>\n",
       "      <td>Yes</td>\n",
       "      <td>Yes</td>\n",
       "      <td>Yes</td>\n",
       "      <td>Month-to-month</td>\n",
       "      <td>Yes</td>\n",
       "      <td>Electronic check</td>\n",
       "      <td>104.80</td>\n",
       "      <td>3046.05</td>\n",
       "      <td>Yes</td>\n",
       "    </tr>\n",
       "    <tr>\n",
       "      <th>9</th>\n",
       "      <td>Male</td>\n",
       "      <td>0</td>\n",
       "      <td>No</td>\n",
       "      <td>Yes</td>\n",
       "      <td>(47.0, 64.0]</td>\n",
       "      <td>Yes</td>\n",
       "      <td>No</td>\n",
       "      <td>DSL</td>\n",
       "      <td>Yes</td>\n",
       "      <td>Yes</td>\n",
       "      <td>No</td>\n",
       "      <td>No</td>\n",
       "      <td>No</td>\n",
       "      <td>No</td>\n",
       "      <td>One year</td>\n",
       "      <td>No</td>\n",
       "      <td>Bank transfer (automatic)</td>\n",
       "      <td>56.15</td>\n",
       "      <td>3487.95</td>\n",
       "      <td>No</td>\n",
       "    </tr>\n",
       "  </tbody>\n",
       "</table>\n",
       "</div>"
      ],
      "text/plain": [
       "   gender  SeniorCitizen Partner Dependents        tenure PhoneService  \\\n",
       "0  Female              0     Yes         No  (0.999, 4.0]           No   \n",
       "1    Male              0      No         No  (29.0, 47.0]          Yes   \n",
       "2    Male              0      No         No  (0.999, 4.0]          Yes   \n",
       "3    Male              0      No         No  (29.0, 47.0]           No   \n",
       "4  Female              0      No         No  (0.999, 4.0]          Yes   \n",
       "5  Female              0      No         No   (4.0, 14.0]          Yes   \n",
       "6    Male              0      No        Yes  (14.0, 29.0]          Yes   \n",
       "7  Female              0      No         No   (4.0, 14.0]           No   \n",
       "8  Female              0     Yes         No  (14.0, 29.0]          Yes   \n",
       "9    Male              0      No        Yes  (47.0, 64.0]          Yes   \n",
       "\n",
       "      MultipleLines InternetService OnlineSecurity OnlineBackup  \\\n",
       "0  No phone service             DSL             No          Yes   \n",
       "1                No             DSL            Yes           No   \n",
       "2                No             DSL            Yes          Yes   \n",
       "3  No phone service             DSL            Yes           No   \n",
       "4                No     Fiber optic             No           No   \n",
       "5               Yes     Fiber optic             No           No   \n",
       "6               Yes     Fiber optic             No          Yes   \n",
       "7  No phone service             DSL            Yes           No   \n",
       "8               Yes     Fiber optic             No           No   \n",
       "9                No             DSL            Yes          Yes   \n",
       "\n",
       "  DeviceProtection TechSupport StreamingTV StreamingMovies        Contract  \\\n",
       "0               No          No          No              No  Month-to-month   \n",
       "1              Yes          No          No              No        One year   \n",
       "2               No          No          No              No  Month-to-month   \n",
       "3              Yes         Yes          No              No        One year   \n",
       "4               No          No          No              No  Month-to-month   \n",
       "5              Yes          No         Yes             Yes  Month-to-month   \n",
       "6               No          No         Yes              No  Month-to-month   \n",
       "7               No          No          No              No  Month-to-month   \n",
       "8              Yes         Yes         Yes             Yes  Month-to-month   \n",
       "9               No          No          No              No        One year   \n",
       "\n",
       "  PaperlessBilling              PaymentMethod  MonthlyCharges  TotalCharges  \\\n",
       "0              Yes           Electronic check           29.85         29.85   \n",
       "1               No               Mailed check           56.95       1889.50   \n",
       "2              Yes               Mailed check           53.85        108.15   \n",
       "3               No  Bank transfer (automatic)           42.30       1840.75   \n",
       "4              Yes           Electronic check           70.70        151.65   \n",
       "5              Yes           Electronic check           99.65        820.50   \n",
       "6              Yes    Credit card (automatic)           89.10       1949.40   \n",
       "7               No               Mailed check           29.75        301.90   \n",
       "8              Yes           Electronic check          104.80       3046.05   \n",
       "9               No  Bank transfer (automatic)           56.15       3487.95   \n",
       "\n",
       "  Churn  \n",
       "0    No  \n",
       "1    No  \n",
       "2   Yes  \n",
       "3    No  \n",
       "4   Yes  \n",
       "5   Yes  \n",
       "6    No  \n",
       "7    No  \n",
       "8   Yes  \n",
       "9    No  "
      ]
     },
     "execution_count": 8,
     "metadata": {},
     "output_type": "execute_result"
    }
   ],
   "source": [
    "churn_data_raw[\"tenure\"] = pd.qcut(churn_data_raw[\"tenure\"], 6)\n",
    "churn_data_raw.head(10)\n",
    "#churn_data_raw[\"tenure\"].plot(kind=\"hist\", title = \"Tenure Counts With 6 Bins\") "
   ]
  },
  {
   "cell_type": "code",
   "execution_count": 9,
   "metadata": {},
   "outputs": [
    {
     "data": {
      "text/plain": [
       "<matplotlib.axes._subplots.AxesSubplot at 0xb3070dda0>"
      ]
     },
     "execution_count": 9,
     "metadata": {},
     "output_type": "execute_result"
    },
    {
     "data": {
      "image/png": "[encoded data removed]",
      "text/plain": [
       "<Figure size 432x288 with 1 Axes>"
      ]
     },
     "metadata": {
      "needs_background": "light"
     },
     "output_type": "display_data"
    }
   ],
   "source": [
    "ts = churn_data_raw[\"tenure\"]\n",
    "ts.groupby(ts).count().plot(kind=\"bar\", figsize=(6, 4),\n",
    "                                           title=\"Amount of Customers in each Tenure Bin\")"
   ]
  },
  {
   "cell_type": "markdown",
   "metadata": {},
   "source": [
    "### Transform the “TotalCharges” feature\n",
    "\n",
    "What we don’t like to see is when a lot of observations are bunched within a small part of the range. We can use a log transformation to even out the data into more of a normal distribution. It’s not perfect, but it’s quick and easy to get our data spread out a bit more."
   ]
  },
  {
   "cell_type": "code",
   "execution_count": 10,
   "metadata": {},
   "outputs": [],
   "source": [
    "# Map Churn in order to convert 'Yes' to 1 and 'No' to 0\n",
    "churn_data_raw['Churn'] = churn_data_raw['Churn'].apply(lambda x: 0 if x=='No' else 1)"
   ]
  },
  {
   "cell_type": "code",
   "execution_count": 11,
   "metadata": {},
   "outputs": [
    {
     "data": {
      "text/plain": [
       "<matplotlib.axes._subplots.AxesSubplot at 0x10cd43d30>"
      ]
     },
     "execution_count": 11,
     "metadata": {},
     "output_type": "execute_result"
    },
    {
     "data": {
      "image/png": "[encoded data removed]",
      "text/plain": [
       "<Figure size 432x288 with 1 Axes>"
      ]
     },
     "metadata": {
      "needs_background": "light"
     },
     "output_type": "display_data"
    }
   ],
   "source": [
    "churn_data_raw[\"TotalCharges\"].plot(kind=\"hist\", bins=100, title = \"TotalCharges Histogram, 100 bins\")"
   ]
  },
  {
   "cell_type": "code",
   "execution_count": 12,
   "metadata": {},
   "outputs": [
    {
     "name": "stdout",
     "output_type": "stream",
     "text": [
      "Correlation between Churn and TotalCharges:\n"
     ]
    },
    {
     "data": {
      "text/plain": [
       "-0.1994840835675642"
      ]
     },
     "execution_count": 12,
     "metadata": {},
     "output_type": "execute_result"
    }
   ],
   "source": [
    "print(\"Correlation between Churn and TotalCharges:\")\n",
    "np.corrcoef(churn_data_raw[\"TotalCharges\"], churn_data_raw[\"Churn\"])[1,0]"
   ]
  },
  {
   "cell_type": "code",
   "execution_count": 13,
   "metadata": {},
   "outputs": [
    {
     "data": {
      "text/plain": [
       "0    3.396185\n",
       "1    7.544068\n",
       "2    4.683519\n",
       "3    7.517928\n",
       "4    5.021575\n",
       "Name: TotalCharges, dtype: float64"
      ]
     },
     "execution_count": 13,
     "metadata": {},
     "output_type": "execute_result"
    }
   ],
   "source": [
    "# Careful!!! Every time this cell is executed, a log transformatio will be applied to 'TotalCharges' every time.\n",
    "churn_data_raw['TotalCharges'] = np.log(churn_data_raw['TotalCharges'])\n",
    "churn_data_raw[\"TotalCharges\"].head()"
   ]
  },
  {
   "cell_type": "code",
   "execution_count": 14,
   "metadata": {},
   "outputs": [
    {
     "data": {
      "text/plain": [
       "<matplotlib.axes._subplots.AxesSubplot at 0x104ad79b0>"
      ]
     },
     "execution_count": 14,
     "metadata": {},
     "output_type": "execute_result"
    },
    {
     "data": {
      "image/png": "[encoded data removed]",
      "text/plain": [
       "<Figure size 432x288 with 1 Axes>"
      ]
     },
     "metadata": {
      "needs_background": "light"
     },
     "output_type": "display_data"
    }
   ],
   "source": [
    "churn_data_raw[\"TotalCharges\"].plot(kind=\"hist\", bins=100, title = \"log(TotalCharges) Histogram, 100 bins\")"
   ]
  },
  {
   "cell_type": "markdown",
   "metadata": {},
   "source": [
    "Implement correlation between LogTotalCharges and Churn...  "
   ]
  },
  {
   "cell_type": "code",
   "execution_count": 15,
   "metadata": {},
   "outputs": [
    {
     "name": "stdout",
     "output_type": "stream",
     "text": [
      "Correlation between Churn and LogTotalCharges:\n"
     ]
    },
    {
     "data": {
      "text/plain": [
       "-0.2417613223313746"
      ]
     },
     "execution_count": 15,
     "metadata": {},
     "output_type": "execute_result"
    }
   ],
   "source": [
    "print(\"Correlation between Churn and LogTotalCharges:\")\n",
    "np.corrcoef(churn_data_raw[\"TotalCharges\"], churn_data_raw[\"Churn\"])[1,0]\n"
   ]
  },
  {
   "cell_type": "markdown",
   "metadata": {},
   "source": [
    "The correlation between “Churn” and “LogTotalCharges” is greatest in magnitude indicating the log transformation should improve the accuracy of the ANN model we build. Therefore, we should perform the log transformation."
   ]
  },
  {
   "cell_type": "markdown",
   "metadata": {},
   "source": [
    "### One-hot encoding\n",
    "\n",
    "One-hot encoding is the process of converting categorical data to sparse data, which has columns of only zeros and ones (this is also called creating “dummy variables” or a “design matrix”). All non-numeric data will need to be converted to dummy variables. This is simple for binary Yes/No data because we can simply convert to 1’s and 0’s. It becomes slightly more complicated with multiple categories, which requires creating new columns of 1’s and 0's for each category (actually one less). We have four features that are multi-category: Contract, Internet Service, Multiple Lines, and Payment Method."
   ]
  },
  {
   "cell_type": "code",
   "execution_count": 16,
   "metadata": {},
   "outputs": [
    {
     "data": {
      "text/plain": [
       "['SeniorCitizen',\n",
       " 'MonthlyCharges',\n",
       " 'TotalCharges',\n",
       " 'Churn',\n",
       " 'gender_Female',\n",
       " 'gender_Male',\n",
       " 'Partner_No',\n",
       " 'Partner_Yes',\n",
       " 'Dependents_No',\n",
       " 'Dependents_Yes',\n",
       " 'tenure_(0.999, 4.0]',\n",
       " 'tenure_(4.0, 14.0]',\n",
       " 'tenure_(14.0, 29.0]',\n",
       " 'tenure_(29.0, 47.0]',\n",
       " 'tenure_(47.0, 64.0]',\n",
       " 'tenure_(64.0, 72.0]',\n",
       " 'PhoneService_No',\n",
       " 'PhoneService_Yes',\n",
       " 'MultipleLines_No',\n",
       " 'MultipleLines_No phone service',\n",
       " 'MultipleLines_Yes',\n",
       " 'InternetService_DSL',\n",
       " 'InternetService_Fiber optic',\n",
       " 'InternetService_No',\n",
       " 'OnlineBackup_No',\n",
       " 'OnlineBackup_No internet service',\n",
       " 'OnlineBackup_Yes',\n",
       " 'OnlineSecurity_No',\n",
       " 'OnlineSecurity_No internet service',\n",
       " 'OnlineSecurity_Yes',\n",
       " 'Contract_Month-to-month',\n",
       " 'Contract_One year',\n",
       " 'Contract_Two year',\n",
       " 'PaperlessBilling_No',\n",
       " 'PaperlessBilling_Yes',\n",
       " 'PaymentMethod_Bank transfer (automatic)',\n",
       " 'PaymentMethod_Credit card (automatic)',\n",
       " 'PaymentMethod_Electronic check',\n",
       " 'PaymentMethod_Mailed check',\n",
       " 'DeviceProtection_No',\n",
       " 'DeviceProtection_No internet service',\n",
       " 'DeviceProtection_Yes',\n",
       " 'TechSupport_No',\n",
       " 'TechSupport_No internet service',\n",
       " 'TechSupport_Yes',\n",
       " 'StreamingTV_No',\n",
       " 'StreamingTV_No internet service',\n",
       " 'StreamingTV_Yes',\n",
       " 'StreamingMovies_No',\n",
       " 'StreamingMovies_No internet service',\n",
       " 'StreamingMovies_Yes']"
      ]
     },
     "execution_count": 16,
     "metadata": {},
     "output_type": "execute_result"
    }
   ],
   "source": [
    "categorical_variables = [\"gender\", \"Partner\", \"Dependents\", \"tenure\", \"PhoneService\", \"MultipleLines\", \"InternetService\", \"OnlineBackup\", \"OnlineSecurity\", \"Contract\", \n",
    "                         \"PaperlessBilling\", \"PaymentMethod\", \"DeviceProtection\", \"TechSupport\", \"StreamingTV\", \"StreamingMovies\"]\n",
    "\n",
    "for variable in categorical_variables:\n",
    "    dummies = pd.get_dummies(churn_data_raw[variable], prefix = variable)\n",
    "    # Update churn_data_raw to include dummies and drop the main variables\n",
    "    churn_data_raw = pd.concat([churn_data_raw, dummies], axis = 1)\n",
    "    churn_data_raw.drop([variable], axis = 1, inplace = True)\n",
    "    \n",
    "list(churn_data_raw.columns.values)"
   ]
  },
  {
   "cell_type": "markdown",
   "metadata": {},
   "source": [
    "When one-hot encoding for example gender (gender_Male and gender_Female), produces two features which are perfectly negatively correlated, so it is suggested just using one of them, effectively setting the baseline to say male."
   ]
  },
  {
   "cell_type": "code",
   "execution_count": 17,
   "metadata": {},
   "outputs": [],
   "source": [
    "extra_dummies = [\"gender_Female\", \"Partner_No\", \"Dependents_No\",\"PhoneService_No\",\n",
    "                 \"PaperlessBilling_No\", \"InternetService_DSL\", \"Contract_Month-to-month\",\n",
    "                 \"PaymentMethod_Bank transfer (automatic)\", \"MultipleLines_No\", \"OnlineBackup_No\",\n",
    "                 \"OnlineSecurity_No\", \"PaperlessBilling_No\", \"DeviceProtection_No\",\n",
    "                 \"TechSupport_No\", \"StreamingTV_No\", \"StreamingMovies_No\"]\n",
    "\n",
    "churn_data_raw.drop(churn_data_raw[extra_dummies], axis = 1, inplace=True) "
   ]
  },
  {
   "cell_type": "code",
   "execution_count": 18,
   "metadata": {},
   "outputs": [
    {
     "data": {
      "text/html": [
       "<div>\n",
       "<style scoped>\n",
       "    .dataframe tbody tr th:only-of-type {\n",
       "        vertical-align: middle;\n",
       "    }\n",
       "\n",
       "    .dataframe tbody tr th {\n",
       "        vertical-align: top;\n",
       "    }\n",
       "\n",
       "    .dataframe thead th {\n",
       "        text-align: right;\n",
       "    }\n",
       "</style>\n",
       "<table border=\"1\" class=\"dataframe\">\n",
       "  <thead>\n",
       "    <tr style=\"text-align: right;\">\n",
       "      <th></th>\n",
       "      <th>SeniorCitizen</th>\n",
       "      <th>MonthlyCharges</th>\n",
       "      <th>TotalCharges</th>\n",
       "      <th>Churn</th>\n",
       "      <th>gender_Male</th>\n",
       "      <th>Partner_Yes</th>\n",
       "      <th>Dependents_Yes</th>\n",
       "      <th>tenure_(0.999, 4.0]</th>\n",
       "      <th>tenure_(4.0, 14.0]</th>\n",
       "      <th>tenure_(14.0, 29.0]</th>\n",
       "      <th>...</th>\n",
       "      <th>PaymentMethod_Electronic check</th>\n",
       "      <th>PaymentMethod_Mailed check</th>\n",
       "      <th>DeviceProtection_No internet service</th>\n",
       "      <th>DeviceProtection_Yes</th>\n",
       "      <th>TechSupport_No internet service</th>\n",
       "      <th>TechSupport_Yes</th>\n",
       "      <th>StreamingTV_No internet service</th>\n",
       "      <th>StreamingTV_Yes</th>\n",
       "      <th>StreamingMovies_No internet service</th>\n",
       "      <th>StreamingMovies_Yes</th>\n",
       "    </tr>\n",
       "  </thead>\n",
       "  <tbody>\n",
       "    <tr>\n",
       "      <th>0</th>\n",
       "      <td>0</td>\n",
       "      <td>29.85</td>\n",
       "      <td>3.396185</td>\n",
       "      <td>0</td>\n",
       "      <td>0</td>\n",
       "      <td>1</td>\n",
       "      <td>0</td>\n",
       "      <td>1</td>\n",
       "      <td>0</td>\n",
       "      <td>0</td>\n",
       "      <td>...</td>\n",
       "      <td>1</td>\n",
       "      <td>0</td>\n",
       "      <td>0</td>\n",
       "      <td>0</td>\n",
       "      <td>0</td>\n",
       "      <td>0</td>\n",
       "      <td>0</td>\n",
       "      <td>0</td>\n",
       "      <td>0</td>\n",
       "      <td>0</td>\n",
       "    </tr>\n",
       "    <tr>\n",
       "      <th>1</th>\n",
       "      <td>0</td>\n",
       "      <td>56.95</td>\n",
       "      <td>7.544068</td>\n",
       "      <td>0</td>\n",
       "      <td>1</td>\n",
       "      <td>0</td>\n",
       "      <td>0</td>\n",
       "      <td>0</td>\n",
       "      <td>0</td>\n",
       "      <td>0</td>\n",
       "      <td>...</td>\n",
       "      <td>0</td>\n",
       "      <td>1</td>\n",
       "      <td>0</td>\n",
       "      <td>1</td>\n",
       "      <td>0</td>\n",
       "      <td>0</td>\n",
       "      <td>0</td>\n",
       "      <td>0</td>\n",
       "      <td>0</td>\n",
       "      <td>0</td>\n",
       "    </tr>\n",
       "    <tr>\n",
       "      <th>2</th>\n",
       "      <td>0</td>\n",
       "      <td>53.85</td>\n",
       "      <td>4.683519</td>\n",
       "      <td>1</td>\n",
       "      <td>1</td>\n",
       "      <td>0</td>\n",
       "      <td>0</td>\n",
       "      <td>1</td>\n",
       "      <td>0</td>\n",
       "      <td>0</td>\n",
       "      <td>...</td>\n",
       "      <td>0</td>\n",
       "      <td>1</td>\n",
       "      <td>0</td>\n",
       "      <td>0</td>\n",
       "      <td>0</td>\n",
       "      <td>0</td>\n",
       "      <td>0</td>\n",
       "      <td>0</td>\n",
       "      <td>0</td>\n",
       "      <td>0</td>\n",
       "    </tr>\n",
       "    <tr>\n",
       "      <th>3</th>\n",
       "      <td>0</td>\n",
       "      <td>42.30</td>\n",
       "      <td>7.517928</td>\n",
       "      <td>0</td>\n",
       "      <td>1</td>\n",
       "      <td>0</td>\n",
       "      <td>0</td>\n",
       "      <td>0</td>\n",
       "      <td>0</td>\n",
       "      <td>0</td>\n",
       "      <td>...</td>\n",
       "      <td>0</td>\n",
       "      <td>0</td>\n",
       "      <td>0</td>\n",
       "      <td>1</td>\n",
       "      <td>0</td>\n",
       "      <td>1</td>\n",
       "      <td>0</td>\n",
       "      <td>0</td>\n",
       "      <td>0</td>\n",
       "      <td>0</td>\n",
       "    </tr>\n",
       "    <tr>\n",
       "      <th>4</th>\n",
       "      <td>0</td>\n",
       "      <td>70.70</td>\n",
       "      <td>5.021575</td>\n",
       "      <td>1</td>\n",
       "      <td>0</td>\n",
       "      <td>0</td>\n",
       "      <td>0</td>\n",
       "      <td>1</td>\n",
       "      <td>0</td>\n",
       "      <td>0</td>\n",
       "      <td>...</td>\n",
       "      <td>1</td>\n",
       "      <td>0</td>\n",
       "      <td>0</td>\n",
       "      <td>0</td>\n",
       "      <td>0</td>\n",
       "      <td>0</td>\n",
       "      <td>0</td>\n",
       "      <td>0</td>\n",
       "      <td>0</td>\n",
       "      <td>0</td>\n",
       "    </tr>\n",
       "  </tbody>\n",
       "</table>\n",
       "<p>5 rows × 36 columns</p>\n",
       "</div>"
      ],
      "text/plain": [
       "   SeniorCitizen  MonthlyCharges  TotalCharges  Churn  gender_Male  \\\n",
       "0              0           29.85      3.396185      0            0   \n",
       "1              0           56.95      7.544068      0            1   \n",
       "2              0           53.85      4.683519      1            1   \n",
       "3              0           42.30      7.517928      0            1   \n",
       "4              0           70.70      5.021575      1            0   \n",
       "\n",
       "   Partner_Yes  Dependents_Yes  tenure_(0.999, 4.0]  tenure_(4.0, 14.0]  \\\n",
       "0            1               0                    1                   0   \n",
       "1            0               0                    0                   0   \n",
       "2            0               0                    1                   0   \n",
       "3            0               0                    0                   0   \n",
       "4            0               0                    1                   0   \n",
       "\n",
       "   tenure_(14.0, 29.0]  ...  PaymentMethod_Electronic check  \\\n",
       "0                    0  ...                               1   \n",
       "1                    0  ...                               0   \n",
       "2                    0  ...                               0   \n",
       "3                    0  ...                               0   \n",
       "4                    0  ...                               1   \n",
       "\n",
       "   PaymentMethod_Mailed check  DeviceProtection_No internet service  \\\n",
       "0                           0                                     0   \n",
       "1                           1                                     0   \n",
       "2                           1                                     0   \n",
       "3                           0                                     0   \n",
       "4                           0                                     0   \n",
       "\n",
       "   DeviceProtection_Yes  TechSupport_No internet service  TechSupport_Yes  \\\n",
       "0                     0                                0                0   \n",
       "1                     1                                0                0   \n",
       "2                     0                                0                0   \n",
       "3                     1                                0                1   \n",
       "4                     0                                0                0   \n",
       "\n",
       "   StreamingTV_No internet service  StreamingTV_Yes  \\\n",
       "0                                0                0   \n",
       "1                                0                0   \n",
       "2                                0                0   \n",
       "3                                0                0   \n",
       "4                                0                0   \n",
       "\n",
       "   StreamingMovies_No internet service  StreamingMovies_Yes  \n",
       "0                                    0                    0  \n",
       "1                                    0                    0  \n",
       "2                                    0                    0  \n",
       "3                                    0                    0  \n",
       "4                                    0                    0  \n",
       "\n",
       "[5 rows x 36 columns]"
      ]
     },
     "execution_count": 18,
     "metadata": {},
     "output_type": "execute_result"
    }
   ],
   "source": [
    "churn_data_raw.head()"
   ]
  },
  {
   "cell_type": "code",
   "execution_count": 19,
   "metadata": {},
   "outputs": [
    {
     "data": {
      "text/plain": [
       "['SeniorCitizen',\n",
       " 'MonthlyCharges',\n",
       " 'TotalCharges',\n",
       " 'Churn',\n",
       " 'gender_Male',\n",
       " 'Partner_Yes',\n",
       " 'Dependents_Yes',\n",
       " 'tenure_(0.999, 4.0]',\n",
       " 'tenure_(4.0, 14.0]',\n",
       " 'tenure_(14.0, 29.0]',\n",
       " 'tenure_(29.0, 47.0]',\n",
       " 'tenure_(47.0, 64.0]',\n",
       " 'tenure_(64.0, 72.0]',\n",
       " 'PhoneService_Yes',\n",
       " 'MultipleLines_No phone service',\n",
       " 'MultipleLines_Yes',\n",
       " 'InternetService_Fiber optic',\n",
       " 'InternetService_No',\n",
       " 'OnlineBackup_No internet service',\n",
       " 'OnlineBackup_Yes',\n",
       " 'OnlineSecurity_No internet service',\n",
       " 'OnlineSecurity_Yes',\n",
       " 'Contract_One year',\n",
       " 'Contract_Two year',\n",
       " 'PaperlessBilling_Yes',\n",
       " 'PaymentMethod_Credit card (automatic)',\n",
       " 'PaymentMethod_Electronic check',\n",
       " 'PaymentMethod_Mailed check',\n",
       " 'DeviceProtection_No internet service',\n",
       " 'DeviceProtection_Yes',\n",
       " 'TechSupport_No internet service',\n",
       " 'TechSupport_Yes',\n",
       " 'StreamingTV_No internet service',\n",
       " 'StreamingTV_Yes',\n",
       " 'StreamingMovies_No internet service',\n",
       " 'StreamingMovies_Yes']"
      ]
     },
     "execution_count": 19,
     "metadata": {},
     "output_type": "execute_result"
    }
   ],
   "source": [
    "list(churn_data_raw.columns.values)"
   ]
  },
  {
   "cell_type": "code",
   "execution_count": 20,
   "metadata": {},
   "outputs": [],
   "source": [
    "churn_data_raw = churn_data_raw.rename(columns = {\"tenure_(0.999, 4.0]\": \"tenure_bin1\", \n",
    "                                                  \"tenure_(4.0, 14.0]\": \"tenure_bin2\",\n",
    "                                                  \"tenure_(14.0, 29.0]\": \"tenure_bin3\",\n",
    "                                                  \"tenure_(29.0, 47.0]\": \"tenure_bin4\",\n",
    "                                                  \"tenure_(47.0, 64.0]\": \"tenure_bin5\",\n",
    "                                                  \"tenure_(64.0, 72.0]\": \"tenure_bin6\"})"
   ]
  },
  {
   "cell_type": "code",
   "execution_count": 21,
   "metadata": {},
   "outputs": [
    {
     "name": "stderr",
     "output_type": "stream",
     "text": [
      "/anaconda3/lib/python3.6/site-packages/sklearn/preprocessing/data.py:625: DataConversionWarning: Data with input dtype uint8, int64, float64 were all converted to float64 by StandardScaler.\n",
      "  return self.partial_fit(X, y)\n",
      "/anaconda3/lib/python3.6/site-packages/sklearn/base.py:462: DataConversionWarning: Data with input dtype uint8, int64, float64 were all converted to float64 by StandardScaler.\n",
      "  return self.fit(X, **fit_params).transform(X)\n"
     ]
    }
   ],
   "source": [
    "from sklearn.preprocessing import StandardScaler\n",
    "\n",
    "# Standardize our dataset\n",
    "columns = [\"gender_Male\", \"SeniorCitizen\", \"Partner_Yes\", \"Dependents_Yes\", \"PhoneService_Yes\", \n",
    "           \"PaperlessBilling_Yes\", \"MonthlyCharges\", \"TotalCharges\", \"DeviceProtection_No internet service\",\n",
    "           \"DeviceProtection_Yes\", \"MultipleLines_No phone service\", \"MultipleLines_Yes\", \"OnlineBackup_No internet service\",\n",
    "           \"OnlineBackup_Yes\", \"OnlineSecurity_No internet service\", \"OnlineSecurity_Yes\", \"TechSupport_No internet service\",\n",
    "           \"TechSupport_Yes\", \"StreamingTV_No internet service\", \"StreamingTV_Yes\", \"StreamingMovies_No internet service\",\n",
    "           \"StreamingMovies_Yes\", \"InternetService_Fiber optic\", \"InternetService_No\", \"Contract_One year\", \"Contract_Two year\",\n",
    "           \"PaymentMethod_Credit card (automatic)\", \"PaymentMethod_Electronic check\", \"PaymentMethod_Mailed check\", \n",
    "           \"tenure_bin1\", \"tenure_bin2\", \"tenure_bin3\", \"tenure_bin4\", \"tenure_bin5\", \"tenure_bin6\"]\n",
    "\n",
    "churn_data_raw[columns] = StandardScaler().fit_transform(churn_data_raw[columns])\n"
   ]
  },
  {
   "cell_type": "markdown",
   "metadata": {},
   "source": [
    "__Split Into Train/Test Sets__\n",
    "\n",
    "We can create our training and testing datasets with a train_test_split method. The train set size will be 80% of the data and test set size 20%\n"
   ]
  },
  {
   "cell_type": "code",
   "execution_count": 22,
   "metadata": {},
   "outputs": [],
   "source": [
    "# Here we move Churn to the end of our dataset\n",
    "cols = list(churn_data_raw.columns.values) # Make a list of all of the columns in the df\n",
    "cols.pop(cols.index('Churn')) #Remove Churn from list\n",
    "churn_data_raw = churn_data_raw[cols+['Churn']] # Create new dataframe with columns in the order we want"
   ]
  },
  {
   "cell_type": "code",
   "execution_count": 23,
   "metadata": {},
   "outputs": [
    {
     "name": "stdout",
     "output_type": "stream",
     "text": [
      "< 5625 / 1407 / 7032 >\n"
     ]
    }
   ],
   "source": [
    "from sklearn.model_selection import train_test_split\n",
    "\n",
    "# churn_data_tbl will be our preparet dataset that will be used for the split\n",
    "churn_data_tbl = churn_data_raw\n",
    "\n",
    "churn_data_tbl.to_csv(\"churn_data_tbl.csv\")\n",
    "\n",
    "train_tbl, test_tbl = train_test_split(churn_data_tbl, test_size=0.2, random_state=100, shuffle=False)\n",
    "print(\"<\",train_tbl.shape[0],\"/\",test_tbl.shape[0],\"/\",churn_data_raw.shape[0],\">\")\n"
   ]
  },
  {
   "cell_type": "code",
   "execution_count": 24,
   "metadata": {},
   "outputs": [
    {
     "data": {
      "text/html": [
       "<div>\n",
       "<style scoped>\n",
       "    .dataframe tbody tr th:only-of-type {\n",
       "        vertical-align: middle;\n",
       "    }\n",
       "\n",
       "    .dataframe tbody tr th {\n",
       "        vertical-align: top;\n",
       "    }\n",
       "\n",
       "    .dataframe thead th {\n",
       "        text-align: right;\n",
       "    }\n",
       "</style>\n",
       "<table border=\"1\" class=\"dataframe\">\n",
       "  <thead>\n",
       "    <tr style=\"text-align: right;\">\n",
       "      <th></th>\n",
       "      <th>SeniorCitizen</th>\n",
       "      <th>MonthlyCharges</th>\n",
       "      <th>TotalCharges</th>\n",
       "      <th>gender_Male</th>\n",
       "      <th>Partner_Yes</th>\n",
       "      <th>Dependents_Yes</th>\n",
       "      <th>tenure_bin1</th>\n",
       "      <th>tenure_bin2</th>\n",
       "      <th>tenure_bin3</th>\n",
       "      <th>tenure_bin4</th>\n",
       "      <th>...</th>\n",
       "      <th>PaymentMethod_Mailed check</th>\n",
       "      <th>DeviceProtection_No internet service</th>\n",
       "      <th>DeviceProtection_Yes</th>\n",
       "      <th>TechSupport_No internet service</th>\n",
       "      <th>TechSupport_Yes</th>\n",
       "      <th>StreamingTV_No internet service</th>\n",
       "      <th>StreamingTV_Yes</th>\n",
       "      <th>StreamingMovies_No internet service</th>\n",
       "      <th>StreamingMovies_Yes</th>\n",
       "      <th>Churn</th>\n",
       "    </tr>\n",
       "  </thead>\n",
       "  <tbody>\n",
       "    <tr>\n",
       "      <th>0</th>\n",
       "      <td>-0.440327</td>\n",
       "      <td>-1.161694</td>\n",
       "      <td>-2.281544</td>\n",
       "      <td>-1.009430</td>\n",
       "      <td>1.035617</td>\n",
       "      <td>-0.652305</td>\n",
       "      <td>2.175098</td>\n",
       "      <td>-0.438254</td>\n",
       "      <td>-0.453153</td>\n",
       "      <td>-0.446985</td>\n",
       "      <td>...</td>\n",
       "      <td>-0.543604</td>\n",
       "      <td>-0.52513</td>\n",
       "      <td>-0.723918</td>\n",
       "      <td>-0.52513</td>\n",
       "      <td>-0.639260</td>\n",
       "      <td>-0.52513</td>\n",
       "      <td>-0.790186</td>\n",
       "      <td>-0.52513</td>\n",
       "      <td>-0.796849</td>\n",
       "      <td>0</td>\n",
       "    </tr>\n",
       "    <tr>\n",
       "      <th>1</th>\n",
       "      <td>-0.440327</td>\n",
       "      <td>-0.260878</td>\n",
       "      <td>0.389297</td>\n",
       "      <td>0.990658</td>\n",
       "      <td>-0.965608</td>\n",
       "      <td>-0.652305</td>\n",
       "      <td>-0.459749</td>\n",
       "      <td>-0.438254</td>\n",
       "      <td>-0.453153</td>\n",
       "      <td>2.237213</td>\n",
       "      <td>...</td>\n",
       "      <td>1.839576</td>\n",
       "      <td>-0.52513</td>\n",
       "      <td>1.381372</td>\n",
       "      <td>-0.52513</td>\n",
       "      <td>-0.639260</td>\n",
       "      <td>-0.52513</td>\n",
       "      <td>-0.790186</td>\n",
       "      <td>-0.52513</td>\n",
       "      <td>-0.796849</td>\n",
       "      <td>0</td>\n",
       "    </tr>\n",
       "    <tr>\n",
       "      <th>2</th>\n",
       "      <td>-0.440327</td>\n",
       "      <td>-0.363923</td>\n",
       "      <td>-1.452624</td>\n",
       "      <td>0.990658</td>\n",
       "      <td>-0.965608</td>\n",
       "      <td>-0.652305</td>\n",
       "      <td>2.175098</td>\n",
       "      <td>-0.438254</td>\n",
       "      <td>-0.453153</td>\n",
       "      <td>-0.446985</td>\n",
       "      <td>...</td>\n",
       "      <td>1.839576</td>\n",
       "      <td>-0.52513</td>\n",
       "      <td>-0.723918</td>\n",
       "      <td>-0.52513</td>\n",
       "      <td>-0.639260</td>\n",
       "      <td>-0.52513</td>\n",
       "      <td>-0.790186</td>\n",
       "      <td>-0.52513</td>\n",
       "      <td>-0.796849</td>\n",
       "      <td>1</td>\n",
       "    </tr>\n",
       "    <tr>\n",
       "      <th>3</th>\n",
       "      <td>-0.440327</td>\n",
       "      <td>-0.747850</td>\n",
       "      <td>0.372466</td>\n",
       "      <td>0.990658</td>\n",
       "      <td>-0.965608</td>\n",
       "      <td>-0.652305</td>\n",
       "      <td>-0.459749</td>\n",
       "      <td>-0.438254</td>\n",
       "      <td>-0.453153</td>\n",
       "      <td>2.237213</td>\n",
       "      <td>...</td>\n",
       "      <td>-0.543604</td>\n",
       "      <td>-0.52513</td>\n",
       "      <td>1.381372</td>\n",
       "      <td>-0.52513</td>\n",
       "      <td>1.564308</td>\n",
       "      <td>-0.52513</td>\n",
       "      <td>-0.790186</td>\n",
       "      <td>-0.52513</td>\n",
       "      <td>-0.796849</td>\n",
       "      <td>0</td>\n",
       "    </tr>\n",
       "    <tr>\n",
       "      <th>4</th>\n",
       "      <td>-0.440327</td>\n",
       "      <td>0.196178</td>\n",
       "      <td>-1.234948</td>\n",
       "      <td>-1.009430</td>\n",
       "      <td>-0.965608</td>\n",
       "      <td>-0.652305</td>\n",
       "      <td>2.175098</td>\n",
       "      <td>-0.438254</td>\n",
       "      <td>-0.453153</td>\n",
       "      <td>-0.446985</td>\n",
       "      <td>...</td>\n",
       "      <td>-0.543604</td>\n",
       "      <td>-0.52513</td>\n",
       "      <td>-0.723918</td>\n",
       "      <td>-0.52513</td>\n",
       "      <td>-0.639260</td>\n",
       "      <td>-0.52513</td>\n",
       "      <td>-0.790186</td>\n",
       "      <td>-0.52513</td>\n",
       "      <td>-0.796849</td>\n",
       "      <td>1</td>\n",
       "    </tr>\n",
       "  </tbody>\n",
       "</table>\n",
       "<p>5 rows × 36 columns</p>\n",
       "</div>"
      ],
      "text/plain": [
       "   SeniorCitizen  MonthlyCharges  TotalCharges  gender_Male  Partner_Yes  \\\n",
       "0      -0.440327       -1.161694     -2.281544    -1.009430     1.035617   \n",
       "1      -0.440327       -0.260878      0.389297     0.990658    -0.965608   \n",
       "2      -0.440327       -0.363923     -1.452624     0.990658    -0.965608   \n",
       "3      -0.440327       -0.747850      0.372466     0.990658    -0.965608   \n",
       "4      -0.440327        0.196178     -1.234948    -1.009430    -0.965608   \n",
       "\n",
       "   Dependents_Yes  tenure_bin1  tenure_bin2  tenure_bin3  tenure_bin4  ...  \\\n",
       "0       -0.652305     2.175098    -0.438254    -0.453153    -0.446985  ...   \n",
       "1       -0.652305    -0.459749    -0.438254    -0.453153     2.237213  ...   \n",
       "2       -0.652305     2.175098    -0.438254    -0.453153    -0.446985  ...   \n",
       "3       -0.652305    -0.459749    -0.438254    -0.453153     2.237213  ...   \n",
       "4       -0.652305     2.175098    -0.438254    -0.453153    -0.446985  ...   \n",
       "\n",
       "   PaymentMethod_Mailed check  DeviceProtection_No internet service  \\\n",
       "0                   -0.543604                              -0.52513   \n",
       "1                    1.839576                              -0.52513   \n",
       "2                    1.839576                              -0.52513   \n",
       "3                   -0.543604                              -0.52513   \n",
       "4                   -0.543604                              -0.52513   \n",
       "\n",
       "   DeviceProtection_Yes  TechSupport_No internet service  TechSupport_Yes  \\\n",
       "0             -0.723918                         -0.52513        -0.639260   \n",
       "1              1.381372                         -0.52513        -0.639260   \n",
       "2             -0.723918                         -0.52513        -0.639260   \n",
       "3              1.381372                         -0.52513         1.564308   \n",
       "4             -0.723918                         -0.52513        -0.639260   \n",
       "\n",
       "   StreamingTV_No internet service  StreamingTV_Yes  \\\n",
       "0                         -0.52513        -0.790186   \n",
       "1                         -0.52513        -0.790186   \n",
       "2                         -0.52513        -0.790186   \n",
       "3                         -0.52513        -0.790186   \n",
       "4                         -0.52513        -0.790186   \n",
       "\n",
       "   StreamingMovies_No internet service  StreamingMovies_Yes  Churn  \n",
       "0                             -0.52513            -0.796849      0  \n",
       "1                             -0.52513            -0.796849      0  \n",
       "2                             -0.52513            -0.796849      1  \n",
       "3                             -0.52513            -0.796849      0  \n",
       "4                             -0.52513            -0.796849      1  \n",
       "\n",
       "[5 rows x 36 columns]"
      ]
     },
     "execution_count": 24,
     "metadata": {},
     "output_type": "execute_result"
    }
   ],
   "source": [
    "train_tbl.head()"
   ]
  },
  {
   "cell_type": "markdown",
   "metadata": {},
   "source": [
    "__Generate the target vectors__\n",
    "\n",
    "One last step, we need to store the actual values (truth) as y_train_vec and y_test_vec, which are needed for modeling our ANN. We convert to a series of numeric ones and zeros which can be accepted by the Keras ANN modeling functions. We add “vec” to the name so we can easily remember the class of the object."
   ]
  },
  {
   "cell_type": "code",
   "execution_count": 25,
   "metadata": {},
   "outputs": [
    {
     "data": {
      "text/plain": [
       "0    0\n",
       "1    0\n",
       "2    1\n",
       "3    0\n",
       "4    1\n",
       "5    1\n",
       "6    0\n",
       "7    0\n",
       "8    1\n",
       "9    0\n",
       "Name: Churn, dtype: int64"
      ]
     },
     "execution_count": 25,
     "metadata": {},
     "output_type": "execute_result"
    }
   ],
   "source": [
    "# Response variables for training and testing sets\n",
    "\n",
    "y_train_vec = train_tbl[\"Churn\"]\n",
    "y_test_vec = test_tbl[\"Churn\"]\n",
    "\n",
    "y_train_vec.head(10)"
   ]
  },
  {
   "cell_type": "code",
   "execution_count": 26,
   "metadata": {},
   "outputs": [],
   "source": [
    "target = [\"Churn\"]\n",
    "train_tbl = train_tbl.drop(target, axis=1)\n",
    "test_tbl = test_tbl.drop(target, axis=1)"
   ]
  },
  {
   "cell_type": "code",
   "execution_count": 27,
   "metadata": {},
   "outputs": [],
   "source": [
    "x_train_tbl = train_tbl\n",
    "x_test_tbl = test_tbl"
   ]
  },
  {
   "cell_type": "code",
   "execution_count": 28,
   "metadata": {},
   "outputs": [],
   "source": [
    "x_train_tbl.to_csv(\"x_train_tbl.csv\")\n",
    "x_test_tbl.to_csv(\"x_test_tbl.csv\")"
   ]
  },
  {
   "cell_type": "code",
   "execution_count": 29,
   "metadata": {},
   "outputs": [
    {
     "name": "stdout",
     "output_type": "stream",
     "text": [
      "SeniorCitizen                                 -0.4403270      -0.4403270\n",
      "MonthlyCharges                                -1.1616939      -0.2608779\n",
      "TotalCharges                                  -2.2815443      0.38929670\n",
      "gender_Male                                   -1.0094301      0.99065796\n",
      "Partner_Yes                                   1.03561682      -0.9656081\n",
      "Dependents_Yes                                -0.6523049      -0.6523049\n",
      "tenure_bin1                                   2.17509800      -0.4597493\n",
      "tenure_bin2                                   -0.4382538      -0.4382538\n",
      "tenure_bin3                                   -0.4531533      -0.4531533\n",
      "tenure_bin4                                   -0.4469846      2.23721340\n",
      "tenure_bin5                                   -0.4522411      -0.4522411\n",
      "tenure_bin6                                   -0.4327079      -0.4327079\n",
      "PhoneService_Yes                              -3.0563338      0.32718938\n",
      "MultipleLines_No phone service                3.05633382      -0.3271893\n",
      "MultipleLines_Yes                             -0.8543355      -0.8543355\n",
      "InternetService_Fiber optic                   -0.8868964      -0.8868964\n",
      "InternetService_No                            -0.5251304      -0.5251304\n",
      "OnlineBackup_No internet service              -0.5251304      -0.5251304\n",
      "OnlineBackup_Yes                              1.37833008      -0.7255156\n",
      "OnlineSecurity_No internet service            -0.5251304      -0.5251304\n",
      "OnlineSecurity_Yes                            -0.6337463      1.57791834\n",
      "Contract_One year                             -0.5145368      1.94349528\n",
      "Contract_Two year                             -0.5613643      -0.5613643\n",
      "PaperlessBilling_Yes                          0.82893915      -1.2063611\n",
      "PaymentMethod_Credit card (automatic)         -0.5253508      -0.5253508\n",
      "PaymentMethod_Electronic check                1.40476386      -0.7118634\n",
      "PaymentMethod_Mailed check                    -0.5436035      1.83957601\n",
      "DeviceProtection_No internet service          -0.5251304      -0.5251304\n",
      "DeviceProtection_Yes                          -0.7239179      1.38137199\n",
      "TechSupport_No internet service               -0.5251304      -0.5251304\n",
      "TechSupport_Yes                               -0.6392603      -0.6392603\n",
      "StreamingTV_No internet service               -0.5251304      -0.5251304\n",
      "StreamingTV_Yes                               -0.7901858      -0.7901858\n",
      "StreamingMovies_No internet service           -0.5251304      -0.5251304\n",
      "StreamingMovies_Yes                           -0.7968491      -0.7968491\n"
     ]
    }
   ],
   "source": [
    "def display():\n",
    "    columns = x_train_tbl.columns\n",
    "    for col in columns:\n",
    "        print(\"%-45s %-15.10s %.10s\" %(col, x_train_tbl[col].iloc[0], x_train_tbl[col].iloc[1]))\n",
    "display()"
   ]
  },
  {
   "cell_type": "markdown",
   "metadata": {},
   "source": [
    "### Generate model with Keras (Deep Learning)"
   ]
  },
  {
   "cell_type": "markdown",
   "metadata": {},
   "source": [
    "__Background On Artifical Neural Networks__\n",
    "\n",
    "For those unfamiliar with Neural Networks (and those that need a refresher), read this article. It’s very comprehensive, and you’ll leave with a general understanding of the types of deep learning and how they work."
   ]
  },
  {
   "cell_type": "markdown",
   "metadata": {},
   "source": [
    "![img](nn.jpeg)"
   ]
  },
  {
   "cell_type": "markdown",
   "metadata": {},
   "source": [
    "__Building A Deep Learning Model__\n",
    "\n",
    "We’re going to build a special class of ANN called a Multi-Layer Perceptron (MLP). MLPs are one of the simplest forms of deep learning, but they are both highly accurate and serve as a jumping-off point for more complex algorithms. MLPs are quite versatile as they can be used for regression, binary and multi classification (and are typically quite good at classification problems)."
   ]
  },
  {
   "cell_type": "markdown",
   "metadata": {},
   "source": [
    "We’ll build a three layer MLP with Keras. Let’s walk-through the steps before we start implementing it.\n",
    "\n",
    "1. Initialize a sequential model: The first step is to initialize a sequential model with keras_model_sequential(), which is the beginning of our Keras model. The sequential model is composed of a linear stack of layers.\n",
    "\n",
    "2. Apply layers to the sequential model: Layers consist of the input layer, hidden layers and an output layer. The input layer is the data and provided it’s formatted correctly there’s nothing more to discuss. The hidden layers and output layers are what controls the ANN inner workings.\n",
    "    * Hidden Layers: Hidden layers form the neural network nodes that enable non-linear activation using weights. The hidden layers are created using layer_dense(). We’ll add two hidden layers. We’ll apply units = 16, which is the number of nodes. We’ll select kernel_initializer = \"uniform\" and activation = \"relu\" for both layers. The first layer needs to have the input_shape = 35, which is the number of columns in the training set. Key Point: While we are arbitrarily selecting the number of hidden layers, units, kernel initializers and activation functions, these parameters can be optimized through a process called hyperparameter tuning that is discussed in Next Steps.\n",
    "    \n",
    "    * Dropout Layers: Dropout layers are used to control overfitting. This eliminates weights below a cutoff threshold to prevent low weights from overfitting the layers. We use the layer_dropout() function add two drop out layers with rate = 0.10 to remove weights below 10%.\n",
    "    \n",
    "    * Output Layer: The output layer specifies the shape of the output and the method of assimilating the learned information. The output layer is applied using the layer_dense(). For binary values, the shape should be units = 1. For multi-classification, the units should correspond to the number of classes. We set the kernel_initializer = \"uniform\" and the activation = \"sigmoid\" (common for binary classification).\n",
    "    \n",
    "    \n",
    "3. Compile the model: The last step is to compile the model with compile(). We’ll use optimizer = \"adam\", which is one of the most popular optimization algorithms. We select loss = \"binary_crossentropy\" since this is a binary classification problem. We’ll select metrics = c(\"accuracy\") to be evaluated during training and testing. Key Point: The optimizer is often included in the tuning process."
   ]
  },
  {
   "cell_type": "code",
   "execution_count": 30,
   "metadata": {},
   "outputs": [
    {
     "name": "stdout",
     "output_type": "stream",
     "text": [
      "[35]\n"
     ]
    }
   ],
   "source": [
    "print([x_train_tbl.shape[1]])"
   ]
  },
  {
   "cell_type": "code",
   "execution_count": 31,
   "metadata": {},
   "outputs": [
    {
     "name": "stdout",
     "output_type": "stream",
     "text": [
      "_________________________________________________________________\n",
      "Layer (type)                 Output Shape              Param #   \n",
      "=================================================================\n",
      "dense_1 (Dense)              (None, 16)                576       \n",
      "_________________________________________________________________\n",
      "dropout_1 (Dropout)          (None, 16)                0         \n",
      "_________________________________________________________________\n",
      "dense_2 (Dense)              (None, 16)                272       \n",
      "_________________________________________________________________\n",
      "dropout_2 (Dropout)          (None, 16)                0         \n",
      "_________________________________________________________________\n",
      "dense_3 (Dense)              (None, 1)                 17        \n",
      "=================================================================\n",
      "Total params: 865\n",
      "Trainable params: 865\n",
      "Non-trainable params: 0\n",
      "_________________________________________________________________\n"
     ]
    }
   ],
   "source": [
    "# Define model\n",
    "model = keras.models.Sequential()\n",
    "\n",
    "# Adds a densely-connected layer with 16 units to the model. First hidden layer\n",
    "model.add(keras.layers.core.Dense(16, activation='relu', kernel_initializer = \"uniform\", input_shape=[x_train_tbl.shape[1]]))\n",
    "\n",
    "# Dropout to prevent overfitting\n",
    "model.add(keras.layers.core.Dropout(rate=0.1))\n",
    "\n",
    "# Second hidden layer\n",
    "model.add(keras.layers.core.Dense(16, kernel_initializer = \"uniform\", activation='relu'))\n",
    "\n",
    "# Dropout to prevent overfitting\n",
    "model.add(keras.layers.core.Dropout(rate=0.1))\n",
    "\n",
    "# Output layer\n",
    "model.add(keras.layers.core.Dense(1, kernel_initializer = \"uniform\", activation='sigmoid'))\n",
    "\n",
    "# Compile the ANN\n",
    "model.compile(loss=\"binary_crossentropy\", optimizer=\"adam\", metrics=[\"accuracy\"])\n",
    "\n",
    "model.summary()"
   ]
  },
  {
   "cell_type": "markdown",
   "metadata": {},
   "source": [
    "We use the fit() function to run the ANN on our training data. The object is our model, and x and y are our training data in matrix and numeric vector forms, respectively. The batch_size = 50 sets the number samples per gradient update within each epoch. We set epochs = 35 to control the number training cycles. Typically we want to keep the batch size high since this decreases the error within each training cycle (epoch). We also want epochs to be large, which is important in visualizing the training history (discussed below). We set validation_split = 0.30 to include 30% of the data for model validation, which prevents overfitting. The training process should complete in 15 seconds or so."
   ]
  },
  {
   "cell_type": "code",
   "execution_count": 32,
   "metadata": {},
   "outputs": [
    {
     "name": "stdout",
     "output_type": "stream",
     "text": [
      "Train on 3937 samples, validate on 1688 samples\n",
      "Epoch 1/35\n",
      "3937/3937 [==============================] - 1s 315us/step - loss: 0.6365 - acc: 0.7292 - val_loss: 0.5226 - val_acc: 0.7346\n",
      "Epoch 2/35\n",
      "3937/3937 [==============================] - 0s 60us/step - loss: 0.4594 - acc: 0.7358 - val_loss: 0.4541 - val_acc: 0.7346\n",
      "Epoch 3/35\n",
      "3937/3937 [==============================] - 0s 57us/step - loss: 0.4292 - acc: 0.7828 - val_loss: 0.4442 - val_acc: 0.8045\n",
      "Epoch 4/35\n",
      "3937/3937 [==============================] - 0s 57us/step - loss: 0.4184 - acc: 0.7955 - val_loss: 0.4411 - val_acc: 0.8004\n",
      "Epoch 5/35\n",
      "3937/3937 [==============================] - 0s 56us/step - loss: 0.4134 - acc: 0.7948 - val_loss: 0.4366 - val_acc: 0.8057\n",
      "Epoch 6/35\n",
      "3937/3937 [==============================] - 0s 56us/step - loss: 0.4093 - acc: 0.7922 - val_loss: 0.4373 - val_acc: 0.8063\n",
      "Epoch 7/35\n",
      "3937/3937 [==============================] - 0s 56us/step - loss: 0.4061 - acc: 0.7981 - val_loss: 0.4373 - val_acc: 0.8057\n",
      "Epoch 8/35\n",
      "3937/3937 [==============================] - 0s 57us/step - loss: 0.4020 - acc: 0.8029 - val_loss: 0.4365 - val_acc: 0.8045\n",
      "Epoch 9/35\n",
      "3937/3937 [==============================] - 0s 55us/step - loss: 0.4058 - acc: 0.8042 - val_loss: 0.4337 - val_acc: 0.8039\n",
      "Epoch 10/35\n",
      "3937/3937 [==============================] - 0s 54us/step - loss: 0.4044 - acc: 0.8021 - val_loss: 0.4354 - val_acc: 0.8045\n",
      "Epoch 11/35\n",
      "3937/3937 [==============================] - 0s 56us/step - loss: 0.4026 - acc: 0.8019 - val_loss: 0.4369 - val_acc: 0.8081\n",
      "Epoch 12/35\n",
      "3937/3937 [==============================] - 0s 57us/step - loss: 0.4000 - acc: 0.8042 - val_loss: 0.4353 - val_acc: 0.8063\n",
      "Epoch 13/35\n",
      "3937/3937 [==============================] - 0s 53us/step - loss: 0.4023 - acc: 0.8014 - val_loss: 0.4352 - val_acc: 0.8086\n",
      "Epoch 14/35\n",
      "3937/3937 [==============================] - 0s 53us/step - loss: 0.4031 - acc: 0.8031 - val_loss: 0.4356 - val_acc: 0.8104\n",
      "Epoch 15/35\n",
      "3937/3937 [==============================] - 0s 56us/step - loss: 0.3968 - acc: 0.8075 - val_loss: 0.4365 - val_acc: 0.8092\n",
      "Epoch 16/35\n",
      "3937/3937 [==============================] - 0s 57us/step - loss: 0.3962 - acc: 0.8105 - val_loss: 0.4374 - val_acc: 0.8092\n",
      "Epoch 17/35\n",
      "3937/3937 [==============================] - 0s 54us/step - loss: 0.3995 - acc: 0.8065 - val_loss: 0.4341 - val_acc: 0.8039\n",
      "Epoch 18/35\n",
      "3937/3937 [==============================] - 0s 55us/step - loss: 0.3995 - acc: 0.8113 - val_loss: 0.4396 - val_acc: 0.8069\n",
      "Epoch 19/35\n",
      "3937/3937 [==============================] - 0s 57us/step - loss: 0.3957 - acc: 0.8098 - val_loss: 0.4378 - val_acc: 0.8057\n",
      "Epoch 20/35\n",
      "3937/3937 [==============================] - 0s 54us/step - loss: 0.3971 - acc: 0.8095 - val_loss: 0.4371 - val_acc: 0.8075\n",
      "Epoch 21/35\n",
      "3937/3937 [==============================] - 0s 55us/step - loss: 0.3944 - acc: 0.8098 - val_loss: 0.4364 - val_acc: 0.7992\n",
      "Epoch 22/35\n",
      "3937/3937 [==============================] - 0s 56us/step - loss: 0.3955 - acc: 0.8108 - val_loss: 0.4386 - val_acc: 0.8045\n",
      "Epoch 23/35\n",
      "3937/3937 [==============================] - 0s 55us/step - loss: 0.3971 - acc: 0.8105 - val_loss: 0.4383 - val_acc: 0.8045\n",
      "Epoch 24/35\n",
      "3937/3937 [==============================] - 0s 54us/step - loss: 0.3924 - acc: 0.8077 - val_loss: 0.4387 - val_acc: 0.8051\n",
      "Epoch 25/35\n",
      "3937/3937 [==============================] - 0s 53us/step - loss: 0.3908 - acc: 0.8148 - val_loss: 0.4398 - val_acc: 0.8039\n",
      "Epoch 26/35\n",
      "3937/3937 [==============================] - 0s 53us/step - loss: 0.3958 - acc: 0.8070 - val_loss: 0.4374 - val_acc: 0.8045\n",
      "Epoch 27/35\n",
      "3937/3937 [==============================] - 0s 54us/step - loss: 0.3911 - acc: 0.8103 - val_loss: 0.4412 - val_acc: 0.8063\n",
      "Epoch 28/35\n",
      "3937/3937 [==============================] - 0s 54us/step - loss: 0.3894 - acc: 0.8110 - val_loss: 0.4419 - val_acc: 0.8081\n",
      "Epoch 29/35\n",
      "3937/3937 [==============================] - 0s 54us/step - loss: 0.3896 - acc: 0.8143 - val_loss: 0.4388 - val_acc: 0.8015\n",
      "Epoch 30/35\n",
      "3937/3937 [==============================] - 0s 54us/step - loss: 0.3926 - acc: 0.8095 - val_loss: 0.4409 - val_acc: 0.8063\n",
      "Epoch 31/35\n",
      "3937/3937 [==============================] - 0s 54us/step - loss: 0.3873 - acc: 0.8181 - val_loss: 0.4413 - val_acc: 0.8051\n",
      "Epoch 32/35\n",
      "3937/3937 [==============================] - 0s 55us/step - loss: 0.3869 - acc: 0.8118 - val_loss: 0.4413 - val_acc: 0.8069\n",
      "Epoch 33/35\n",
      "3937/3937 [==============================] - 0s 54us/step - loss: 0.3906 - acc: 0.8120 - val_loss: 0.4415 - val_acc: 0.8075\n",
      "Epoch 34/35\n",
      "3937/3937 [==============================] - 0s 55us/step - loss: 0.3883 - acc: 0.8158 - val_loss: 0.4423 - val_acc: 0.8057\n",
      "Epoch 35/35\n",
      "3937/3937 [==============================] - 0s 55us/step - loss: 0.3883 - acc: 0.8153 - val_loss: 0.4452 - val_acc: 0.8063\n"
     ]
    }
   ],
   "source": [
    "# Fit the keras model to the training data\n",
    "\n",
    "history = model.fit(x = np.matrix(x_train_tbl), \n",
    "                    y = y_train_vec, \n",
    "                    batch_size = 50,\n",
    "                    epochs = 35,\n",
    "                    validation_split = 0.30\n",
    "                    )\n",
    "\n",
    "# Returns a History object. Its History.history attribute is a record of \n",
    "# training loss values and metrics values at successive epochs, as well as validation loss \n",
    "# values and validation metrics values (if applicable)."
   ]
  },
  {
   "cell_type": "code",
   "execution_count": 33,
   "metadata": {},
   "outputs": [
    {
     "name": "stdout",
     "output_type": "stream",
     "text": [
      "dict_keys(['val_loss', 'val_acc', 'loss', 'acc'])\n",
      "val_loss  : 0.522575\n",
      "val_acc   : 0.734597\n",
      "loss      : 0.636528\n",
      "acc       : 0.729235\n"
     ]
    }
   ],
   "source": [
    "# We can inspect the training history. We want to make sure there is minimal\n",
    "# difference between the validation accuracy and the training accuracy.\n",
    "# Print a summary of the training history\n",
    "dic = history.history.keys()\n",
    "print(history.history.keys())\n",
    "for key in dic:\n",
    "    print(\"%-9s %s %f\" %(key,\":\", history.history[key][0]))"
   ]
  },
  {
   "cell_type": "code",
   "execution_count": 34,
   "metadata": {},
   "outputs": [
    {
     "data": {
      "image/png": "[encoded data removed]",
      "text/plain": [
       "<Figure size 432x288 with 1 Axes>"
      ]
     },
     "metadata": {
      "needs_background": "light"
     },
     "output_type": "display_data"
    },
    {
     "data": {
      "image/png": "[encoded data removed]",
      "text/plain": [
       "<Figure size 432x288 with 1 Axes>"
      ]
     },
     "metadata": {
      "needs_background": "light"
     },
     "output_type": "display_data"
    }
   ],
   "source": [
    "# summarize history for loss\n",
    "plt.plot(history.history['loss'])\n",
    "plt.plot(history.history['val_loss'])\n",
    "plt.title('model loss')\n",
    "plt.ylabel('loss')\n",
    "plt.xlabel('epoch')\n",
    "plt.legend(['training', 'validation'])\n",
    "plt.show()\n",
    "# summarize history for accuracy\n",
    "plt.plot(history.history['acc'])\n",
    "plt.plot(history.history['val_acc'])\n",
    "plt.title('model accuracy')\n",
    "plt.ylabel('accuracy')\n",
    "plt.xlabel('epoch')\n",
    "plt.legend(['training', 'validation'])\n",
    "plt.show()\n",
    "\n"
   ]
  },
  {
   "cell_type": "markdown",
   "metadata": {},
   "source": [
    "**Making Predictions**\n",
    "\n",
    "We’ve got a good model based on the validation accuracy. Now let’s make some predictions from our keras model on the test data set, which was unseen during modeling (we use this for the true performance assessment). We have two functions to generate predictions:\n",
    "\n",
    "predict_classes(): Generates class values as a matrix of ones and zeros. Since we are dealing with binary classification, we’ll convert the output to a vector.\n",
    "\n",
    "predict_proba(): Generates the class probabilities as a numeric matrix indicating the probability of being a class. Again, we convert to a numeric vector because there is only one column output.\n"
   ]
  },
  {
   "cell_type": "code",
   "execution_count": 35,
   "metadata": {},
   "outputs": [],
   "source": [
    "# Generate class predictions for the input samples batch by batch.\n",
    "# Predicted Class\n",
    "keras_class_vec = model.predict_classes(np.array(x_test_tbl.values))\n",
    "# keep the predictions for class 1 only\n",
    "\n",
    "# Generates class probability predictions for the input samples batch by batch.\n",
    "# Predicted Class Probability\n",
    "keras_prob_vec = model.predict_proba(np.array(x_test_tbl.values))"
   ]
  },
  {
   "cell_type": "markdown",
   "metadata": {},
   "source": [
    "### Inspect Performance"
   ]
  },
  {
   "cell_type": "code",
   "execution_count": 36,
   "metadata": {},
   "outputs": [],
   "source": [
    "#good\n",
    "truth = y_test_vec.astype(object)\n",
    "estimate = keras_class_vec.astype(object)\n",
    "class_prob = keras_prob_vec"
   ]
  },
  {
   "cell_type": "code",
   "execution_count": 37,
   "metadata": {},
   "outputs": [
    {
     "name": "stdout",
     "output_type": "stream",
     "text": [
      "truth      estimate        class_prob\n",
      "    1           [0]      [0.203351557\n",
      "    0           [0]      [0.137137055\n",
      "    1           [1]      [0.569357514\n",
      "    0           [0]      [0.154345765\n",
      "    1           [0]      [0.286412447\n",
      "    0           [0]      [0.053786076\n",
      "    1           [1]      [0.672843217\n",
      "    0           [0]      [0.006392090\n",
      "    0           [0]      [0.012360554\n",
      "    1           [1]      [0.596973061\n",
      "    1           [1]      [0.669666945\n",
      "    0           [0]      [0.031194588\n",
      "    1           [0]      [0.145800232\n",
      "    0           [0]      [0.354184389\n",
      "    0           [0]      [0.351980149\n",
      "    0           [0]      [0.022097697\n",
      "    0           [0]      [0.041187949\n",
      "    1           [0]      [0.423010051\n",
      "    0           [0]      [0.487699687\n",
      "    1           [1]      [0.628908514\n",
      "    0           [0]      [0.056432455\n",
      "    0           [0]      [0.001960021\n",
      "    0           [0]      [0.425483226\n",
      "    0           [1]      [0.788870036\n",
      "    0           [1]      [0.775875329\n"
     ]
    }
   ],
   "source": [
    "def estimates_keras_tbl(truth, estimate, class_prob):\n",
    "    print('%-10s %-15s %s' %('truth', 'estimate', 'class_prob'))\n",
    "    for i, (truth, estimate, class_prob) in enumerate(zip(truth[0:25].tolist(), estimate[0:25].tolist(), class_prob.tolist())):\n",
    "        print(('%-3s %-11s %-8s %.012s' %('', truth, estimate, class_prob)))\n",
    "estimates_keras_tbl(truth, estimate, class_prob)"
   ]
  },
  {
   "cell_type": "markdown",
   "metadata": {},
   "source": [
    "**Confusion table**\n",
    "\n",
    "We can use the confusion_matrix() function to get the confusion table. We see that the model was by no means perfect, but it did a decent job of identifying customers likely to churn."
   ]
  },
  {
   "cell_type": "code",
   "execution_count": 38,
   "metadata": {},
   "outputs": [
    {
     "data": {
      "text/plain": [
       "array([[931,  95],\n",
       "       [184, 197]])"
      ]
     },
     "execution_count": 38,
     "metadata": {},
     "output_type": "execute_result"
    }
   ],
   "source": [
    "from sklearn.metrics import confusion_matrix\n",
    "confusion_matrix(truth.tolist(), estimate.tolist())"
   ]
  },
  {
   "cell_type": "markdown",
   "metadata": {},
   "source": [
    "**Accuracy**\n",
    "\n",
    "We can use the metrics() function to get an accuracy measurement from the test set. We are getting roughly 80% accuracy."
   ]
  },
  {
   "cell_type": "code",
   "execution_count": 39,
   "metadata": {},
   "outputs": [
    {
     "data": {
      "text/plain": [
       "0.8017057569296375"
      ]
     },
     "execution_count": 39,
     "metadata": {},
     "output_type": "execute_result"
    }
   ],
   "source": [
    "from sklearn.metrics import accuracy_score\n",
    "accuracy_score(truth.tolist(), estimate.tolist())"
   ]
  },
  {
   "cell_type": "markdown",
   "metadata": {},
   "source": [
    "**AUC**\n",
    "\n",
    "We can also get the ROC Area Under the Curve (AUC) measurement. AUC is often a good metric used to compare different classifiers and to compare to randomly guessing (AUC_random = 0.50). Our model has AUC = 0.71, which is much better than randomly guessing. Tuning and testing different classification algorithms may yield even better results."
   ]
  },
  {
   "cell_type": "code",
   "execution_count": 40,
   "metadata": {},
   "outputs": [
    {
     "data": {
      "text/plain": [
       "0.7122338874307379"
      ]
     },
     "execution_count": 40,
     "metadata": {},
     "output_type": "execute_result"
    }
   ],
   "source": [
    "from sklearn.metrics import roc_auc_score\n",
    "roc_auc_score(truth.tolist(), estimate.tolist())"
   ]
  },
  {
   "cell_type": "markdown",
   "metadata": {},
   "source": [
    "**Precision and recall**\n",
    "\n",
    "Precision is when the model predicts “yes”, how often is it actually “yes”. Recall (also true positive rate or specificity) is when the actual value is “yes” how often is the model correct."
   ]
  },
  {
   "cell_type": "code",
   "execution_count": 41,
   "metadata": {},
   "outputs": [
    {
     "name": "stdout",
     "output_type": "stream",
     "text": [
      "Average precision score:  0.4796133705020669\n",
      "Average recall score:  0.5170603674540682\n"
     ]
    }
   ],
   "source": [
    "# STUDY what is the diference between:  average='weighted', average='micro', average='macro' !!!!!\n",
    "\n",
    "from sklearn.metrics import average_precision_score\n",
    "from sklearn.metrics import recall_score\n",
    "\n",
    "precision = average_precision_score(truth.tolist(), estimate.tolist())\n",
    "print('Average precision score: ', precision)\n",
    "\n",
    "recall = recall_score(truth.tolist(), estimate.tolist()) \n",
    "print('Average recall score: ', recall)"
   ]
  },
  {
   "cell_type": "markdown",
   "metadata": {},
   "source": [
    "**F1 Score**\n",
    "\n",
    "We can also get the F1-score, which is a weighted average between the precision and recall. Machine learning classifier thresholds are often adjusted to maximize the F1-score. However, this is often not the optimal solution to the business problem."
   ]
  },
  {
   "cell_type": "code",
   "execution_count": 42,
   "metadata": {},
   "outputs": [
    {
     "name": "stdout",
     "output_type": "stream",
     "text": [
      "F1 Statistic:  0.5854383358098069\n"
     ]
    }
   ],
   "source": [
    "# STUDDY what is the diference between:  average='weighted', average='micro', average='macro' !!!!!\n",
    "# f1_score(y_true, y_pred, average='macro') \n",
    "\n",
    "from sklearn.metrics import f1_score\n",
    "\n",
    "f1_score = f1_score(truth.tolist(), estimate.tolist())\n",
    "print('F1 Statistic: ', f1_score)"
   ]
  },
  {
   "cell_type": "markdown",
   "metadata": {},
   "source": [
    "### Explain The Model\n",
    "\n",
    "LIME stands for Local Interpretable Model-agnostic Explanations, and is a method for explaining black-box machine learning model classifiers. For those new to LIME, this YouTube video does a really nice job explaining how LIME helps to identify feature importance with black box machine learning models (e.g. deep learning, stacked ensembles, random forest)."
   ]
  },
  {
   "cell_type": "markdown",
   "metadata": {},
   "source": [
    "__Feature Importance Visualization__\n",
    "\n",
    "The payoff for the work we put in using LIME is this feature importance plot. This allows us to visualize each of the first ten cases (observations) from the test data. The top four features for each case are shown. Note that they are not the same for each case. The green bars mean that the feature supports the model conclusion, and the red bars contradict. A few important features based on frequency in first ten cases:"
   ]
  },
  {
   "cell_type": "markdown",
   "metadata": {},
   "source": [
    "### Check Explanations With Correlation Analysis\n",
    "\n",
    "We can perform a correlation analysis on the training set as well to help glean what features correlate globally to “Churn”. We can get the correlations as follows."
   ]
  },
  {
   "cell_type": "code",
   "execution_count": 43,
   "metadata": {},
   "outputs": [
    {
     "data": {
      "text/plain": [
       "SeniorCitizen                            0.148002\n",
       "MonthlyCharges                           0.188645\n",
       "TotalCharges                            -0.239521\n",
       "gender_Male                             -0.012693\n",
       "Partner_Yes                             -0.151554\n",
       "Dependents_Yes                          -0.163059\n",
       "tenure_bin1                              0.292358\n",
       "tenure_bin2                              0.103361\n",
       "tenure_bin3                              0.004767\n",
       "tenure_bin4                             -0.065942\n",
       "tenure_bin5                             -0.138090\n",
       "tenure_bin6                             -0.204378\n",
       "PhoneService_Yes                         0.007371\n",
       "MultipleLines_No phone service          -0.007371\n",
       "MultipleLines_Yes                        0.033836\n",
       "InternetService_Fiber optic              0.306237\n",
       "InternetService_No                      -0.227412\n",
       "OnlineBackup_No internet service        -0.227412\n",
       "OnlineBackup_Yes                        -0.085164\n",
       "OnlineSecurity_No internet service      -0.227412\n",
       "OnlineSecurity_Yes                      -0.175826\n",
       "Contract_One year                       -0.178665\n",
       "Contract_Two year                       -0.300799\n",
       "PaperlessBilling_Yes                     0.194861\n",
       "PaymentMethod_Credit card (automatic)   -0.139586\n",
       "PaymentMethod_Electronic check           0.307317\n",
       "PaymentMethod_Mailed check              -0.087100\n",
       "DeviceProtection_No internet service    -0.227412\n",
       "DeviceProtection_Yes                    -0.069495\n",
       "TechSupport_No internet service         -0.227412\n",
       "TechSupport_Yes                         -0.175546\n",
       "StreamingTV_No internet service         -0.227412\n",
       "StreamingTV_Yes                          0.064398\n",
       "StreamingMovies_No internet service     -0.227412\n",
       "StreamingMovies_Yes                      0.057725\n",
       "Churn                                    1.000000\n",
       "Name: Churn, dtype: float64"
      ]
     },
     "execution_count": 43,
     "metadata": {},
     "output_type": "execute_result"
    }
   ],
   "source": [
    "# Feature correlations to Churn\n",
    "x_train_tbl[\"Churn\"] = y_train_vec\n",
    "x_train_tbl[x_train_tbl.columns[:]].corr()[\"Churn\"][:]"
   ]
  },
  {
   "cell_type": "code",
   "execution_count": 44,
   "metadata": {},
   "outputs": [
    {
     "data": {
      "text/html": [
       "<div>\n",
       "<style scoped>\n",
       "    .dataframe tbody tr th:only-of-type {\n",
       "        vertical-align: middle;\n",
       "    }\n",
       "\n",
       "    .dataframe tbody tr th {\n",
       "        vertical-align: top;\n",
       "    }\n",
       "\n",
       "    .dataframe thead th {\n",
       "        text-align: right;\n",
       "    }\n",
       "</style>\n",
       "<table border=\"1\" class=\"dataframe\">\n",
       "  <thead>\n",
       "    <tr style=\"text-align: right;\">\n",
       "      <th></th>\n",
       "      <th>SeniorCitizen</th>\n",
       "      <th>MonthlyCharges</th>\n",
       "      <th>TotalCharges</th>\n",
       "      <th>gender_Male</th>\n",
       "      <th>Partner_Yes</th>\n",
       "      <th>Dependents_Yes</th>\n",
       "      <th>tenure_bin1</th>\n",
       "      <th>tenure_bin2</th>\n",
       "      <th>tenure_bin3</th>\n",
       "      <th>tenure_bin4</th>\n",
       "      <th>...</th>\n",
       "      <th>PaymentMethod_Electronic check</th>\n",
       "      <th>PaymentMethod_Mailed check</th>\n",
       "      <th>DeviceProtection_No internet service</th>\n",
       "      <th>DeviceProtection_Yes</th>\n",
       "      <th>TechSupport_No internet service</th>\n",
       "      <th>TechSupport_Yes</th>\n",
       "      <th>StreamingTV_No internet service</th>\n",
       "      <th>StreamingTV_Yes</th>\n",
       "      <th>StreamingMovies_No internet service</th>\n",
       "      <th>StreamingMovies_Yes</th>\n",
       "    </tr>\n",
       "  </thead>\n",
       "  <tbody>\n",
       "    <tr>\n",
       "      <th>0</th>\n",
       "      <td>-0.440327</td>\n",
       "      <td>-1.161694</td>\n",
       "      <td>-2.281544</td>\n",
       "      <td>-1.009430</td>\n",
       "      <td>1.035617</td>\n",
       "      <td>-0.652305</td>\n",
       "      <td>2.175098</td>\n",
       "      <td>-0.438254</td>\n",
       "      <td>-0.453153</td>\n",
       "      <td>-0.446985</td>\n",
       "      <td>...</td>\n",
       "      <td>1.404764</td>\n",
       "      <td>-0.543604</td>\n",
       "      <td>-0.52513</td>\n",
       "      <td>-0.723918</td>\n",
       "      <td>-0.52513</td>\n",
       "      <td>-0.639260</td>\n",
       "      <td>-0.52513</td>\n",
       "      <td>-0.790186</td>\n",
       "      <td>-0.52513</td>\n",
       "      <td>-0.796849</td>\n",
       "    </tr>\n",
       "    <tr>\n",
       "      <th>1</th>\n",
       "      <td>-0.440327</td>\n",
       "      <td>-0.260878</td>\n",
       "      <td>0.389297</td>\n",
       "      <td>0.990658</td>\n",
       "      <td>-0.965608</td>\n",
       "      <td>-0.652305</td>\n",
       "      <td>-0.459749</td>\n",
       "      <td>-0.438254</td>\n",
       "      <td>-0.453153</td>\n",
       "      <td>2.237213</td>\n",
       "      <td>...</td>\n",
       "      <td>-0.711863</td>\n",
       "      <td>1.839576</td>\n",
       "      <td>-0.52513</td>\n",
       "      <td>1.381372</td>\n",
       "      <td>-0.52513</td>\n",
       "      <td>-0.639260</td>\n",
       "      <td>-0.52513</td>\n",
       "      <td>-0.790186</td>\n",
       "      <td>-0.52513</td>\n",
       "      <td>-0.796849</td>\n",
       "    </tr>\n",
       "    <tr>\n",
       "      <th>2</th>\n",
       "      <td>-0.440327</td>\n",
       "      <td>-0.363923</td>\n",
       "      <td>-1.452624</td>\n",
       "      <td>0.990658</td>\n",
       "      <td>-0.965608</td>\n",
       "      <td>-0.652305</td>\n",
       "      <td>2.175098</td>\n",
       "      <td>-0.438254</td>\n",
       "      <td>-0.453153</td>\n",
       "      <td>-0.446985</td>\n",
       "      <td>...</td>\n",
       "      <td>-0.711863</td>\n",
       "      <td>1.839576</td>\n",
       "      <td>-0.52513</td>\n",
       "      <td>-0.723918</td>\n",
       "      <td>-0.52513</td>\n",
       "      <td>-0.639260</td>\n",
       "      <td>-0.52513</td>\n",
       "      <td>-0.790186</td>\n",
       "      <td>-0.52513</td>\n",
       "      <td>-0.796849</td>\n",
       "    </tr>\n",
       "    <tr>\n",
       "      <th>3</th>\n",
       "      <td>-0.440327</td>\n",
       "      <td>-0.747850</td>\n",
       "      <td>0.372466</td>\n",
       "      <td>0.990658</td>\n",
       "      <td>-0.965608</td>\n",
       "      <td>-0.652305</td>\n",
       "      <td>-0.459749</td>\n",
       "      <td>-0.438254</td>\n",
       "      <td>-0.453153</td>\n",
       "      <td>2.237213</td>\n",
       "      <td>...</td>\n",
       "      <td>-0.711863</td>\n",
       "      <td>-0.543604</td>\n",
       "      <td>-0.52513</td>\n",
       "      <td>1.381372</td>\n",
       "      <td>-0.52513</td>\n",
       "      <td>1.564308</td>\n",
       "      <td>-0.52513</td>\n",
       "      <td>-0.790186</td>\n",
       "      <td>-0.52513</td>\n",
       "      <td>-0.796849</td>\n",
       "    </tr>\n",
       "    <tr>\n",
       "      <th>4</th>\n",
       "      <td>-0.440327</td>\n",
       "      <td>0.196178</td>\n",
       "      <td>-1.234948</td>\n",
       "      <td>-1.009430</td>\n",
       "      <td>-0.965608</td>\n",
       "      <td>-0.652305</td>\n",
       "      <td>2.175098</td>\n",
       "      <td>-0.438254</td>\n",
       "      <td>-0.453153</td>\n",
       "      <td>-0.446985</td>\n",
       "      <td>...</td>\n",
       "      <td>1.404764</td>\n",
       "      <td>-0.543604</td>\n",
       "      <td>-0.52513</td>\n",
       "      <td>-0.723918</td>\n",
       "      <td>-0.52513</td>\n",
       "      <td>-0.639260</td>\n",
       "      <td>-0.52513</td>\n",
       "      <td>-0.790186</td>\n",
       "      <td>-0.52513</td>\n",
       "      <td>-0.796849</td>\n",
       "    </tr>\n",
       "  </tbody>\n",
       "</table>\n",
       "<p>5 rows × 35 columns</p>\n",
       "</div>"
      ],
      "text/plain": [
       "   SeniorCitizen  MonthlyCharges  TotalCharges  gender_Male  Partner_Yes  \\\n",
       "0      -0.440327       -1.161694     -2.281544    -1.009430     1.035617   \n",
       "1      -0.440327       -0.260878      0.389297     0.990658    -0.965608   \n",
       "2      -0.440327       -0.363923     -1.452624     0.990658    -0.965608   \n",
       "3      -0.440327       -0.747850      0.372466     0.990658    -0.965608   \n",
       "4      -0.440327        0.196178     -1.234948    -1.009430    -0.965608   \n",
       "\n",
       "   Dependents_Yes  tenure_bin1  tenure_bin2  tenure_bin3  tenure_bin4  ...  \\\n",
       "0       -0.652305     2.175098    -0.438254    -0.453153    -0.446985  ...   \n",
       "1       -0.652305    -0.459749    -0.438254    -0.453153     2.237213  ...   \n",
       "2       -0.652305     2.175098    -0.438254    -0.453153    -0.446985  ...   \n",
       "3       -0.652305    -0.459749    -0.438254    -0.453153     2.237213  ...   \n",
       "4       -0.652305     2.175098    -0.438254    -0.453153    -0.446985  ...   \n",
       "\n",
       "   PaymentMethod_Electronic check  PaymentMethod_Mailed check  \\\n",
       "0                        1.404764                   -0.543604   \n",
       "1                       -0.711863                    1.839576   \n",
       "2                       -0.711863                    1.839576   \n",
       "3                       -0.711863                   -0.543604   \n",
       "4                        1.404764                   -0.543604   \n",
       "\n",
       "   DeviceProtection_No internet service  DeviceProtection_Yes  \\\n",
       "0                              -0.52513             -0.723918   \n",
       "1                              -0.52513              1.381372   \n",
       "2                              -0.52513             -0.723918   \n",
       "3                              -0.52513              1.381372   \n",
       "4                              -0.52513             -0.723918   \n",
       "\n",
       "   TechSupport_No internet service  TechSupport_Yes  \\\n",
       "0                         -0.52513        -0.639260   \n",
       "1                         -0.52513        -0.639260   \n",
       "2                         -0.52513        -0.639260   \n",
       "3                         -0.52513         1.564308   \n",
       "4                         -0.52513        -0.639260   \n",
       "\n",
       "   StreamingTV_No internet service  StreamingTV_Yes  \\\n",
       "0                         -0.52513        -0.790186   \n",
       "1                         -0.52513        -0.790186   \n",
       "2                         -0.52513        -0.790186   \n",
       "3                         -0.52513        -0.790186   \n",
       "4                         -0.52513        -0.790186   \n",
       "\n",
       "   StreamingMovies_No internet service  StreamingMovies_Yes  \n",
       "0                             -0.52513            -0.796849  \n",
       "1                             -0.52513            -0.796849  \n",
       "2                             -0.52513            -0.796849  \n",
       "3                             -0.52513            -0.796849  \n",
       "4                             -0.52513            -0.796849  \n",
       "\n",
       "[5 rows x 35 columns]"
      ]
     },
     "execution_count": 44,
     "metadata": {},
     "output_type": "execute_result"
    }
   ],
   "source": [
    "# BIG CORRELATION MATRIX\n",
    "# x_train_tbl[\"Churn\"] = y_train_vec\n",
    "# x_train_tbl[x_train_tbl[:].columns[:]].corr()[:]\n",
    "x_train_tbl.pop('Churn')\n",
    "x_train_tbl.to_csv(\"aa.csv\")\n",
    "x_train_tbl.head()"
   ]
  },
  {
   "cell_type": "code",
   "execution_count": 45,
   "metadata": {},
   "outputs": [
    {
     "data": {
      "image/png": "[encoded data removed]",
      "text/plain": [
       "<Figure size 576x396 with 1 Axes>"
      ]
     },
     "metadata": {},
     "output_type": "display_data"
    }
   ],
   "source": [
    "# The correlation visualization helps in distinguishing which features are relavant to Churn.\n",
    "# Correlation visualization\n",
    "from sklearn import datasets\n",
    "from yellowbrick.target import FeatureCorrelation\n",
    "\n",
    "feature_names = np.array(x_train_tbl.columns)\n",
    "\n",
    "visualizer = FeatureCorrelation(labels=feature_names, sort = True)\n",
    "visualizer.fit(x_train_tbl, y_train_vec)\n",
    "visualizer.poof()"
   ]
  },
  {
   "cell_type": "markdown",
   "metadata": {},
   "source": [
    "_Positive correlations contribute to churn and negative correlations prevent churn_"
   ]
  },
  {
   "cell_type": "markdown",
   "metadata": {},
   "source": [
    "The correlation analysis helps us quickly disseminate which features that the LIME analysis may be excluding. We can see that the following features are highly correlated (magnitude > TODO):\n",
    "\n",
    "Increases Likelihood of Churn: \n",
    "- Tenure = Bin 1 (<12 Months) \n",
    "- Internet Service = “Fiber Optic” \n",
    "- Payment Method = “Electronic Check”\n",
    "\n",
    "Decreases Likelihood of Churn: \n",
    "- Contract = “Two Year” \n",
    "- Total Charges (Note that this may be a biproduct of additional services such as Online Security)"
   ]
  },
  {
   "cell_type": "markdown",
   "metadata": {},
   "source": [
    "### Feature Investigation\n",
    "\n",
    "We can investigate features that are most frequent in the feature importance visualization along with those that the correlation analysis shows an above normal magnitude. We’ll investigate:\n",
    "\n",
    "- Tenure (Highly Correlated)\n",
    "- Contract (Highly Correlated)\n",
    "- Internet Service (Highly Correlated)\n",
    "- Payment Method (Highly Correlated)\n",
    "- Senior Citizen \n",
    "- Online Security "
   ]
  },
  {
   "cell_type": "markdown",
   "metadata": {},
   "source": [
    "__Tenure (highly correlated)__\n",
    "\n",
    "LIME cases indicate that the ANN model is using this feature frequently and high correlation agrees that this is important. Investigating the feature distribution, it appears that:\n",
    "\n",
    "> customers with lower tenure (bin 1) are more likely to leave. \n",
    "__Opportunity: Target customers with less than 12 month tenure.__\n"
   ]
  },
  {
   "cell_type": "code",
   "execution_count": 46,
   "metadata": {},
   "outputs": [
    {
     "data": {
      "text/plain": [
       "Text(0.5, 0, 'Churn')"
      ]
     },
     "execution_count": 46,
     "metadata": {},
     "output_type": "execute_result"
    },
    {
     "data": {
      "image/png": "[encoded data removed]",
      "text/plain": [
       "<Figure size 720x360 with 1 Axes>"
      ]
     },
     "metadata": {},
     "output_type": "display_data"
    }
   ],
   "source": [
    "import seaborn as sns\n",
    "plot_data = pd.read_csv(\"Telco_Customer_Churn.csv\")\n",
    "plot_data['tenure'] = pd.qcut(plot_data[\"tenure\"], 6)\n",
    "plt.figure(figsize=(10,5))\n",
    "ax = sns.countplot(x=\"Churn\", hue='tenure', data = plot_data);\n",
    "ax.set_title('Tenure vs Churn', fontsize=20)\n",
    "ax.set_ylabel('Number of Customers', fontsize = 15)\n",
    "ax.set_xlabel('Churn', fontsize = 15)"
   ]
  },
  {
   "cell_type": "markdown",
   "metadata": {},
   "source": [
    "__Contract (highly correlated)__\n",
    "\n",
    "While LIME did not indicate this as a primary feature in the first 10 cases, the feature is clearly correlated with those electing to stay. \n",
    "\n",
    "> Customers with one and two year contracts are much less likely to churn. \n",
    "__Opportunity: Offer promotion to switch to long term contracts.__\n"
   ]
  },
  {
   "cell_type": "code",
   "execution_count": 47,
   "metadata": {},
   "outputs": [
    {
     "data": {
      "text/plain": [
       "Text(0.5, 0, 'Churn')"
      ]
     },
     "execution_count": 47,
     "metadata": {},
     "output_type": "execute_result"
    },
    {
     "data": {
      "image/png": "[encoded data removed]",
      "text/plain": [
       "<Figure size 864x432 with 1 Axes>"
      ]
     },
     "metadata": {},
     "output_type": "display_data"
    }
   ],
   "source": [
    "plot_data = pd.read_csv(\"Telco_Customer_Churn.csv\")\n",
    " \n",
    "plt.figure(figsize=(12,6))\n",
    "ax = sns.countplot(x=\"Churn\", hue=\"Contract\", data = plot_data);\n",
    "ax.set_title('Contract Type vs Churn', fontsize=20)\n",
    "ax.set_ylabel('Number of Customers', fontsize = 15)\n",
    "ax.set_xlabel('Churn', fontsize = 15)"
   ]
  },
  {
   "cell_type": "markdown",
   "metadata": {},
   "source": [
    "__Internet Service (highly correlated)__\n",
    "\n",
    "While LIME did not indicate this as a primary feature in the first 10 cases, the feature is clearly correlated with those electing to stay. Customers with fiber optic service are more likely to churn while those with no internet service are less likely to churn. Improvement Area: Customers may be dissatisfied with fiber optic service."
   ]
  },
  {
   "cell_type": "code",
   "execution_count": 48,
   "metadata": {},
   "outputs": [
    {
     "data": {
      "text/plain": [
       "Text(0.5, 0, 'Churn')"
      ]
     },
     "execution_count": 48,
     "metadata": {},
     "output_type": "execute_result"
    },
    {
     "data": {
      "image/png": "[encoded data removed]",
      "text/plain": [
       "<Figure size 864x432 with 1 Axes>"
      ]
     },
     "metadata": {},
     "output_type": "display_data"
    }
   ],
   "source": [
    "plot_data = pd.read_csv(\"Telco_Customer_Churn.csv\")\n",
    " \n",
    "plt.figure(figsize=(12,6))\n",
    "ax = sns.countplot(x=\"Churn\", hue=\"InternetService\", data = plot_data);\n",
    "ax.set_title('Internet Service vs Churn', fontsize=20)\n",
    "ax.set_ylabel('Number of Customers', fontsize = 15)\n",
    "ax.set_xlabel('Churn', fontsize = 15)"
   ]
  },
  {
   "cell_type": "markdown",
   "metadata": {},
   "source": [
    "__Payment Method (highly correlated)__\n",
    "\n",
    "While LIME did not indicate this as a primary feature in the first 10 cases, the feature is clearly correlated with those electing to stay. \n",
    "\n",
    ">Customers with electronic check are more likely to leave. __Opportunity: Offer customers a promotion to switch to automatic payments.__"
   ]
  },
  {
   "cell_type": "code",
   "execution_count": 49,
   "metadata": {},
   "outputs": [
    {
     "data": {
      "text/plain": [
       "Text(0.5, 0, 'Churn')"
      ]
     },
     "execution_count": 49,
     "metadata": {},
     "output_type": "execute_result"
    },
    {
     "data": {
      "image/png": "[encoded data removed]",
      "text/plain": [
       "<Figure size 864x432 with 1 Axes>"
      ]
     },
     "metadata": {},
     "output_type": "display_data"
    }
   ],
   "source": [
    "plot_data = pd.read_csv(\"Telco_Customer_Churn.csv\")\n",
    " \n",
    "plt.figure(figsize=(12,6))\n",
    "ax = sns.countplot(x=\"Churn\", hue=\"PaymentMethod\", data = plot_data);\n",
    "ax.set_title('PaymentMethod vs Churn', fontsize=20)\n",
    "ax.set_ylabel('Number of Customers', fontsize = 15)\n",
    "ax.set_xlabel('Churn', fontsize = 15)"
   ]
  },
  {
   "cell_type": "markdown",
   "metadata": {},
   "source": [
    "__Senior Citizen (5/10 LIME CASES)__\n",
    "\n",
    "Senior citizen appeared in several of the LIME cases indicating it was important to the ANN for the 10 samples. However, it was not highly correlated to Churn, which may indicate that the ANN is using in an more sophisticated manner (e.g. as an interaction). \n",
    "\n",
    ">It’s difficult to say that senior citizens are more likely to leave, but non-senior citizens appear less at risk of churning. __Opportunity: Target users in the lower age demographic.__\n"
   ]
  },
  {
   "cell_type": "code",
   "execution_count": 50,
   "metadata": {},
   "outputs": [
    {
     "data": {
      "text/plain": [
       "Text(0.5, 0, 'Churn')"
      ]
     },
     "execution_count": 50,
     "metadata": {},
     "output_type": "execute_result"
    },
    {
     "data": {
      "image/png": "[encoded data removed]",
      "text/plain": [
       "<Figure size 864x432 with 1 Axes>"
      ]
     },
     "metadata": {},
     "output_type": "display_data"
    }
   ],
   "source": [
    "plot_data = pd.read_csv(\"Telco_Customer_Churn.csv\")\n",
    " \n",
    "plt.figure(figsize=(12,6))\n",
    "ax = sns.countplot(x=\"Churn\", hue=\"SeniorCitizen\", data = plot_data);\n",
    "ax.set_title('Senior Citizen vs Churn', fontsize=20)\n",
    "ax.set_ylabel('Number of Customers', fontsize = 15)\n",
    "ax.set_xlabel('Churn', fontsize = 15)"
   ]
  },
  {
   "cell_type": "markdown",
   "metadata": {},
   "source": [
    "__Online Security (4/10 LIME CASES)__\n",
    "\n",
    "Customers that did not sign up for online security were more likely to leave while customers with no internet service or online security were less likely to leave. __Opportunity: Promote online security and other packages that increase retention rates.__"
   ]
  },
  {
   "cell_type": "code",
   "execution_count": 51,
   "metadata": {},
   "outputs": [
    {
     "data": {
      "text/plain": [
       "Text(0.5, 0, 'Churn')"
      ]
     },
     "execution_count": 51,
     "metadata": {},
     "output_type": "execute_result"
    },
    {
     "data": {
      "image/png": "[encoded data removed]",
      "text/plain": [
       "<Figure size 864x432 with 1 Axes>"
      ]
     },
     "metadata": {},
     "output_type": "display_data"
    }
   ],
   "source": [
    "plot_data = pd.read_csv(\"Telco_Customer_Churn.csv\")\n",
    " \n",
    "plt.figure(figsize=(12,6))\n",
    "ax = sns.countplot(x=\"Churn\", hue=\"OnlineSecurity\", data = plot_data);\n",
    "ax.set_title('Online Security vs Churn', fontsize=20)\n",
    "ax.set_ylabel('Number of Customers', fontsize = 15)\n",
    "ax.set_xlabel('Churn', fontsize = 15)"
   ]
  },
  {
   "cell_type": "markdown",
   "metadata": {},
   "source": [
    "### Conclusions\n",
    "\n",
    "Customer churn is a costly problem. The good news is that machine learning can solve churn problems, making the organization more profitable in the process. In this article, we saw how Deep Learning can be used to predict customer churn. We built an ANN model using the new keras package that achieved 73% predictive accuracy! We checked our results with a Correlation Analysis, which brought to light other features to investigate. For the IBM Telco dataset, tenure, contract type, internet service type, payment menthod, senior citizen status, and online security status were useful in diagnosing customer churn."
   ]
  }
 ],
 "metadata": {
  "kernelspec": {
   "display_name": "Python 3",
   "language": "python",
   "name": "python3"
  },
  "language_info": {
   "codemirror_mode": {
    "name": "ipython",
    "version": 3
   },
   "file_extension": ".py",
   "mimetype": "text/x-python",
   "name": "python",
   "nbconvert_exporter": "python",
   "pygments_lexer": "ipython3",
   "version": "3.6.8"
  }
 },
 "nbformat": 4,
 "nbformat_minor": 2
}
